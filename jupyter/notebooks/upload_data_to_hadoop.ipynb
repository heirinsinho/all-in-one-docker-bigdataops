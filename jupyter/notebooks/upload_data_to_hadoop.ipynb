{
 "cells": [
  {
   "cell_type": "code",
   "execution_count": null,
   "id": "828a5540-621f-45ab-92a7-ca04ac281534",
   "metadata": {},
   "outputs": [
    {
     "data": {
      "text/plain": [
       "'/input/data'"
      ]
     },
     "execution_count": 1,
     "metadata": {},
     "output_type": "execute_result"
    }
   ],
   "source": [
    "# LOAD LOCAL FILES INTO HADOOP\n",
    "from hdfs import InsecureClient\n",
    "\n",
    "client = InsecureClient(\"http://namenode:9870\")\n",
    "client.upload(\"/input\", \"/home/jovyan/data\", overwrite=True)"
   ]
  },
  {
   "cell_type": "code",
   "execution_count": null,
   "id": "ad0f1d1f-454e-47f2-b352-37c3bcbbd629",
   "metadata": {},
   "outputs": [],
   "source": [
    "# DOWNLOAD HADOOP FILES TO LOCAL\n",
    "from hdfs import InsecureClient\n",
    "\n",
    "hdfs_path = \"/input\"\n",
    "local_path = \"/home/jovyan/data\"\n",
    "client = InsecureClient(\"http://namenode:9870\")\n",
    "client.download(hdfs_path, local_path)"
   ]
  }
 ],
 "metadata": {
  "kernelspec": {
   "display_name": "Python 3 (ipykernel)",
   "language": "python",
   "name": "python3"
  },
  "language_info": {
   "codemirror_mode": {
    "name": "ipython",
    "version": 3
   },
   "file_extension": ".py",
   "mimetype": "text/x-python",
   "name": "python",
   "nbconvert_exporter": "python",
   "pygments_lexer": "ipython3",
   "version": "3.11.6"
  }
 },
 "nbformat": 4,
 "nbformat_minor": 5
}
