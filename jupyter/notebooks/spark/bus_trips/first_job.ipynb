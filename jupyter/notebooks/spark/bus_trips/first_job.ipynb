{
 "cells": [
  {
   "cell_type": "code",
   "execution_count": null,
   "metadata": {},
   "outputs": [
    {
     "name": "stderr",
     "output_type": "stream",
     "text": [
      "Setting default log level to \"WARN\".\n",
      "To adjust logging level use sc.setLogLevel(newLevel). For SparkR, use setLogLevel(newLevel).\n",
      "24/11/16 15:26:59 WARN NativeCodeLoader: Unable to load native-hadoop library for your platform... using builtin-java classes where applicable\n",
      "                                                                                \r"
     ]
    }
   ],
   "source": [
    "from pyspark.sql import SparkSession\n",
    "import pyspark.sql.functions as F\n",
    "from pyspark.sql.window import Window\n",
    "\n",
    "\n",
    "spark = (\n",
    "    SparkSession.builder.master(\"spark://spark-master:7077\")\n",
    "    .appName(\"ejemplo_DF\")\n",
    "    .getOrCreate()\n",
    ")\n",
    "\n",
    "df = spark.read.option(\"header\", \"true\").csv(\n",
    "    \"hdfs://namenode:9000/input/data/bus_trips.csv\"\n",
    ")\n",
    "\n",
    "# Filter for only regular services\n",
    "df = df.filter(F.col(\"trip_type\") == \"regular\")"
   ]
  },
  {
   "cell_type": "code",
   "execution_count": 2,
   "metadata": {},
   "outputs": [
    {
     "name": "stdout",
     "output_type": "stream",
     "text": [
      "+---------+--------+-----------+--------+---------+-----------+------------+------------+-----------------+----+-----+----+--------------------------+----+------+------------------------+-------------------+---------------------+-------------------+-----------------+\n",
      "|trip_code| company|line_number|     bus|trip_type|     origin|origin_state| destination|destination_state|year|month| day|trip_start_hour_and_minute|hour|minute|trip_end_hour_and_minute|trip_duration_hours|travelled_distance_km|delay_start_minutes|delay_end_minutes|\n",
      "+---------+--------+-----------+--------+---------+-----------+------------+------------+-----------------+----+-----+----+--------------------------+----+------+------------------------+-------------------+---------------------+-------------------+-----------------+\n",
      "| 554e2d76|7980c0ae|   83ed87ea|3b3307d2|  regular|  TRES RIOS|          RJ|JUIZ DE FORA|               MG|2019| null|   1|                       528|   5|    28|                     652|               1.39|    67.97099999999999|              -1.55|           -47.55|\n",
      "| c5f130e7|7980c0ae|   83ed87ea|651283f4|  regular|  TRES RIOS|          RJ|JUIZ DE FORA|               MG|2019|    1|   1|                      null|null|    30|                     653|               1.39|    67.97099999999999| 0.0166666666666666|    -45.983333333|\n",
      "| 09644e23|7980c0ae|   83ed87ea|3b3307d2|  regular|  TRES RIOS|          RJ|JUIZ DE FORA|               MG|2019|    1|null|                       729|   7|    29|                     852|               1.38|                 null|-0.3166666666666666|    -46.316666667|\n",
      "| 7e637eb5|7980c0ae|   83ed87ea|651283f4|  regular|  TRES RIOS|          RJ|JUIZ DE FORA|               MG|2019|    1|   1|                       730|   7|    30|                    null|               null|    71.39399999999999| 0.8333333333333334|             null|\n",
      "| 99db53b2|7980c0ae|   83ed87ea|8ddac9ca|  regular|  TRES RIOS|          RJ|JUIZ DE FORA|               MG|null|    1|   1|                       832|   8|  null|                    1014|                1.7|                83.13|               null|            -58.4|\n",
      "| fe711e4e|7980c0ae|   83ed87ea|651283f4|  regular|  TRES RIOS|          RJ|JUIZ DE FORA|               MG|2019|    1|   1|                      1031|  10|    31|                    1207|                1.6|    78.24000000000001| 1.1833333333333331|    -44.816666667|\n",
      "| 89762ed8|7980c0ae|   83ed87ea|fff5074b|  regular|  TRES RIOS|          RJ|JUIZ DE FORA|               MG|2019|    1|   1|                      1031|  10|    31|                    1047|               0.27|               13.203| 1.4833333333333334|    -44.516666667|\n",
      "| f7c75265|7980c0ae|   83ed87ea|651283f4|  regular|  TRES RIOS|          RJ|JUIZ DE FORA|               MG|2019|    1|   1|                      1232|  12|    32|                    1411|               1.66|    81.17399999999999|               2.05|           -43.95|\n",
      "| 7e84c698|7980c0ae|   83ed87ea|8ddac9ca|  regular|  TRES RIOS|          RJ|JUIZ DE FORA|               MG|2019|    1|   1|                      1328|  13|    28|                    1453|               1.42|    69.43799999999999|-1.7166666666666666|    -47.716666667|\n",
      "| e0e0533b|7980c0ae|   83ed87ea|8ddac9ca|  regular|  TRES RIOS|          RJ|JUIZ DE FORA|               MG|2019|    1|   1|                      1630|  16|    30|                    1755|               1.42|    69.43799999999999| 14.433333333333334|    -31.566666667|\n",
      "| 07587e3c|7980c0ae|   83ed87ea|3a25eae3|  regular|  TRES RIOS|          RJ|JUIZ DE FORA|               MG|2019|    1|   1|                      1715|  17|    15|                    1853|               1.64|               80.196| 0.4333333333333333|    -45.566666667|\n",
      "| 1098c74f|7980c0ae|   83ed87ea|4f585ebb|  regular|  TRES RIOS|          RJ|JUIZ DE FORA|               MG|2019|    1|   1|                      1716|  17|    16|                    1926|               2.17|              106.113|                1.2|            -44.8|\n",
      "| 17f50356|7980c0ae|   83ed87ea|8ddac9ca|  regular|  TRES RIOS|          RJ|JUIZ DE FORA|               MG|2019|    1|   1|                      1846|  18|    46|                    2021|               1.59|               77.751| 0.9833333333333332|    -45.016666667|\n",
      "| 1e434f7d|7980c0ae|   83ed87ea|4f585ebb|  regular|  TRES RIOS|          RJ|JUIZ DE FORA|               MG|2019|    1|   1|                      2033|  20|    33|                    2211|               1.64|               80.196|  3.466666666666667|    -42.533333333|\n",
      "| b79f26a7|7980c0ae|   83ed87ea|8ddac9ca|  regular|  TRES RIOS|          RJ|JUIZ DE FORA|               MG|2019|    1|   1|                      2046|  20|    46|                    2221|                1.6|    78.24000000000001| 0.7166666666666667|    -45.283333333|\n",
      "| 2e96771d|7980c0ae|   83ed87ea|4f585ebb|  regular|  TRES RIOS|          RJ|JUIZ DE FORA|               MG|2019|    1|   1|                      2226|  22|    26|                      18|               1.86|               90.954|              -3.35|           -49.35|\n",
      "| c7f5d228|7980c0ae|   83ed87ea|651283f4|  regular|  TRES RIOS|          RJ|JUIZ DE FORA|               MG|null|    1|   2|                       530|   5|    30|                     658|               1.47|               71.883|               0.25|           -45.75|\n",
      "| 5efc8392|7980c0ae|   83ed87ea|ae4930aa|  regular|  TRES RIOS|          RJ|JUIZ DE FORA|               MG|2019|    1|   2|                       536|   5|    36|                     711|               1.57|               76.773|  6.933333333333334|    -39.066666667|\n",
      "| b944ae95|7980c0ae|   79c48c92|294b1c86|  regular|BARRA MANSA|          RJ|   CARANGOLA|               MG|2019|    1|   2|                       547|   5|    47|                    1601|              10.24|              500.736|-0.1166666666666666|    -46.116666667|\n",
      "| 378d465c|7980c0ae|   83ed87ea|0f28b213|  regular|  TRES RIOS|          RJ|JUIZ DE FORA|               MG|2019|    1|   2|                       732|   7|    32|                     906|               1.58|               77.262|  2.183333333333333|    -43.816666667|\n",
      "+---------+--------+-----------+--------+---------+-----------+------------+------------+-----------------+----+-----+----+--------------------------+----+------+------------------------+-------------------+---------------------+-------------------+-----------------+\n",
      "only showing top 20 rows\n",
      "\n"
     ]
    }
   ],
   "source": [
    "df.show()"
   ]
  },
  {
   "cell_type": "code",
   "execution_count": 18,
   "metadata": {},
   "outputs": [
    {
     "data": {
      "text/plain": [
       "0"
      ]
     },
     "execution_count": 18,
     "metadata": {},
     "output_type": "execute_result"
    }
   ],
   "source": [
    "df.groupby(\"trip_code\").count().filter(F.col(\"count\") > 1).count()"
   ]
  },
  {
   "cell_type": "code",
   "execution_count": 21,
   "metadata": {},
   "outputs": [
    {
     "data": {
      "text/plain": [
       "2327"
      ]
     },
     "execution_count": 21,
     "metadata": {},
     "output_type": "execute_result"
    }
   ],
   "source": [
    "df.groupby(\"line_number\").count().filter(F.col(\"count\") > 0).count()"
   ]
  },
  {
   "cell_type": "code",
   "execution_count": null,
   "metadata": {},
   "outputs": [
    {
     "name": "stderr",
     "output_type": "stream",
     "text": [
      "                                                                                \r"
     ]
    }
   ],
   "source": [
    "from pyspark.sql.window import Window\n",
    "\n",
    "w = Window.partitionBy(\"line_number\")\n",
    "\n",
    "# Convert necessary columns to numeric types\n",
    "df = (\n",
    "    df.withColumn(\n",
    "        \"trip_duration_hours\",\n",
    "        F.coalesce(\n",
    "            F.col(\"trip_duration_hours\"), F.avg(\"trip_duration_hours\").over(w)\n",
    "        ).cast(\"float\"),\n",
    "    )\n",
    "    .withColumn(\n",
    "        \"delay_start_minutes\",\n",
    "        F.coalesce(F.col(\"delay_start_minutes\"), F.lit(0)).cast(\"float\"),\n",
    "    )\n",
    "    .withColumn(\n",
    "        \"delay_end_minutes\",\n",
    "        F.coalesce(F.col(\"delay_end_minutes\"), F.lit(0)).cast(\"float\"),\n",
    "    )\n",
    "    .withColumn(\n",
    "        \"travelled_distance_km\",\n",
    "        F.coalesce(\n",
    "            F.col(\"travelled_distance_km\"), F.avg(\"trip_duration_hours\").over(w)\n",
    "        ).cast(\"float\"),\n",
    "    )\n",
    ")\n",
    "\n",
    "# Calculate total delay, delay percentage, and average speed\n",
    "df = (\n",
    "    df.withColumn(\n",
    "        \"total_delay_minutes\", F.col(\"delay_start_minutes\") + F.col(\"delay_end_minutes\")\n",
    "    )\n",
    "    .withColumn(\n",
    "        \"delay_percentage\",\n",
    "        (F.col(\"total_delay_minutes\") / (F.col(\"trip_duration_hours\") * 60)) * 100,\n",
    "    )\n",
    "    .withColumn(\n",
    "        \"speed_kmh\",\n",
    "        F.round(F.col(\"travelled_distance_km\") / F.col(\"trip_duration_hours\"), 2),\n",
    "    )\n",
    ")\n",
    "\n",
    "# Fake the dates. If year 2020 we use month = 8 If year 2019, month = 7 and drop year\n",
    "df = df.withColumn(\"month\", F.when(F.col(\"year\") == 2019, 7).otherwise(8))\n",
    "df = df.withColumn(\"year\", F.lit(2024))\n",
    "df = df.withColumn(\"date\", F.make_date(F.col(\"year\"), F.col(\"month\"), F.col(\"day\")))\n",
    "df = df.drop(\"trip_type\", \"year\", \"day\")\n",
    "\n",
    "# Save the intermediate table with partitioning by `day`\n",
    "df.coalesce(1).write.mode(\"overwrite\").partitionBy(\"date\").bucketBy(\n",
    "    4, \"line_number\"\n",
    ").format(\"parquet\").option(\n",
    "    \"path\", \"hdfs://namenode:9000/output/bus_trips/intermediate\"\n",
    ").saveAsTable(\"intermediate\")"
   ]
  },
  {
   "cell_type": "code",
   "execution_count": null,
   "metadata": {},
   "outputs": [
    {
     "name": "stderr",
     "output_type": "stream",
     "text": [
      "                                                                                \r"
     ]
    },
    {
     "name": "stdout",
     "output_type": "stream",
     "text": [
      "+--------+-----------+--------------------+\n",
      "| company|line_number|            line_key|\n",
      "+--------+-----------+--------------------+\n",
      "|94179ee0|   3435ac8b|TEOFILO OTONI-VIT...|\n",
      "|808be8bd|   7d1c7a7b|    FORTALEZA-RECIFE|\n",
      "|95480e8f|   c2583349|    CAMPINAS-MARINGA|\n",
      "|bf040c87|   9afa9729| CURITIBA-RIO DO SUL|\n",
      "|68f76547|   148fbe87|BELO HORIZONTE-CO...|\n",
      "|1c31a7b3|   9cf36911| CARANGOLA-ITAPERUNA|\n",
      "|bf040c87|   57776c2b|   BLUMENAU-CURITIBA|\n",
      "|1dffde3c|   98d99196|APARECIDA-VOLTA R...|\n",
      "|1dffde3c|   e8acc322|RIO DE JANEIRO-VA...|\n",
      "|d7951af4|   4ef44285|  FORTALEZA-TERESINA|\n",
      "|94179ee0|   cb59a396|GOVERNADOR VALADA...|\n",
      "|9caca56e|   01c699f3|    CURITIBA-ITARARE|\n",
      "|cf535160|   86c5e497|    BOA VISTA-MANAUS|\n",
      "|a4b92c82|   c0c0f650|  GOIANIA-UBERLANDIA|\n",
      "|808be8bd|   2879bded|CAMPINA GRANDE-FO...|\n",
      "|663c9c5c|   56fb9224|ANDRELANDIA-SAO P...|\n",
      "|9bcede42|   fb2e26bd|   DOURADOS-LONDRINA|\n",
      "|bf040c87|   a82134b3|FLORIANOPOLIS-SAO...|\n",
      "|94179ee0|   3c150c3f|LINHARES-TEIXEIRA...|\n",
      "|68f76547|   e8905f50|ITAPETINGA-RIO DE...|\n",
      "+--------+-----------+--------------------+\n",
      "only showing top 20 rows\n",
      "\n"
     ]
    }
   ],
   "source": [
    "# Create a standardized key for each line to combine two-way trips\n",
    "df_lines = df.withColumn(\n",
    "    \"line_key\",\n",
    "    F.when(\n",
    "        F.col(\"origin\") < F.col(\"destination\"),\n",
    "        F.concat_ws(\"-\", F.col(\"origin\"), F.col(\"destination\")),\n",
    "    ).otherwise(F.concat_ws(\"-\", F.col(\"destination\"), F.col(\"origin\"))),\n",
    ")\n",
    "\n",
    "# Aggregate data to keep only unique two-way records per line\n",
    "lines_df = df_lines.select(\"company\", \"line_number\", \"line_key\").distinct()\n",
    "\n",
    "# Save this as a second intermediate table\n",
    "lines_df.write.mode(\"overwrite\").parquet(\"hdfs://namenode:9000/output/bus_trips/lines\")\n",
    "\n",
    "# Show results for verification\n",
    "lines_df.show()"
   ]
  },
  {
   "cell_type": "code",
   "execution_count": 6,
   "metadata": {},
   "outputs": [
    {
     "data": {
      "text/plain": [
       "2328"
      ]
     },
     "execution_count": 6,
     "metadata": {},
     "output_type": "execute_result"
    }
   ],
   "source": [
    "lines_df.count()"
   ]
  },
  {
   "cell_type": "code",
   "execution_count": null,
   "metadata": {},
   "outputs": [
    {
     "name": "stderr",
     "output_type": "stream",
     "text": [
      "                                                                                \r"
     ]
    }
   ],
   "source": [
    "df = spark.read.parquet(\"hdfs://namenode:9000/output/bus_trips/intermediate\")\n",
    "\n",
    "# Define a window across all lines for comparison\n",
    "window_spec = (\n",
    "    Window.partitionBy(\"line_number\")\n",
    "    .orderBy(\"date\")\n",
    "    .rowsBetween(Window.unboundedPreceding, 0)\n",
    ")\n",
    "\n",
    "# Groups all the trips within one date\n",
    "df = df.groupby(\"date\", \"line_number\").agg(\n",
    "    F.avg(\"delay_percentage\").alias(\"delay_percentage\"),\n",
    "    F.avg(\"trip_duration_hours\").alias(\"trip_duration_hours\"),\n",
    ")\n",
    "# Join overall statistics with trip summary and calculate ratios\n",
    "trip_summary_ratios_df = (\n",
    "    df.withColumn(\n",
    "        \"avg_delay_ratio\",\n",
    "        F.col(\"delay_percentage\") / F.avg(\"delay_percentage\").over(window_spec),\n",
    "    )\n",
    "    .withColumn(\n",
    "        \"max_delay_ratio\",\n",
    "        F.col(\"delay_percentage\") / F.max(\"delay_percentage\").over(window_spec),\n",
    "    )\n",
    "    .withColumn(\n",
    "        \"avg_trip_duration_hours\",\n",
    "        F.col(\"trip_duration_hours\") / F.avg(\"trip_duration_hours\").over(window_spec),\n",
    "    )\n",
    "    .withColumn(\n",
    "        \"max_trip_duration_hours\",\n",
    "        F.col(\"trip_duration_hours\") / F.max(\"trip_duration_hours\").over(window_spec),\n",
    "    )\n",
    ")\n",
    "\n",
    "trip_summary_ratios_df = trip_summary_ratios_df.drop(\n",
    "    \"delay_percentage\", \"trip_duration_hours\"\n",
    ")\n",
    "\n",
    "# Save results as the final output\n",
    "trip_summary_ratios_df.write.partitionBy(\"date\").mode(\"overwrite\").parquet(\n",
    "    \"hdfs://namenode:9000/output/bus_trips/stats\"\n",
    ")"
   ]
  },
  {
   "cell_type": "code",
   "execution_count": 7,
   "metadata": {},
   "outputs": [
    {
     "name": "stderr",
     "output_type": "stream",
     "text": [
      "                                                                                \r"
     ]
    },
    {
     "data": {
      "text/plain": [
       "39506"
      ]
     },
     "execution_count": 7,
     "metadata": {},
     "output_type": "execute_result"
    }
   ],
   "source": [
    "trip_summary_ratios_df.count()"
   ]
  },
  {
   "cell_type": "code",
   "execution_count": 10,
   "metadata": {},
   "outputs": [
    {
     "name": "stderr",
     "output_type": "stream",
     "text": [
      "[Stage 42:==============>                                           (2 + 6) / 8]\r"
     ]
    },
    {
     "name": "stdout",
     "output_type": "stream",
     "text": [
      "+----------+-----------+-------------------+--------------------+-----------------------+-----------------------+\n",
      "|      date|line_number|    avg_delay_ratio|     max_delay_ratio|avg_trip_duration_hours|max_trip_duration_hours|\n",
      "+----------+-----------+-------------------+--------------------+-----------------------+-----------------------+\n",
      "|2024-07-02|   000cfbc6|                1.0|                 1.0|                    1.0|                    1.0|\n",
      "|2024-07-03|   000cfbc6|-0.6884187248847855|-0.25606826738431093|     1.0434947756308663|                    1.0|\n",
      "|2024-07-04|   000cfbc6| 1.5984731111606694|   0.848470964485128|     0.9600929982090063|     0.9020750071265196|\n",
      "|2024-07-05|   000cfbc6|-1.2352197773714777| -0.3757181911446315|      0.864864873213882|     0.7775755516096283|\n",
      "|2024-07-06|   000cfbc6| -2.968608153754544|-0.45326103068910006|     1.0487160653276284|     0.9544957793402483|\n",
      "|2024-07-07|   000cfbc6| -5.601887082981342|-0.36861349143939864|     1.0747914992043215|     0.9930833442952067|\n",
      "|2024-07-09|   000cfbc6|-2.6724774988692124|-0.10908485424047383|       1.02483043763206|     0.9508554652949865|\n",
      "|2024-07-10|   000cfbc6| 4.0995626004864905| 0.30031197409321164|     0.9942570905881857|     0.9217327793481985|\n",
      "|2024-07-11|   000cfbc6|-12.355689932069186| -0.3390615224699335|     1.0628111222608656|     0.9930833442952067|\n",
      "|2024-07-13|   000cfbc6| -8.015461566689382|-0.10988468276404258|     2.5569481714007134|                    1.0|\n",
      "|2024-07-14|   000cfbc6| 16.024089729313193|-0.43724475002128543|     0.7950381182097883|     0.3046875015021332|\n",
      "|2024-07-17|   000cfbc6|  6.140279214174881| -0.3145249617247731|     0.7969861602921738|    0.29989918162823354|\n",
      "|2024-07-18|   000cfbc6| 4.7251212206459705|-0.35099389151779237|      0.635560157923627|    0.23210685401495923|\n",
      "|2024-07-19|   000cfbc6|  2.766603341475288| -0.2378295197020286|     1.6239881886067915|     0.6229838729059783|\n",
      "|2024-07-20|   000cfbc6| -38.92362624571491|  0.8687225625298772|     0.8116025373125421|    0.30720764835259495|\n",
      "|2024-07-21|   000cfbc6|  8.575787563844406|-0.38670758502765984|     0.8830177502084782|    0.33165321941027165|\n",
      "|2024-07-23|   000cfbc6| 3.9834704877314926| -0.2207979594759763|     0.8145175782561448|    0.30241935251282603|\n",
      "|2024-07-24|   000cfbc6|  4.548017854956076|-0.31857981205921443|      0.910900121637082|     0.3364415392841713|\n",
      "|2024-07-25|   000cfbc6|  4.112049236692926|-0.34825068402896414|     0.9581556209601518|     0.3530745998269158|\n",
      "|2024-07-26|   000cfbc6| -26.38778696723456|  0.9153487402910797|     0.8525595649445472|    0.31174394633120917|\n",
      "+----------+-----------+-------------------+--------------------+-----------------------+-----------------------+\n",
      "only showing top 20 rows\n",
      "\n"
     ]
    },
    {
     "name": "stderr",
     "output_type": "stream",
     "text": [
      "                                                                                \r"
     ]
    }
   ],
   "source": [
    "trip_summary_ratios_df.show()"
   ]
  },
  {
   "cell_type": "code",
   "execution_count": 3,
   "metadata": {},
   "outputs": [],
   "source": [
    "spark.stop()"
   ]
  },
  {
   "cell_type": "code",
   "execution_count": null,
   "metadata": {},
   "outputs": [],
   "source": []
  }
 ],
 "metadata": {
  "kernelspec": {
   "display_name": "Python 3 (ipykernel)",
   "language": "python",
   "name": "python3"
  },
  "language_info": {
   "codemirror_mode": {
    "name": "ipython",
    "version": 3
   },
   "file_extension": ".py",
   "mimetype": "text/x-python",
   "name": "python",
   "nbconvert_exporter": "python",
   "pygments_lexer": "ipython3",
   "version": "3.11.6"
  }
 },
 "nbformat": 4,
 "nbformat_minor": 4
}
