{
 "cells": [
  {
   "cell_type": "code",
   "execution_count": null,
   "id": "fa7779d7-63c6-42d6-ae81-85160928ffec",
   "metadata": {},
   "outputs": [
    {
     "name": "stderr",
     "output_type": "stream",
     "text": [
      "Setting default log level to \"WARN\".\n",
      "To adjust logging level use sc.setLogLevel(newLevel). For SparkR, use setLogLevel(newLevel).\n",
      "24/11/04 16:37:23 WARN NativeCodeLoader: Unable to load native-hadoop library for your platform... using builtin-java classes where applicable\n"
     ]
    },
    {
     "data": {
      "text/html": [
       "\n",
       "            <div>\n",
       "                <p><b>SparkSession - in-memory</b></p>\n",
       "                \n",
       "        <div>\n",
       "            <p><b>SparkContext</b></p>\n",
       "\n",
       "            <p><a href=\"http://6b6be731e9f1:4040\">Spark UI</a></p>\n",
       "\n",
       "            <dl>\n",
       "              <dt>Version</dt>\n",
       "                <dd><code>v3.4.4</code></dd>\n",
       "              <dt>Master</dt>\n",
       "                <dd><code>spark://spark-master:7077</code></dd>\n",
       "              <dt>AppName</dt>\n",
       "                <dd><code>Pivot & Un-Pivot</code></dd>\n",
       "            </dl>\n",
       "        </div>\n",
       "        \n",
       "            </div>\n",
       "        "
      ],
      "text/plain": [
       "<pyspark.sql.session.SparkSession at 0x7fbf0b94f7d0>"
      ]
     },
     "execution_count": 1,
     "metadata": {},
     "output_type": "execute_result"
    }
   ],
   "source": [
    "# Create Spark Session\n",
    "\n",
    "from pyspark.sql import SparkSession\n",
    "\n",
    "spark = (\n",
    "    SparkSession.builder.appName(\"Pivot & Un-Pivot\")\n",
    "    .master(\"spark://spark-master:7077\")\n",
    "    .getOrCreate()\n",
    ")\n",
    "\n",
    "spark"
   ]
  },
  {
   "cell_type": "code",
   "execution_count": null,
   "id": "6fb0ff7c-2d16-48a4-bc47-54df038d39bb",
   "metadata": {},
   "outputs": [
    {
     "name": "stderr",
     "output_type": "stream",
     "text": [
      "                                                                                \r"
     ]
    },
    {
     "name": "stdout",
     "output_type": "stream",
     "text": [
      "+--------+-------+-----+\n",
      "|NAME    |SUBJECT|MARKS|\n",
      "+--------+-------+-----+\n",
      "|Ramesh  |PHY    |90   |\n",
      "|Ramesh  |MATH   |95   |\n",
      "|Ramesh  |CHEM   |100  |\n",
      "|Sangeeta|PHY    |90   |\n",
      "|Sangeeta|MATH   |100  |\n",
      "|Sangeeta|CHEM   |83   |\n",
      "|Mohan   |BIO    |90   |\n",
      "|Mohan   |MATH   |70   |\n",
      "|Mohan   |CHEM   |76   |\n",
      "|Imran   |PHY    |96   |\n",
      "|Imran   |MATH   |87   |\n",
      "|Imran   |CHEM   |79   |\n",
      "|Imran   |BIO    |82   |\n",
      "+--------+-------+-----+\n",
      "\n"
     ]
    }
   ],
   "source": [
    "# Example Data Set\n",
    "\n",
    "_data = [\n",
    "    [\"Ramesh\", \"PHY\", 90],\n",
    "    [\"Ramesh\", \"MATH\", 95],\n",
    "    [\"Ramesh\", \"CHEM\", 100],\n",
    "    [\"Sangeeta\", \"PHY\", 90],\n",
    "    [\"Sangeeta\", \"MATH\", 100],\n",
    "    [\"Sangeeta\", \"CHEM\", 83],\n",
    "    [\"Mohan\", \"BIO\", 90],\n",
    "    [\"Mohan\", \"MATH\", 70],\n",
    "    [\"Mohan\", \"CHEM\", 76],\n",
    "    [\"Imran\", \"PHY\", 96],\n",
    "    [\"Imran\", \"MATH\", 87],\n",
    "    [\"Imran\", \"CHEM\", 79],\n",
    "    [\"Imran\", \"BIO\", 82],\n",
    "]\n",
    "\n",
    "_cols = [\"NAME\", \"SUBJECT\", \"MARKS\"]\n",
    "\n",
    "# Generate Data Frame\n",
    "df = spark.createDataFrame(data=_data, schema=_cols)\n",
    "df.show(truncate=False)"
   ]
  },
  {
   "cell_type": "markdown",
   "id": "f381be37-7673-44f5-9ffb-541f3b9110fe",
   "metadata": {},
   "source": [
    "### Method 1 - Without specifying column names"
   ]
  },
  {
   "cell_type": "code",
   "execution_count": null,
   "id": "1e355451-b115-407c-a0cb-22a00cb5bfcb",
   "metadata": {},
   "outputs": [
    {
     "name": "stderr",
     "output_type": "stream",
     "text": [
      "                                                                                \r"
     ]
    },
    {
     "name": "stdout",
     "output_type": "stream",
     "text": [
      "root\n",
      " |-- NAME: string (nullable = true)\n",
      " |-- BIO: long (nullable = true)\n",
      " |-- CHEM: long (nullable = true)\n",
      " |-- MATH: long (nullable = true)\n",
      " |-- PHY: long (nullable = true)\n",
      "\n",
      "+--------+----+----+----+----+\n",
      "|NAME    |BIO |CHEM|MATH|PHY |\n",
      "+--------+----+----+----+----+\n",
      "|Mohan   |90  |76  |70  |null|\n",
      "|Ramesh  |null|100 |95  |90  |\n",
      "|Imran   |82  |79  |87  |96  |\n",
      "|Sangeeta|null|83  |100 |90  |\n",
      "+--------+----+----+----+----+\n",
      "\n"
     ]
    }
   ],
   "source": [
    "# Pivot data without specifying the column names(values) and checking the execution time\n",
    "from pyspark.sql import functions as F\n",
    "\n",
    "pivot_df_1 = df.groupBy(\"NAME\").pivot(\"SUBJECT\").agg(F.sum(\"MARKS\"))\n",
    "pivot_df_1.printSchema()\n",
    "pivot_df_1.show(truncate=False)"
   ]
  },
  {
   "cell_type": "code",
   "execution_count": 4,
   "id": "2c10a035-5e37-4e1d-ab40-1326a9837e3a",
   "metadata": {},
   "outputs": [],
   "source": [
    "pivot_df_1.write.format(\"noop\").mode(\"overwrite\").save()"
   ]
  },
  {
   "cell_type": "markdown",
   "id": "0d2f469c-b5ea-494e-851e-373337c8af8d",
   "metadata": {},
   "source": [
    "### Method 2 - Specifying column names"
   ]
  },
  {
   "cell_type": "code",
   "execution_count": 6,
   "id": "83da5cc1-eae1-4769-aa39-c4a5cae4e811",
   "metadata": {},
   "outputs": [
    {
     "data": {
      "text/plain": [
       "['PHY', 'BIO', 'MATH', 'CHEM']"
      ]
     },
     "execution_count": 6,
     "metadata": {},
     "output_type": "execute_result"
    }
   ],
   "source": [
    "# Get the distinct list of Subjects\n",
    "_subjects = df.select(\"SUBJECT\").distinct().rdd.map(lambda x: x[0]).collect()\n",
    "_subjects"
   ]
  },
  {
   "cell_type": "code",
   "execution_count": 7,
   "id": "76ffe91f-39f0-42fc-8555-e829e5c35389",
   "metadata": {},
   "outputs": [
    {
     "name": "stdout",
     "output_type": "stream",
     "text": [
      "root\n",
      " |-- NAME: string (nullable = true)\n",
      " |-- PHY: long (nullable = true)\n",
      " |-- BIO: long (nullable = true)\n",
      " |-- MATH: long (nullable = true)\n",
      " |-- CHEM: long (nullable = true)\n",
      "\n"
     ]
    }
   ],
   "source": [
    "# Lets check the data and schema\n",
    "pivot_df_2 = df.groupBy(\"NAME\").pivot(\"SUBJECT\", _subjects).agg(F.sum(\"MARKS\"))\n",
    "pivot_df_2.printSchema()"
   ]
  },
  {
   "cell_type": "code",
   "execution_count": 8,
   "id": "cf78c06d-ee55-460f-969f-697f446e47cd",
   "metadata": {},
   "outputs": [],
   "source": [
    "pivot_df_2.write.format(\"noop\").mode(\"overwrite\").save()"
   ]
  },
  {
   "cell_type": "code",
   "execution_count": 9,
   "id": "574fd77f-d4ff-46fa-8211-7d8f1fb0a5d0",
   "metadata": {},
   "outputs": [],
   "source": [
    "spark.stop()"
   ]
  },
  {
   "cell_type": "code",
   "execution_count": null,
   "id": "461f59eb-9f8b-4a63-b550-5e2eda948d26",
   "metadata": {},
   "outputs": [],
   "source": []
  }
 ],
 "metadata": {
  "kernelspec": {
   "display_name": "Python 3 (ipykernel)",
   "language": "python",
   "name": "python3"
  },
  "language_info": {
   "codemirror_mode": {
    "name": "ipython",
    "version": 3
   },
   "file_extension": ".py",
   "mimetype": "text/x-python",
   "name": "python",
   "nbconvert_exporter": "python",
   "pygments_lexer": "ipython3",
   "version": "3.11.6"
  }
 },
 "nbformat": 4,
 "nbformat_minor": 5
}
