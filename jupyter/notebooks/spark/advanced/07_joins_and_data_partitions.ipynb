{
 "cells": [
  {
   "cell_type": "code",
   "execution_count": null,
   "id": "9913130b-9ed3-4a87-a01d-a13cae0e3204",
   "metadata": {},
   "outputs": [
    {
     "name": "stderr",
     "output_type": "stream",
     "text": [
      "Setting default log level to \"WARN\".\n",
      "To adjust logging level use sc.setLogLevel(newLevel). For SparkR, use setLogLevel(newLevel).\n",
      "24/11/04 16:45:54 WARN NativeCodeLoader: Unable to load native-hadoop library for your platform... using builtin-java classes where applicable\n"
     ]
    },
    {
     "data": {
      "text/html": [
       "\n",
       "            <div>\n",
       "                <p><b>SparkSession - in-memory</b></p>\n",
       "                \n",
       "        <div>\n",
       "            <p><b>SparkContext</b></p>\n",
       "\n",
       "            <p><a href=\"http://6b6be731e9f1:4040\">Spark UI</a></p>\n",
       "\n",
       "            <dl>\n",
       "              <dt>Version</dt>\n",
       "                <dd><code>v3.4.4</code></dd>\n",
       "              <dt>Master</dt>\n",
       "                <dd><code>spark://spark-master:7077</code></dd>\n",
       "              <dt>AppName</dt>\n",
       "                <dd><code>Joins and Data Partitions</code></dd>\n",
       "            </dl>\n",
       "        </div>\n",
       "        \n",
       "            </div>\n",
       "        "
      ],
      "text/plain": [
       "<pyspark.sql.session.SparkSession at 0x7f46084a5d10>"
      ]
     },
     "execution_count": 1,
     "metadata": {},
     "output_type": "execute_result"
    }
   ],
   "source": [
    "# Spark Session\n",
    "from pyspark.sql import SparkSession\n",
    "\n",
    "spark = (\n",
    "    SparkSession.builder.appName(\"Joins and Data Partitions\")\n",
    "    .master(\"spark://spark-master:7077\")\n",
    "    .getOrCreate()\n",
    ")\n",
    "\n",
    "spark"
   ]
  },
  {
   "cell_type": "code",
   "execution_count": null,
   "id": "7f6357c0-ccf8-43de-8f7d-69d5a9314fef",
   "metadata": {},
   "outputs": [],
   "source": [
    "# Emp Data & Schema\n",
    "\n",
    "emp_data = [\n",
    "    [\"001\", \"101\", \"John Doe\", \"30\", \"Male\", \"50000\", \"2015-01-01\"],\n",
    "    [\"002\", \"101\", \"Jane Smith\", \"25\", \"Female\", \"45000\", \"2016-02-15\"],\n",
    "    [\"003\", \"102\", \"Bob Brown\", \"35\", \"Male\", \"55000\", \"2014-05-01\"],\n",
    "    [\"004\", \"102\", \"Alice Lee\", \"28\", \"Female\", \"48000\", \"2017-09-30\"],\n",
    "    [\"005\", \"103\", \"Jack Chan\", \"40\", \"Male\", \"60000\", \"2013-04-01\"],\n",
    "    [\"006\", \"103\", \"Jill Wong\", \"32\", \"Female\", \"52000\", \"2018-07-01\"],\n",
    "    [\"007\", \"101\", \"James Johnson\", \"42\", \"Male\", \"70000\", \"2012-03-15\"],\n",
    "    [\"008\", \"102\", \"Kate Kim\", \"29\", \"Female\", \"51000\", \"2019-10-01\"],\n",
    "    [\"009\", \"103\", \"Tom Tan\", \"33\", \"Male\", \"58000\", \"2016-06-01\"],\n",
    "    [\"010\", \"104\", \"Lisa Lee\", \"27\", \"Female\", \"47000\", \"2018-08-01\"],\n",
    "    [\"011\", \"104\", \"David Park\", \"38\", \"Male\", \"65000\", \"2015-11-01\"],\n",
    "    [\"012\", \"105\", \"Susan Chen\", \"31\", \"Female\", \"54000\", \"2017-02-15\"],\n",
    "    [\"013\", \"106\", \"Brian Kim\", \"45\", \"Male\", \"75000\", \"2011-07-01\"],\n",
    "    [\"014\", \"107\", \"Emily Lee\", \"26\", \"Female\", \"46000\", \"2019-01-01\"],\n",
    "    [\"015\", \"106\", \"Michael Lee\", \"37\", \"Male\", \"63000\", \"2014-09-30\"],\n",
    "    [\"016\", \"107\", \"Kelly Zhang\", \"30\", \"Female\", \"49000\", \"2018-04-01\"],\n",
    "    [\"017\", \"105\", \"George Wang\", \"34\", \"Male\", \"57000\", \"2016-03-15\"],\n",
    "    [\"018\", \"104\", \"Nancy Liu\", \"29\", \"\", \"50000\", \"2017-06-01\"],\n",
    "    [\"019\", \"103\", \"Steven Chen\", \"36\", \"Male\", \"62000\", \"2015-08-01\"],\n",
    "    [\"020\", \"102\", \"Grace Kim\", \"32\", \"Female\", \"53000\", \"2018-11-01\"],\n",
    "]\n",
    "\n",
    "emp_schema = \"employee_id string, department_id string, name string, age string, gender string, salary string, hire_date string\"\n",
    "\n",
    "dept_data = [\n",
    "    [\"101\", \"Sales\", \"NYC\", \"US\", \"1000000\"],\n",
    "    [\"102\", \"Marketing\", \"LA\", \"US\", \"900000\"],\n",
    "    [\"103\", \"Finance\", \"London\", \"UK\", \"1200000\"],\n",
    "    [\"104\", \"Engineering\", \"Beijing\", \"China\", \"1500000\"],\n",
    "    [\"105\", \"Human Resources\", \"Tokyo\", \"Japan\", \"800000\"],\n",
    "    [\"106\", \"Research and Development\", \"Perth\", \"Australia\", \"1100000\"],\n",
    "    [\"107\", \"Customer Service\", \"Sydney\", \"Australia\", \"950000\"],\n",
    "]\n",
    "\n",
    "dept_schema = \"department_id string, department_name string, city string, country string, budget string\""
   ]
  },
  {
   "cell_type": "code",
   "execution_count": 22,
   "id": "9bdc19a5-b213-498e-8e1f-63650523c441",
   "metadata": {},
   "outputs": [],
   "source": [
    "# Create emp & dept DataFrame\n",
    "\n",
    "emp = spark.createDataFrame(data=emp_data, schema=emp_schema)\n",
    "dept = spark.createDataFrame(data=dept_data, schema=dept_schema)"
   ]
  },
  {
   "cell_type": "code",
   "execution_count": 23,
   "id": "9d81001d-2633-439f-9153-9b1ef27e64a8",
   "metadata": {},
   "outputs": [
    {
     "name": "stderr",
     "output_type": "stream",
     "text": [
      "                                                                                \r"
     ]
    },
    {
     "name": "stdout",
     "output_type": "stream",
     "text": [
      "+-----------+-------------+-------------+---+------+------+----------+\n",
      "|employee_id|department_id|         name|age|gender|salary| hire_date|\n",
      "+-----------+-------------+-------------+---+------+------+----------+\n",
      "|        001|          101|     John Doe| 30|  Male| 50000|2015-01-01|\n",
      "|        002|          101|   Jane Smith| 25|Female| 45000|2016-02-15|\n",
      "|        003|          102|    Bob Brown| 35|  Male| 55000|2014-05-01|\n",
      "|        004|          102|    Alice Lee| 28|Female| 48000|2017-09-30|\n",
      "|        005|          103|    Jack Chan| 40|  Male| 60000|2013-04-01|\n",
      "|        006|          103|    Jill Wong| 32|Female| 52000|2018-07-01|\n",
      "|        007|          101|James Johnson| 42|  Male| 70000|2012-03-15|\n",
      "|        008|          102|     Kate Kim| 29|Female| 51000|2019-10-01|\n",
      "|        009|          103|      Tom Tan| 33|  Male| 58000|2016-06-01|\n",
      "|        010|          104|     Lisa Lee| 27|Female| 47000|2018-08-01|\n",
      "|        011|          104|   David Park| 38|  Male| 65000|2015-11-01|\n",
      "|        012|          105|   Susan Chen| 31|Female| 54000|2017-02-15|\n",
      "|        013|          106|    Brian Kim| 45|  Male| 75000|2011-07-01|\n",
      "|        014|          107|    Emily Lee| 26|Female| 46000|2019-01-01|\n",
      "|        015|          106|  Michael Lee| 37|  Male| 63000|2014-09-30|\n",
      "|        016|          107|  Kelly Zhang| 30|Female| 49000|2018-04-01|\n",
      "|        017|          105|  George Wang| 34|  Male| 57000|2016-03-15|\n",
      "|        018|          104|    Nancy Liu| 29|      | 50000|2017-06-01|\n",
      "|        019|          103|  Steven Chen| 36|  Male| 62000|2015-08-01|\n",
      "|        020|          102|    Grace Kim| 32|Female| 53000|2018-11-01|\n",
      "+-----------+-------------+-------------+---+------+------+----------+\n",
      "\n",
      "+-------------+--------------------+-------+---------+-------+\n",
      "|department_id|     department_name|   city|  country| budget|\n",
      "+-------------+--------------------+-------+---------+-------+\n",
      "|          101|               Sales|    NYC|       US|1000000|\n",
      "|          102|           Marketing|     LA|       US| 900000|\n",
      "|          103|             Finance| London|       UK|1200000|\n",
      "|          104|         Engineering|Beijing|    China|1500000|\n",
      "|          105|     Human Resources|  Tokyo|    Japan| 800000|\n",
      "|          106|Research and Deve...|  Perth|Australia|1100000|\n",
      "|          107|    Customer Service| Sydney|Australia| 950000|\n",
      "+-------------+--------------------+-------+---------+-------+\n",
      "\n"
     ]
    }
   ],
   "source": [
    "# Show emp dataframe (ACTION)\n",
    "\n",
    "emp.show()\n",
    "dept.show()"
   ]
  },
  {
   "cell_type": "code",
   "execution_count": 24,
   "id": "d340333a-1ff1-4b60-a602-6342a056cf3a",
   "metadata": {},
   "outputs": [
    {
     "name": "stdout",
     "output_type": "stream",
     "text": [
      "root\n",
      " |-- employee_id: string (nullable = true)\n",
      " |-- department_id: string (nullable = true)\n",
      " |-- name: string (nullable = true)\n",
      " |-- age: string (nullable = true)\n",
      " |-- gender: string (nullable = true)\n",
      " |-- salary: string (nullable = true)\n",
      " |-- hire_date: string (nullable = true)\n",
      "\n",
      "root\n",
      " |-- department_id: string (nullable = true)\n",
      " |-- department_name: string (nullable = true)\n",
      " |-- city: string (nullable = true)\n",
      " |-- country: string (nullable = true)\n",
      " |-- budget: string (nullable = true)\n",
      "\n"
     ]
    }
   ],
   "source": [
    "# Print Schema\n",
    "\n",
    "emp.printSchema()\n",
    "dept.printSchema()"
   ]
  },
  {
   "cell_type": "code",
   "execution_count": 25,
   "id": "6b99ead2-9509-43b0-83e9-a8f1eaebffe9",
   "metadata": {},
   "outputs": [
    {
     "data": {
      "text/plain": [
       "2"
      ]
     },
     "execution_count": 25,
     "metadata": {},
     "output_type": "execute_result"
    }
   ],
   "source": [
    "# Get number of partitions for emp\n",
    "emp.rdd.getNumPartitions()"
   ]
  },
  {
   "cell_type": "code",
   "execution_count": 26,
   "id": "b3fc51ab-910b-41ff-bc29-10f9fc0a4181",
   "metadata": {},
   "outputs": [
    {
     "data": {
      "text/plain": [
       "2"
      ]
     },
     "execution_count": 26,
     "metadata": {},
     "output_type": "execute_result"
    }
   ],
   "source": [
    "# Get number of partitions for dept\n",
    "dept.rdd.getNumPartitions()"
   ]
  },
  {
   "cell_type": "code",
   "execution_count": 27,
   "id": "0fc967d4-1f1e-4e12-bc3d-b5eceff38288",
   "metadata": {},
   "outputs": [],
   "source": [
    "# Repartition of data using repartition & coalesce\n",
    "emp_partitioned = emp.repartition(4, \"department_id\")"
   ]
  },
  {
   "cell_type": "code",
   "execution_count": 28,
   "id": "e9f8e627-2810-4b70-be6f-803225864633",
   "metadata": {},
   "outputs": [
    {
     "data": {
      "text/plain": [
       "4"
      ]
     },
     "execution_count": 28,
     "metadata": {},
     "output_type": "execute_result"
    }
   ],
   "source": [
    "emp_partitioned.rdd.getNumPartitions()"
   ]
  },
  {
   "cell_type": "code",
   "execution_count": null,
   "id": "c42b4ccb-373b-404c-aa89-db6a40bf3925",
   "metadata": {},
   "outputs": [],
   "source": [
    "# Find the partition info for partitions and reparition\n",
    "from pyspark.sql.functions import spark_partition_id\n",
    "\n",
    "emp_1 = emp.repartition(4, \"department_id\").withColumn(\n",
    "    \"partition_num\", spark_partition_id()\n",
    ")\n"
   ]
  },
  {
   "cell_type": "code",
   "execution_count": 30,
   "id": "67146370-83bb-459b-aaf7-bf987971f29e",
   "metadata": {},
   "outputs": [
    {
     "name": "stdout",
     "output_type": "stream",
     "text": [
      "+-----------+-------------+-------------+---+------+------+----------+-------------+\n",
      "|employee_id|department_id|         name|age|gender|salary| hire_date|partition_num|\n",
      "+-----------+-------------+-------------+---+------+------+----------+-------------+\n",
      "|        003|          102|    Bob Brown| 35|  Male| 55000|2014-05-01|            0|\n",
      "|        004|          102|    Alice Lee| 28|Female| 48000|2017-09-30|            0|\n",
      "|        008|          102|     Kate Kim| 29|Female| 51000|2019-10-01|            0|\n",
      "|        014|          107|    Emily Lee| 26|Female| 46000|2019-01-01|            0|\n",
      "|        016|          107|  Kelly Zhang| 30|Female| 49000|2018-04-01|            0|\n",
      "|        020|          102|    Grace Kim| 32|Female| 53000|2018-11-01|            0|\n",
      "|        012|          105|   Susan Chen| 31|Female| 54000|2017-02-15|            1|\n",
      "|        017|          105|  George Wang| 34|  Male| 57000|2016-03-15|            1|\n",
      "|        010|          104|     Lisa Lee| 27|Female| 47000|2018-08-01|            2|\n",
      "|        011|          104|   David Park| 38|  Male| 65000|2015-11-01|            2|\n",
      "|        013|          106|    Brian Kim| 45|  Male| 75000|2011-07-01|            2|\n",
      "|        015|          106|  Michael Lee| 37|  Male| 63000|2014-09-30|            2|\n",
      "|        018|          104|    Nancy Liu| 29|      | 50000|2017-06-01|            2|\n",
      "|        019|          103|  Steven Chen| 36|  Male| 62000|2015-08-01|            3|\n",
      "|        001|          101|     John Doe| 30|  Male| 50000|2015-01-01|            3|\n",
      "|        002|          101|   Jane Smith| 25|Female| 45000|2016-02-15|            3|\n",
      "|        005|          103|    Jack Chan| 40|  Male| 60000|2013-04-01|            3|\n",
      "|        006|          103|    Jill Wong| 32|Female| 52000|2018-07-01|            3|\n",
      "|        007|          101|James Johnson| 42|  Male| 70000|2012-03-15|            3|\n",
      "|        009|          103|      Tom Tan| 33|  Male| 58000|2016-06-01|            3|\n",
      "+-----------+-------------+-------------+---+------+------+----------+-------------+\n",
      "\n"
     ]
    }
   ],
   "source": [
    "emp_1.show()"
   ]
  },
  {
   "cell_type": "code",
   "execution_count": null,
   "id": "40e8d717-c449-42f4-a3e3-6bff56077b6b",
   "metadata": {},
   "outputs": [],
   "source": [
    "# INNER JOIN datasets\n",
    "# select e.emp_name, d.department_name, d.department_id, e.salary\n",
    "# from emp e inner join dept d on emp.department_id = dept.department_id\n",
    "\n",
    "df_joined = emp.alias(\"e\").join(\n",
    "    dept.alias(\"d\"), how=\"inner\", on=emp.department_id == dept.department_id\n",
    ")"
   ]
  },
  {
   "cell_type": "code",
   "execution_count": 32,
   "id": "fc42d609-f44f-43eb-a63e-f98c23fd8204",
   "metadata": {},
   "outputs": [
    {
     "name": "stdout",
     "output_type": "stream",
     "text": [
      "+-------------+-------------+--------------------+------+\n",
      "|         name|department_id|     department_name|salary|\n",
      "+-------------+-------------+--------------------+------+\n",
      "|     John Doe|          101|               Sales| 50000|\n",
      "|   Jane Smith|          101|               Sales| 45000|\n",
      "|James Johnson|          101|               Sales| 70000|\n",
      "|    Bob Brown|          102|           Marketing| 55000|\n",
      "|    Alice Lee|          102|           Marketing| 48000|\n",
      "|     Kate Kim|          102|           Marketing| 51000|\n",
      "|    Grace Kim|          102|           Marketing| 53000|\n",
      "|    Jack Chan|          103|             Finance| 60000|\n",
      "|    Jill Wong|          103|             Finance| 52000|\n",
      "|      Tom Tan|          103|             Finance| 58000|\n",
      "|  Steven Chen|          103|             Finance| 62000|\n",
      "|     Lisa Lee|          104|         Engineering| 47000|\n",
      "|   David Park|          104|         Engineering| 65000|\n",
      "|    Nancy Liu|          104|         Engineering| 50000|\n",
      "|   Susan Chen|          105|     Human Resources| 54000|\n",
      "|  George Wang|          105|     Human Resources| 57000|\n",
      "|    Brian Kim|          106|Research and Deve...| 75000|\n",
      "|  Michael Lee|          106|Research and Deve...| 63000|\n",
      "|    Emily Lee|          107|    Customer Service| 46000|\n",
      "|  Kelly Zhang|          107|    Customer Service| 49000|\n",
      "+-------------+-------------+--------------------+------+\n",
      "\n"
     ]
    }
   ],
   "source": [
    "df_joined.select(\"e.name\", \"d.department_id\", \"d.department_name\", \"e.salary\").show()"
   ]
  },
  {
   "cell_type": "code",
   "execution_count": null,
   "id": "e3bc6295-4e8f-44a4-8baf-e45f1739248b",
   "metadata": {},
   "outputs": [],
   "source": [
    "# LEFT OUTER JOIN datasets\n",
    "# select e.emp_name, d.department_name, d.department_id, e.salary\n",
    "# from emp e left outer join dept d on emp.department_id = dept.department_id\n",
    "\n",
    "df_joined = emp.alias(\"e\").join(\n",
    "    dept.alias(\"d\"), how=\"left_outer\", on=emp.department_id == dept.department_id\n",
    ")"
   ]
  },
  {
   "cell_type": "code",
   "execution_count": 34,
   "id": "f5a249be-bfab-4bde-ae61-eb6782660b49",
   "metadata": {},
   "outputs": [
    {
     "name": "stdout",
     "output_type": "stream",
     "text": [
      "+-------------+--------------------+-------------+------+\n",
      "|         name|     department_name|department_id|salary|\n",
      "+-------------+--------------------+-------------+------+\n",
      "|     John Doe|               Sales|          101| 50000|\n",
      "|   Jane Smith|               Sales|          101| 45000|\n",
      "|James Johnson|               Sales|          101| 70000|\n",
      "|     Lisa Lee|         Engineering|          104| 47000|\n",
      "|    Bob Brown|           Marketing|          102| 55000|\n",
      "|    Alice Lee|           Marketing|          102| 48000|\n",
      "|     Kate Kim|           Marketing|          102| 51000|\n",
      "|    Jack Chan|             Finance|          103| 60000|\n",
      "|    Jill Wong|             Finance|          103| 52000|\n",
      "|      Tom Tan|             Finance|          103| 58000|\n",
      "|    Emily Lee|    Customer Service|          107| 46000|\n",
      "|  Kelly Zhang|    Customer Service|          107| 49000|\n",
      "|   David Park|         Engineering|          104| 65000|\n",
      "|    Nancy Liu|         Engineering|          104| 50000|\n",
      "|    Grace Kim|           Marketing|          102| 53000|\n",
      "|  Steven Chen|             Finance|          103| 62000|\n",
      "|    Brian Kim|Research and Deve...|          106| 75000|\n",
      "|  Michael Lee|Research and Deve...|          106| 63000|\n",
      "|   Susan Chen|     Human Resources|          105| 54000|\n",
      "|  George Wang|     Human Resources|          105| 57000|\n",
      "+-------------+--------------------+-------------+------+\n",
      "\n"
     ]
    }
   ],
   "source": [
    "df_joined.select(\"e.name\", \"d.department_name\", \"d.department_id\", \"e.salary\").show()"
   ]
  },
  {
   "cell_type": "code",
   "execution_count": null,
   "id": "e590c9bb-3519-4511-921b-e851f385deda",
   "metadata": {},
   "outputs": [
    {
     "name": "stderr",
     "output_type": "stream",
     "text": [
      "                                                                                \r"
     ]
    }
   ],
   "source": [
    "# Write the final dataset\n",
    "df_joined.select(\n",
    "    \"e.name\", \"d.department_name\", \"d.department_id\", \"e.salary\"\n",
    ").write.format(\"csv\").mode(\"overwrite\").save(\n",
    "    \"hdfs://namenode:9000/output/advanced/05/emp_joined\"\n",
    ")"
   ]
  },
  {
   "cell_type": "code",
   "execution_count": null,
   "id": "fdb7ba53-5875-4e9c-8e95-a29b0b3e73b3",
   "metadata": {},
   "outputs": [],
   "source": [
    "# Bonus TIP\n",
    "# Joins with cascading conditions\n",
    "# Join with Department_id and only for departments 101 or 102\n",
    "# Join with not null/null conditions\n",
    "\n",
    "df_final = emp.join(\n",
    "    dept,\n",
    "    how=\"left_outer\",\n",
    "    on=(emp.department_id == dept.department_id)\n",
    "    & ((emp.department_id == \"101\") | (emp.department_id == \"102\"))\n",
    "    & (emp.salary.isNull()),\n",
    ")\n"
   ]
  },
  {
   "cell_type": "code",
   "execution_count": 38,
   "id": "998e6616-849e-4c87-827d-9053aa42788f",
   "metadata": {},
   "outputs": [
    {
     "name": "stdout",
     "output_type": "stream",
     "text": [
      "+-----------+-------------+-------------+---+------+------+----------+-------------+---------------+----+-------+------+\n",
      "|employee_id|department_id|         name|age|gender|salary| hire_date|department_id|department_name|city|country|budget|\n",
      "+-----------+-------------+-------------+---+------+------+----------+-------------+---------------+----+-------+------+\n",
      "|        014|          107|    Emily Lee| 26|Female| 46000|2019-01-01|         null|           null|null|   null|  null|\n",
      "|        016|          107|  Kelly Zhang| 30|Female| 49000|2018-04-01|         null|           null|null|   null|  null|\n",
      "|        011|          104|   David Park| 38|  Male| 65000|2015-11-01|         null|           null|null|   null|  null|\n",
      "|        018|          104|    Nancy Liu| 29|      | 50000|2017-06-01|         null|           null|null|   null|  null|\n",
      "|        020|          102|    Grace Kim| 32|Female| 53000|2018-11-01|         null|           null|null|   null|  null|\n",
      "|        019|          103|  Steven Chen| 36|  Male| 62000|2015-08-01|         null|           null|null|   null|  null|\n",
      "|        013|          106|    Brian Kim| 45|  Male| 75000|2011-07-01|         null|           null|null|   null|  null|\n",
      "|        015|          106|  Michael Lee| 37|  Male| 63000|2014-09-30|         null|           null|null|   null|  null|\n",
      "|        012|          105|   Susan Chen| 31|Female| 54000|2017-02-15|         null|           null|null|   null|  null|\n",
      "|        017|          105|  George Wang| 34|  Male| 57000|2016-03-15|         null|           null|null|   null|  null|\n",
      "|        001|          101|     John Doe| 30|  Male| 50000|2015-01-01|         null|           null|null|   null|  null|\n",
      "|        002|          101|   Jane Smith| 25|Female| 45000|2016-02-15|         null|           null|null|   null|  null|\n",
      "|        007|          101|James Johnson| 42|  Male| 70000|2012-03-15|         null|           null|null|   null|  null|\n",
      "|        010|          104|     Lisa Lee| 27|Female| 47000|2018-08-01|         null|           null|null|   null|  null|\n",
      "|        003|          102|    Bob Brown| 35|  Male| 55000|2014-05-01|         null|           null|null|   null|  null|\n",
      "|        004|          102|    Alice Lee| 28|Female| 48000|2017-09-30|         null|           null|null|   null|  null|\n",
      "|        008|          102|     Kate Kim| 29|Female| 51000|2019-10-01|         null|           null|null|   null|  null|\n",
      "|        005|          103|    Jack Chan| 40|  Male| 60000|2013-04-01|         null|           null|null|   null|  null|\n",
      "|        006|          103|    Jill Wong| 32|Female| 52000|2018-07-01|         null|           null|null|   null|  null|\n",
      "|        009|          103|      Tom Tan| 33|  Male| 58000|2016-06-01|         null|           null|null|   null|  null|\n",
      "+-----------+-------------+-------------+---+------+------+----------+-------------+---------------+----+-------+------+\n",
      "\n"
     ]
    }
   ],
   "source": [
    "df_final.show()"
   ]
  },
  {
   "cell_type": "code",
   "execution_count": 39,
   "id": "0688afb7-8b8b-451c-b728-9700f2e09631",
   "metadata": {},
   "outputs": [],
   "source": [
    "# Disable AQE and Broadcast join\n",
    "\n",
    "spark.conf.set(\"spark.sql.adaptive.enabled\", False)\n",
    "spark.conf.set(\"spark.sql.adaptive.coalescePartitions.enabled\", False)\n",
    "spark.conf.set(\"spark.sql.autoBroadcastJoinThreshold\", -1)"
   ]
  },
  {
   "cell_type": "code",
   "execution_count": null,
   "id": "d1ca6dfd-1070-41d2-8bd8-af17ddf8be4a",
   "metadata": {},
   "outputs": [
    {
     "name": "stderr",
     "output_type": "stream",
     "text": [
      "                                                                                \r"
     ]
    }
   ],
   "source": [
    "df_joined = emp.alias(\"e\").join(\n",
    "    dept.alias(\"d\"), how=\"left_outer\", on=emp.department_id == dept.department_id\n",
    ")\n",
    "df_joined.select(\n",
    "    \"e.name\", \"d.department_name\", \"d.department_id\", \"e.salary\"\n",
    ").write.format(\"noop\").mode(\"overwrite\").save()"
   ]
  },
  {
   "cell_type": "code",
   "execution_count": 42,
   "id": "e1d5c62f-c5e7-403b-bca9-7658f6da8932",
   "metadata": {},
   "outputs": [],
   "source": [
    "spark.stop()"
   ]
  },
  {
   "cell_type": "code",
   "execution_count": null,
   "id": "c01b81b6-9107-4701-88fc-def2d85e162c",
   "metadata": {},
   "outputs": [],
   "source": []
  }
 ],
 "metadata": {
  "kernelspec": {
   "display_name": "Python 3 (ipykernel)",
   "language": "python",
   "name": "python3"
  },
  "language_info": {
   "codemirror_mode": {
    "name": "ipython",
    "version": 3
   },
   "file_extension": ".py",
   "mimetype": "text/x-python",
   "name": "python",
   "nbconvert_exporter": "python",
   "pygments_lexer": "ipython3",
   "version": "3.11.6"
  }
 },
 "nbformat": 4,
 "nbformat_minor": 5
}
