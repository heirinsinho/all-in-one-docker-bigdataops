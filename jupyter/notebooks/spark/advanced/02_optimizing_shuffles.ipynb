{
 "cells": [
  {
   "cell_type": "code",
   "execution_count": null,
   "id": "67904f55-ec83-4d97-aa05-bba971265bb7",
   "metadata": {
    "tags": []
   },
   "outputs": [
    {
     "name": "stderr",
     "output_type": "stream",
     "text": [
      "Setting default log level to \"WARN\".\n",
      "To adjust logging level use sc.setLogLevel(newLevel). For SparkR, use setLogLevel(newLevel).\n",
      "24/10/31 17:04:47 WARN NativeCodeLoader: Unable to load native-hadoop library for your platform... using builtin-java classes where applicable\n"
     ]
    },
    {
     "data": {
      "text/html": [
       "\n",
       "            <div>\n",
       "                <p><b>SparkSession - in-memory</b></p>\n",
       "                \n",
       "        <div>\n",
       "            <p><b>SparkContext</b></p>\n",
       "\n",
       "            <p><a href=\"http://b0a315f65ea6:4040\">Spark UI</a></p>\n",
       "\n",
       "            <dl>\n",
       "              <dt>Version</dt>\n",
       "                <dd><code>v3.4.4</code></dd>\n",
       "              <dt>Master</dt>\n",
       "                <dd><code>spark://spark-master:7077</code></dd>\n",
       "              <dt>AppName</dt>\n",
       "                <dd><code>Optimizing Shuffles</code></dd>\n",
       "            </dl>\n",
       "        </div>\n",
       "        \n",
       "            </div>\n",
       "        "
      ],
      "text/plain": [
       "<pyspark.sql.session.SparkSession at 0x7f9c3a384490>"
      ]
     },
     "execution_count": 1,
     "metadata": {},
     "output_type": "execute_result"
    }
   ],
   "source": [
    "# Spark Session\n",
    "from pyspark.sql import SparkSession\n",
    "\n",
    "spark = (\n",
    "    SparkSession.builder.appName(\"Optimizing Shuffles\")\n",
    "    .master(\"spark://spark-master:7077\")\n",
    "    .config(\"spark.cores.max\", 16)\n",
    "    .config(\"spark.executor.cores\", 4)\n",
    "    .config(\"spark.executor.memory\", \"512M\")\n",
    "    .getOrCreate()\n",
    ")\n",
    "\n",
    "spark"
   ]
  },
  {
   "cell_type": "code",
   "execution_count": 3,
   "id": "578a9878-d980-4cee-9ef9-4bd7fb0a3007",
   "metadata": {
    "tags": []
   },
   "outputs": [
    {
     "data": {
      "text/plain": [
       "8"
      ]
     },
     "execution_count": 3,
     "metadata": {},
     "output_type": "execute_result"
    }
   ],
   "source": [
    "# Check Spark defaultParallelism\n",
    "\n",
    "spark.sparkContext.defaultParallelism"
   ]
  },
  {
   "cell_type": "code",
   "execution_count": null,
   "id": "b4d26dd8-c7d8-4848-9d52-ce283419dcee",
   "metadata": {
    "tags": []
   },
   "outputs": [],
   "source": [
    "# Disable AQE\n",
    "spark.conf.set(\"spark.sql.adaptive.enabled\", False)\n",
    "spark.conf.set(\"spark.sql.adaptive.coalescePartitions.enabled\", False)"
   ]
  },
  {
   "cell_type": "code",
   "execution_count": null,
   "id": "0bb7faf5-1a45-498a-8569-a16790fe06be",
   "metadata": {
    "tags": []
   },
   "outputs": [],
   "source": [
    "# Read EMP CSV file with 10M records\n",
    "\n",
    "_schema = \"first_name string, last_name string, job_title string, dob string, email string, phone string, salary double, department_id int\"\n",
    "\n",
    "emp = (\n",
    "    spark.read.format(\"csv\")\n",
    "    .schema(_schema)\n",
    "    .option(\"header\", True)\n",
    "    .load(\"hdfs://namenode:9000/input/data/employee_records.csv\")\n",
    ")"
   ]
  },
  {
   "cell_type": "code",
   "execution_count": null,
   "id": "8142b4aa-5e8d-49e0-b478-79959229c611",
   "metadata": {
    "tags": []
   },
   "outputs": [
    {
     "name": "stderr",
     "output_type": "stream",
     "text": [
      "[Stage 27:==================================================>       (7 + 1) / 8]\r"
     ]
    },
    {
     "name": "stdout",
     "output_type": "stream",
     "text": [
      "+------------+------+\n",
      "|partition_id| count|\n",
      "+------------+------+\n",
      "|           1|130406|\n",
      "|           3|130393|\n",
      "|           5|130403|\n",
      "|           7| 87281|\n",
      "|           0|130421|\n",
      "|           2|130400|\n",
      "|           4|130384|\n",
      "|           6|130312|\n",
      "+------------+------+\n",
      "\n"
     ]
    },
    {
     "name": "stderr",
     "output_type": "stream",
     "text": [
      "                                                                                \r"
     ]
    }
   ],
   "source": [
    "from pyspark.sql.functions import spark_partition_id\n",
    "\n",
    "emp.withColumn(\"partition_id\", spark_partition_id()).groupBy(\n",
    "    \"partition_id\"\n",
    ").count().show()"
   ]
  },
  {
   "cell_type": "code",
   "execution_count": 14,
   "id": "70a5b553-69a6-47b0-bd58-a91b59135cff",
   "metadata": {
    "tags": []
   },
   "outputs": [],
   "source": [
    "# Find out avg salary as per dept\n",
    "from pyspark.sql.functions import avg\n",
    "\n",
    "emp_avg = emp.groupBy(\"department_id\").agg(avg(\"salary\").alias(\"avg_sal\"))"
   ]
  },
  {
   "cell_type": "code",
   "execution_count": 8,
   "id": "6461ffb0-1438-4e3a-a1c3-9abe96371fab",
   "metadata": {
    "tags": []
   },
   "outputs": [
    {
     "data": {
      "text/plain": [
       "'200'"
      ]
     },
     "execution_count": 8,
     "metadata": {},
     "output_type": "execute_result"
    }
   ],
   "source": [
    "# Check Spark Shuffle Partition setting\n",
    "\n",
    "spark.conf.get(\"spark.sql.shuffle.partitions\")"
   ]
  },
  {
   "cell_type": "code",
   "execution_count": 15,
   "id": "b982be3b-ae76-467d-9393-81e0dedfb847",
   "metadata": {
    "tags": []
   },
   "outputs": [
    {
     "name": "stderr",
     "output_type": "stream",
     "text": [
      "                                                                                \r"
     ]
    }
   ],
   "source": [
    "# Write data for performance Benchmarking\n",
    "spark.sparkContext.setJobDescription(\"shuffle partitions 200\")\n",
    "emp_avg.write.format(\"noop\").mode(\"overwrite\").save()\n",
    "spark.sparkContext.setJobDescription(None)"
   ]
  },
  {
   "cell_type": "code",
   "execution_count": null,
   "id": "f61a4bf6-cc37-4396-a017-b6556b5b6e30",
   "metadata": {
    "scrolled": true
   },
   "outputs": [
    {
     "name": "stderr",
     "output_type": "stream",
     "text": [
      "[Stage 33:=======>                                                  (1 + 7) / 8]\r"
     ]
    },
    {
     "name": "stdout",
     "output_type": "stream",
     "text": [
      "+------------+-----+\n",
      "|partition_id|count|\n",
      "+------------+-----+\n",
      "|           0|   10|\n",
      "+------------+-----+\n",
      "\n"
     ]
    },
    {
     "name": "stderr",
     "output_type": "stream",
     "text": [
      "                                                                                \r"
     ]
    }
   ],
   "source": [
    "emp_avg.withColumn(\"partition_id\", spark_partition_id()).groupBy(\n",
    "    \"partition_id\"\n",
    ").count().show()"
   ]
  },
  {
   "cell_type": "markdown",
   "id": "d7c43931-02ff-497a-8cda-483b274e3c4e",
   "metadata": {},
   "source": [
    "SHUFFLE PARTITION AS A FACTOR OF CORES"
   ]
  },
  {
   "cell_type": "code",
   "execution_count": 18,
   "id": "4968a5d4-817d-4eeb-9457-20d7a578fb51",
   "metadata": {
    "tags": []
   },
   "outputs": [],
   "source": [
    "spark.conf.set(\"spark.sql.shuffle.partitions\", 16)"
   ]
  },
  {
   "cell_type": "code",
   "execution_count": 19,
   "id": "e8740183-1899-468f-bd67-af5fdb91b748",
   "metadata": {},
   "outputs": [
    {
     "name": "stderr",
     "output_type": "stream",
     "text": [
      "                                                                                \r"
     ]
    }
   ],
   "source": [
    "spark.sparkContext.setJobDescription(\"shuffle partitions 16\")\n",
    "emp_avg = emp.groupBy(\"department_id\").agg(avg(\"salary\").alias(\"avg_sal\"))\n",
    "emp_avg.write.format(\"noop\").mode(\"overwrite\").save()\n",
    "spark.sparkContext.setJobDescription(None)"
   ]
  },
  {
   "cell_type": "code",
   "execution_count": null,
   "id": "fb48debb-9982-43c5-ab76-7666965a9b34",
   "metadata": {},
   "outputs": [
    {
     "name": "stderr",
     "output_type": "stream",
     "text": [
      "[Stage 41:=======>                                                  (1 + 7) / 8]\r"
     ]
    },
    {
     "name": "stdout",
     "output_type": "stream",
     "text": [
      "+------------+-----+\n",
      "|partition_id|count|\n",
      "+------------+-----+\n",
      "|           3|    2|\n",
      "|           2|    2|\n",
      "|          14|    1|\n",
      "|           6|    1|\n",
      "|           9|    2|\n",
      "|          11|    1|\n",
      "|          15|    1|\n",
      "+------------+-----+\n",
      "\n"
     ]
    },
    {
     "name": "stderr",
     "output_type": "stream",
     "text": [
      "                                                                                \r"
     ]
    }
   ],
   "source": [
    "emp_avg.withColumn(\"partition_id\", spark_partition_id()).groupBy(\n",
    "    \"partition_id\"\n",
    ").count().show()"
   ]
  },
  {
   "cell_type": "markdown",
   "id": "10518a9a-a856-4ced-b6af-a78c5bf9f1cf",
   "metadata": {},
   "source": [
    "SHUFFLE PARTITIONS = 1 (REPLICATING WHAT AQE DOES)"
   ]
  },
  {
   "cell_type": "code",
   "execution_count": 21,
   "id": "2813f0cc-9805-40c7-8e3b-867e4ad8ceb3",
   "metadata": {},
   "outputs": [],
   "source": [
    "spark.conf.set(\"spark.sql.shuffle.partitions\", 1)"
   ]
  },
  {
   "cell_type": "code",
   "execution_count": 22,
   "id": "3241aaae-7ae1-4b84-ba24-8a9a7c9df340",
   "metadata": {},
   "outputs": [
    {
     "name": "stderr",
     "output_type": "stream",
     "text": [
      "                                                                                \r"
     ]
    }
   ],
   "source": [
    "spark.sparkContext.setJobDescription(\"shuffle partitions 1\")\n",
    "emp_avg = emp.groupBy(\"department_id\").agg(avg(\"salary\").alias(\"avg_sal\"))\n",
    "emp_avg.write.format(\"noop\").mode(\"overwrite\").save()\n",
    "spark.sparkContext.setJobDescription(None)"
   ]
  },
  {
   "cell_type": "code",
   "execution_count": null,
   "id": "a63da3de-95c4-47e5-95e6-5dd0fb9b08f7",
   "metadata": {},
   "outputs": [
    {
     "name": "stderr",
     "output_type": "stream",
     "text": [
      "[Stage 52:=======>                                                  (1 + 7) / 8]\r"
     ]
    },
    {
     "name": "stdout",
     "output_type": "stream",
     "text": [
      "+------------+-----+\n",
      "|partition_id|count|\n",
      "+------------+-----+\n",
      "|           0|   10|\n",
      "+------------+-----+\n",
      "\n"
     ]
    },
    {
     "name": "stderr",
     "output_type": "stream",
     "text": [
      "                                                                                \r"
     ]
    }
   ],
   "source": [
    "emp_avg.withColumn(\"partition_id\", spark_partition_id()).groupBy(\n",
    "    \"partition_id\"\n",
    ").count().show()"
   ]
  },
  {
   "cell_type": "markdown",
   "id": "8e7dae0d-64bc-4c46-b856-2fadaba3a102",
   "metadata": {},
   "source": [
    "REACTIVATE AQE AND COMPARE"
   ]
  },
  {
   "cell_type": "code",
   "execution_count": 32,
   "id": "035a3372-338d-4af3-b65e-e0504369d051",
   "metadata": {},
   "outputs": [],
   "source": [
    "# Enable AQE\n",
    "spark.conf.set(\"spark.sql.adaptive.enabled\", True)\n",
    "spark.conf.set(\"spark.sql.adaptive.coalescePartitions.enabled\", True)"
   ]
  },
  {
   "cell_type": "code",
   "execution_count": 33,
   "id": "8e3590fa-eb00-4971-a37a-6ce3b5967bfa",
   "metadata": {},
   "outputs": [],
   "source": [
    "spark.conf.set(\"spark.sql.shuffle.partitions\", 200)"
   ]
  },
  {
   "cell_type": "code",
   "execution_count": 34,
   "id": "97b5f82c-62c7-4ced-b234-8fcb68ccdd45",
   "metadata": {},
   "outputs": [],
   "source": [
    "spark.sparkContext.setJobDescription(\"shuffle partitions AQE\")\n",
    "emp_avg = emp.groupBy(\"department_id\").agg(avg(\"salary\").alias(\"avg_sal\"))\n",
    "emp_avg.write.format(\"noop\").mode(\"overwrite\").save()\n",
    "spark.sparkContext.setJobDescription(None)"
   ]
  },
  {
   "cell_type": "code",
   "execution_count": null,
   "id": "701d4dc5-d4c4-462d-bb77-0adde77f3ced",
   "metadata": {},
   "outputs": [
    {
     "name": "stdout",
     "output_type": "stream",
     "text": [
      "+------------+-----+\n",
      "|partition_id|count|\n",
      "+------------+-----+\n",
      "|           0|   10|\n",
      "+------------+-----+\n",
      "\n"
     ]
    }
   ],
   "source": [
    "emp_avg.withColumn(\"partition_id\", spark_partition_id()).groupBy(\n",
    "    \"partition_id\"\n",
    ").count().show()"
   ]
  },
  {
   "cell_type": "code",
   "execution_count": 24,
   "id": "82f74d02-b160-41f0-84de-4c7e565d40e4",
   "metadata": {},
   "outputs": [],
   "source": [
    "spark.stop()"
   ]
  },
  {
   "cell_type": "code",
   "execution_count": null,
   "id": "bab74ca1-471d-40ac-b6d6-d8a5cf923c85",
   "metadata": {},
   "outputs": [],
   "source": []
  }
 ],
 "metadata": {
  "kernelspec": {
   "display_name": "Python 3 (ipykernel)",
   "language": "python",
   "name": "python3"
  },
  "language_info": {
   "codemirror_mode": {
    "name": "ipython",
    "version": 3
   },
   "file_extension": ".py",
   "mimetype": "text/x-python",
   "name": "python",
   "nbconvert_exporter": "python",
   "pygments_lexer": "ipython3",
   "version": "3.11.6"
  }
 },
 "nbformat": 4,
 "nbformat_minor": 5
}
