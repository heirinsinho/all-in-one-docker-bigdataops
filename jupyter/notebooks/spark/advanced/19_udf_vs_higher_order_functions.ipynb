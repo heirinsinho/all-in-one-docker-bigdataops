{
 "cells": [
  {
   "cell_type": "markdown",
   "id": "de1e42d6-8351-428f-924c-d1b790550359",
   "metadata": {},
   "source": [
    "# UDF vs Higher order functions"
   ]
  },
  {
   "cell_type": "code",
   "execution_count": null,
   "id": "094d2593-004d-41bc-b232-f0a5e1b424b0",
   "metadata": {},
   "outputs": [
    {
     "name": "stderr",
     "output_type": "stream",
     "text": [
      "Setting default log level to \"WARN\".\n",
      "To adjust logging level use sc.setLogLevel(newLevel). For SparkR, use setLogLevel(newLevel).\n",
      "24/11/11 16:53:33 WARN NativeCodeLoader: Unable to load native-hadoop library for your platform... using builtin-java classes where applicable\n"
     ]
    },
    {
     "data": {
      "text/html": [
       "\n",
       "            <div>\n",
       "                <p><b>SparkSession - in-memory</b></p>\n",
       "                \n",
       "        <div>\n",
       "            <p><b>SparkContext</b></p>\n",
       "\n",
       "            <p><a href=\"http://62964de4bd00:4040\">Spark UI</a></p>\n",
       "\n",
       "            <dl>\n",
       "              <dt>Version</dt>\n",
       "                <dd><code>v3.4.4</code></dd>\n",
       "              <dt>Master</dt>\n",
       "                <dd><code>spark://spark-master:7077</code></dd>\n",
       "              <dt>AppName</dt>\n",
       "                <dd><code>UDF vs Higher Order Functions</code></dd>\n",
       "            </dl>\n",
       "        </div>\n",
       "        \n",
       "            </div>\n",
       "        "
      ],
      "text/plain": [
       "<pyspark.sql.session.SparkSession at 0x7f7c80322350>"
      ]
     },
     "execution_count": 1,
     "metadata": {},
     "output_type": "execute_result"
    }
   ],
   "source": [
    "# Create Spark Session\n",
    "\n",
    "from pyspark.sql import SparkSession\n",
    "\n",
    "spark = (\n",
    "    SparkSession.builder.appName(\"UDF vs Higher Order Functions\")\n",
    "    .master(\"spark://spark-master:7077\")\n",
    "    .getOrCreate()\n",
    ")\n",
    "\n",
    "spark"
   ]
  },
  {
   "cell_type": "code",
   "execution_count": null,
   "id": "12d0c9dc-9320-4738-b524-85b61bf38d27",
   "metadata": {},
   "outputs": [
    {
     "name": "stdout",
     "output_type": "stream",
     "text": [
      "root\n",
      " |-- id: long (nullable = true)\n",
      " |-- cities: array (nullable = true)\n",
      " |    |-- element: string (containsNull = true)\n",
      "\n"
     ]
    },
    {
     "name": "stderr",
     "output_type": "stream",
     "text": [
      "                                                                                \r"
     ]
    },
    {
     "name": "stdout",
     "output_type": "stream",
     "text": [
      "+---+--------------------+\n",
      "| id|              cities|\n",
      "+---+--------------------+\n",
      "|  1|[Bangalore, Mumba...|\n",
      "|  2|         [Bangalore]|\n",
      "|  3|                  []|\n",
      "|  4|[Kolkata, Bhubane...|\n",
      "|  5|[Bangalore, Mumba...|\n",
      "|  6|[Delhi, Mumbai, K...|\n",
      "|  7| [Bangalore, Indore]|\n",
      "|  8|         [Bangalore]|\n",
      "|  9|           [Kolkata]|\n",
      "| 10|      [Bhubaneshwar]|\n",
      "| 11|[Bangalore, Mumba...|\n",
      "| 12|[Chennai, Hyderāb...|\n",
      "| 13|                  []|\n",
      "+---+--------------------+\n",
      "\n"
     ]
    }
   ],
   "source": [
    "# Example Data Frame\n",
    "\n",
    "_data = [\n",
    "    [1, [\"Bangalore\", \"Mumbai\", \"Pune\", \"Indore\"]],\n",
    "    [2, [\"Bangalore\"]],\n",
    "    [3, []],\n",
    "    [4, [\"Kolkata\", \"Bhubaneshwar\"]],\n",
    "    [5, [\"Bangalore\", \"Mumbai\", \"Pune\", \"Indore\", \"Ahmedabad\", \"Suratkal\"]],\n",
    "    [\n",
    "        6,\n",
    "        [\n",
    "            \"Delhi\",\n",
    "            \"Mumbai\",\n",
    "            \"Kolkāta\",\n",
    "            \"Bangalore\",\n",
    "            \"Chennai\",\n",
    "            \"Hyderābād\",\n",
    "            \"Pune\",\n",
    "            \"Ahmedabad\",\n",
    "            \"Sūrat\",\n",
    "            \"Lucknow\",\n",
    "            \"Jaipur\",\n",
    "            \"Cawnpore\",\n",
    "            \"Mirzāpur\",\n",
    "            \"Nāgpur\",\n",
    "            \"Ghāziābād\",\n",
    "            \"Indore\",\n",
    "            \"Vadodara\",\n",
    "            \"Vishākhapatnam\",\n",
    "            \"Bhopāl\",\n",
    "            \"Chinchvad\",\n",
    "            \"Patna\",\n",
    "            \"Ludhiāna\",\n",
    "            \"Āgra\",\n",
    "            \"Kalyān\",\n",
    "            \"Madurai\",\n",
    "            \"Jamshedpur\",\n",
    "            \"Nāsik\",\n",
    "            \"Farīdābād\",\n",
    "            \"Aurangābād\",\n",
    "            \"Rājkot\",\n",
    "            \"Meerut\",\n",
    "            \"Jabalpur\",\n",
    "            \"Thāne\",\n",
    "            \"Dhanbād\",\n",
    "            \"Allahābād\",\n",
    "            \"Vārānasi\",\n",
    "            \"Srīnagar\",\n",
    "            \"Amritsar\",\n",
    "            \"Alīgarh\",\n",
    "            \"Bhiwandi\",\n",
    "            \"Gwalior\",\n",
    "            \"Bhilai\",\n",
    "            \"Hāora\",\n",
    "            \"Rānchi\",\n",
    "            \"Bezwāda\",\n",
    "            \"Chandīgarh\",\n",
    "            \"Mysore\",\n",
    "            \"Raipur\",\n",
    "            \"Kota\",\n",
    "            \"Bareilly\",\n",
    "            \"Jodhpur\",\n",
    "            \"Coimbatore\",\n",
    "            \"Dispur\",\n",
    "            \"Guwāhāti\",\n",
    "            \"Solāpur\",\n",
    "            \"Trichinopoly\",\n",
    "            \"Hubli\",\n",
    "            \"Jalandhar\",\n",
    "            \"Bhubaneshwar\",\n",
    "            \"Bhayandar\",\n",
    "            \"Morādābād\",\n",
    "            \"Kolhāpur\",\n",
    "            \"Thiruvananthapuram\",\n",
    "            \"Sahāranpur\",\n",
    "            \"Warangal\",\n",
    "            \"Salem\",\n",
    "            \"Mālegaon\",\n",
    "            \"Kochi\",\n",
    "            \"Gorakhpur\",\n",
    "            \"Shimoga\",\n",
    "            \"Tiruppūr\",\n",
    "            \"Guntūr\",\n",
    "            \"Raurkela\",\n",
    "            \"Mangalore\",\n",
    "            \"Nānded\",\n",
    "            \"Cuttack\",\n",
    "            \"Chānda\",\n",
    "            \"Dehra Dūn\",\n",
    "            \"Durgāpur\",\n",
    "            \"Āsansol\",\n",
    "            \"Bhāvnagar\",\n",
    "            \"Amrāvati\",\n",
    "            \"Nellore\",\n",
    "            \"Ajmer\",\n",
    "            \"Tinnevelly\",\n",
    "            \"Bīkaner\",\n",
    "            \"Agartala\",\n",
    "            \"Ujjain\",\n",
    "            \"Jhānsi\",\n",
    "            \"Ulhāsnagar\",\n",
    "            \"Davangere\",\n",
    "            \"Jammu\",\n",
    "            \"Belgaum\",\n",
    "            \"Gulbarga\",\n",
    "            \"Jāmnagar\",\n",
    "            \"Dhūlia\",\n",
    "            \"Gaya\",\n",
    "            \"Jalgaon\",\n",
    "            \"Kurnool\",\n",
    "            \"Udaipur\",\n",
    "            \"Bellary\",\n",
    "            \"Sāngli\",\n",
    "            \"Tuticorin\",\n",
    "            \"Calicut\",\n",
    "            \"Akola\",\n",
    "            \"Bhāgalpur\",\n",
    "            \"Sīkar\",\n",
    "            \"Tumkūr\",\n",
    "            \"Quilon\",\n",
    "            \"Muzaffarnagar\",\n",
    "            \"Bhīlwāra\",\n",
    "            \"Nizāmābād\",\n",
    "            \"Bhātpāra\",\n",
    "            \"Kākināda\",\n",
    "            \"Parbhani\",\n",
    "            \"Pānihāti\",\n",
    "            \"Lātūr\",\n",
    "            \"Rohtak\",\n",
    "            \"Rājapālaiyam\",\n",
    "            \"Ahmadnagar\",\n",
    "            \"Cuddapah\",\n",
    "            \"Rājahmundry\",\n",
    "            \"Alwar\",\n",
    "            \"Muzaffarpur\",\n",
    "            \"Bilāspur\",\n",
    "            \"Mathura\",\n",
    "            \"Kāmārhāti\",\n",
    "            \"Patiāla\",\n",
    "            \"Saugor\",\n",
    "            \"Bijāpur\",\n",
    "            \"Brahmapur\",\n",
    "            \"Shāhjānpur\",\n",
    "            \"Trichūr\",\n",
    "            \"Barddhamān\",\n",
    "            \"Kulti\",\n",
    "            \"Sambalpur\",\n",
    "            \"Purnea\",\n",
    "            \"Hisar\",\n",
    "            \"Fīrozābād\",\n",
    "            \"Bīdar\",\n",
    "            \"Rāmpur\",\n",
    "            \"Shiliguri\",\n",
    "            \"Bāli\",\n",
    "            \"Pānīpat\",\n",
    "            \"Karīmnagar\",\n",
    "            \"Bhuj\",\n",
    "            \"Ichalkaranji\",\n",
    "            \"Tirupati\",\n",
    "            \"Hospet\",\n",
    "            \"Āīzawl\",\n",
    "            \"Sannai\",\n",
    "            \"Bārāsat\",\n",
    "            \"Ratlām\",\n",
    "            \"Handwāra\",\n",
    "            \"Drug\",\n",
    "            \"Imphāl\",\n",
    "            \"Anantapur\",\n",
    "            \"Etāwah\",\n",
    "            \"Rāichūr\",\n",
    "            \"Ongole\",\n",
    "            \"Bharatpur\",\n",
    "            \"Begusarai\",\n",
    "            \"Sonīpat\",\n",
    "            \"Rāmgundam\",\n",
    "            \"Hāpur\",\n",
    "            \"Uluberiya\",\n",
    "            \"Porbandar\",\n",
    "            \"Pāli\",\n",
    "            \"Vizianagaram\",\n",
    "            \"Puducherry\",\n",
    "            \"Karnāl\",\n",
    "            \"Nāgercoil\",\n",
    "            \"Tanjore\",\n",
    "            \"Sambhal\",\n",
    "            \"Naihāti\",\n",
    "            \"Secunderābād\",\n",
    "            \"Kharagpur\",\n",
    "            \"Dindigul\",\n",
    "            \"Shimla\",\n",
    "            \"Ingrāj Bāzār\",\n",
    "            \"Ellore\",\n",
    "            \"Puri\",\n",
    "            \"Haldia\",\n",
    "            \"Nandyāl\",\n",
    "            \"Bulandshahr\",\n",
    "            \"Chakradharpur\",\n",
    "            \"Bhiwāni\",\n",
    "            \"Gurgaon\",\n",
    "            \"Burhānpur\",\n",
    "            \"Khammam\",\n",
    "            \"Madhyamgram\",\n",
    "            \"Ghāndīnagar\",\n",
    "            \"Baharampur\",\n",
    "            \"Mahbūbnagar\",\n",
    "            \"Mahesāna\",\n",
    "            \"Ādoni\",\n",
    "            \"Rāiganj\",\n",
    "            \"Bhusāval\",\n",
    "            \"Bahraigh\",\n",
    "            \"Shrīrāmpur\",\n",
    "            \"Tonk\",\n",
    "            \"Sirsa\",\n",
    "            \"Jaunpur\",\n",
    "            \"Madanapalle\",\n",
    "            \"Hugli\",\n",
    "            \"Vellore\",\n",
    "            \"Alleppey\",\n",
    "            \"Cuddalore\",\n",
    "            \"Deo\",\n",
    "            \"Chīrāla\",\n",
    "            \"Machilīpatnam\",\n",
    "            \"Medinīpur\",\n",
    "            \"Bāramūla\",\n",
    "            \"Chandannagar\",\n",
    "            \"Fatehpur\",\n",
    "            \"Udipi\",\n",
    "            \"Tenāli\",\n",
    "            \"Sitalpur\",\n",
    "            \"Conjeeveram\",\n",
    "            \"Proddatūr\",\n",
    "            \"Navsāri\",\n",
    "            \"Godhra\",\n",
    "            \"Budaun\",\n",
    "            \"Chittoor\",\n",
    "            \"Harīpur\",\n",
    "            \"Saharsa\",\n",
    "            \"Vidisha\",\n",
    "            \"Pathānkot\",\n",
    "            \"Nalgonda\",\n",
    "            \"Dibrugarh\",\n",
    "            \"Bālurghāt\",\n",
    "            \"Krishnanagar\",\n",
    "            \"Fyzābād\",\n",
    "            \"Silchar\",\n",
    "            \"Shāntipur\",\n",
    "            \"Hindupur\",\n",
    "        ],\n",
    "    ],\n",
    "    [7, [\"Bangalore\", \"Indore\"]],\n",
    "    [8, [\"Bangalore\"]],\n",
    "    [\n",
    "        9,\n",
    "        [\n",
    "            \"Kolkata\",\n",
    "        ],\n",
    "    ],\n",
    "    [10, [\"Bhubaneshwar\"]],\n",
    "    [11, [\"Bangalore\", \"Mumbai\", \"Suratkal\"]],\n",
    "    [\n",
    "        12,\n",
    "        [\n",
    "            \"Chennai\",\n",
    "            \"Hyderābād\",\n",
    "            \"Pune\",\n",
    "            \"Ahmedabad\",\n",
    "            \"Sūrat\",\n",
    "            \"Lucknow\",\n",
    "            \"Jaipur\",\n",
    "            \"Cawnpore\",\n",
    "        ],\n",
    "    ],\n",
    "    [13, []],\n",
    "]\n",
    "\n",
    "_cols = [\"id\", \"cities\"]\n",
    "\n",
    "# Create Data Frame\n",
    "df = spark.createDataFrame(data=_data, schema=_cols)\n",
    "df.printSchema()\n",
    "df.show()"
   ]
  },
  {
   "cell_type": "code",
   "execution_count": null,
   "id": "f476fe72-6456-4adf-8530-0b7b790cdeb7",
   "metadata": {},
   "outputs": [],
   "source": [
    "# UDF for len of cities\n",
    "from pyspark.sql import functions as F\n",
    "\n",
    "\n",
    "def len_of_cities(col):\n",
    "    _len = 0\n",
    "    for i in col:\n",
    "        _len += len(i)\n",
    "    return _len\n",
    "\n",
    "\n",
    "len_of_cities_udf = F.udf(lambda x: len_of_cities(x))"
   ]
  },
  {
   "cell_type": "code",
   "execution_count": 4,
   "id": "cf621a87-e246-477b-b138-b3f8230e612c",
   "metadata": {},
   "outputs": [
    {
     "name": "stderr",
     "output_type": "stream",
     "text": [
      "                                                                                \r"
     ]
    },
    {
     "name": "stdout",
     "output_type": "stream",
     "text": [
      "+---+--------------------+-------------+\n",
      "| id|              cities|len_of_cities|\n",
      "+---+--------------------+-------------+\n",
      "|  1|[Bangalore, Mumba...|           25|\n",
      "|  2|         [Bangalore]|            9|\n",
      "|  3|                  []|            0|\n",
      "|  4|[Kolkata, Bhubane...|           19|\n",
      "|  5|[Bangalore, Mumba...|           42|\n",
      "|  6|[Delhi, Mumbai, K...|         1806|\n",
      "|  7| [Bangalore, Indore]|           15|\n",
      "|  8|         [Bangalore]|            9|\n",
      "|  9|           [Kolkata]|            7|\n",
      "| 10|      [Bhubaneshwar]|           12|\n",
      "| 11|[Bangalore, Mumba...|           23|\n",
      "| 12|[Chennai, Hyderāb...|           55|\n",
      "| 13|                  []|            0|\n",
      "+---+--------------------+-------------+\n",
      "\n"
     ]
    }
   ],
   "source": [
    "# Getting the execution time using the UDF\n",
    "\n",
    "df.withColumn(\"len_of_cities\", len_of_cities_udf(\"cities\")).show()"
   ]
  },
  {
   "cell_type": "code",
   "execution_count": null,
   "id": "a3158949-5071-4af7-924c-e4d00283dd5e",
   "metadata": {},
   "outputs": [
    {
     "name": "stdout",
     "output_type": "stream",
     "text": [
      "+---+--------------------+-------------+\n",
      "| id|              cities|len_of_cities|\n",
      "+---+--------------------+-------------+\n",
      "|  1|[Bangalore, Mumba...|           25|\n",
      "|  2|         [Bangalore]|            9|\n",
      "|  3|                  []|            0|\n",
      "|  4|[Kolkata, Bhubane...|           19|\n",
      "|  5|[Bangalore, Mumba...|           42|\n",
      "|  6|[Delhi, Mumbai, K...|         1806|\n",
      "|  7| [Bangalore, Indore]|           15|\n",
      "|  8|         [Bangalore]|            9|\n",
      "|  9|           [Kolkata]|            7|\n",
      "| 10|      [Bhubaneshwar]|           12|\n",
      "| 11|[Bangalore, Mumba...|           23|\n",
      "| 12|[Chennai, Hyderāb...|           55|\n",
      "| 13|                  []|            0|\n",
      "+---+--------------------+-------------+\n",
      "\n"
     ]
    }
   ],
   "source": [
    "# USE OF AGGREGATE (REDUCE)\n",
    "from pyspark.sql.functions import aggregate, lit, length, size\n",
    "\n",
    "df.withColumn(\n",
    "    \"len_of_cities\", F.aggregate(\"cities\", F.lit(0), lambda x, y: x + F.length(y))\n",
    ").show()"
   ]
  },
  {
   "cell_type": "code",
   "execution_count": 7,
   "id": "b4c6c419-d595-4004-9291-81856b1b31a2",
   "metadata": {},
   "outputs": [],
   "source": [
    "from pyspark.sql.types import ArrayType, StringType, BooleanType, IntegerType"
   ]
  },
  {
   "cell_type": "code",
   "execution_count": 8,
   "id": "3ea55b8e-e098-4e8d-bb63-eff8afd7b799",
   "metadata": {},
   "outputs": [],
   "source": [
    "# USE OF TRANSFORM\n",
    "\n",
    "df_upper = df.withColumn(\"upper_cities\", F.transform(\"cities\", lambda x: F.upper(x)))\n",
    "to_upper_udf = F.udf(lambda arr: [x.upper() for x in arr], ArrayType(StringType()))\n",
    "df_upper_udf = df.withColumn(\"upper_cities\", to_upper_udf(F.col(\"cities\")))"
   ]
  },
  {
   "cell_type": "code",
   "execution_count": 9,
   "id": "bf40607a-7589-4a8d-9a7f-2c06e140d077",
   "metadata": {},
   "outputs": [
    {
     "name": "stderr",
     "output_type": "stream",
     "text": [
      "                                                                                \r"
     ]
    }
   ],
   "source": [
    "df_upper.write.format(\"noop\").mode(\"overwrite\").save()\n",
    "df_upper_udf.write.format(\"noop\").mode(\"overwrite\").save()"
   ]
  },
  {
   "cell_type": "code",
   "execution_count": 16,
   "id": "04acdc72-7e87-49cd-92f0-58b0421ea6d3",
   "metadata": {},
   "outputs": [
    {
     "name": "stdout",
     "output_type": "stream",
     "text": [
      "+---+--------------------+--------------------+\n",
      "| id|              cities|        upper_cities|\n",
      "+---+--------------------+--------------------+\n",
      "|  1|[Bangalore, Mumba...|[BANGALORE, MUMBA...|\n",
      "|  2|         [Bangalore]|         [BANGALORE]|\n",
      "|  3|                  []|                  []|\n",
      "|  4|[Kolkata, Bhubane...|[KOLKATA, BHUBANE...|\n",
      "|  5|[Bangalore, Mumba...|[BANGALORE, MUMBA...|\n",
      "|  6|[Delhi, Mumbai, K...|[DELHI, MUMBAI, K...|\n",
      "|  7| [Bangalore, Indore]| [BANGALORE, INDORE]|\n",
      "|  8|         [Bangalore]|         [BANGALORE]|\n",
      "|  9|           [Kolkata]|           [KOLKATA]|\n",
      "| 10|      [Bhubaneshwar]|      [BHUBANESHWAR]|\n",
      "| 11|[Bangalore, Mumba...|[BANGALORE, MUMBA...|\n",
      "| 12|[Chennai, Hyderāb...|[CHENNAI, HYDERĀB...|\n",
      "| 13|                  []|                  []|\n",
      "+---+--------------------+--------------------+\n",
      "\n"
     ]
    }
   ],
   "source": [
    "df_upper.show()"
   ]
  },
  {
   "cell_type": "code",
   "execution_count": null,
   "id": "ce139232-b1c2-4489-a833-7ad91e772f98",
   "metadata": {},
   "outputs": [],
   "source": [
    "# USE OF FILTER\n",
    "\n",
    "df_filtered = df.withColumn(\n",
    "    \"cities_with_a\", F.filter(\"cities\", lambda x: F.instr(x, \"a\") > 0)\n",
    ")\n",
    "filter_cities_udf = F.udf(\n",
    "    lambda arr: [x for x in arr if \"a\" in x], ArrayType(StringType())\n",
    ")\n",
    "df_filtered_udf = df.withColumn(\"cities_with_a\", filter_cities_udf(F.col(\"cities\")))"
   ]
  },
  {
   "cell_type": "code",
   "execution_count": 11,
   "id": "d4295ab8-4ba1-45da-9e48-90743ec045e9",
   "metadata": {},
   "outputs": [
    {
     "name": "stderr",
     "output_type": "stream",
     "text": [
      "                                                                                \r"
     ]
    }
   ],
   "source": [
    "df_filtered.write.format(\"noop\").mode(\"overwrite\").save()\n",
    "df_filtered_udf.write.format(\"noop\").mode(\"overwrite\").save()"
   ]
  },
  {
   "cell_type": "code",
   "execution_count": 15,
   "id": "5f75d4ea-8c5e-4661-9a83-1ef4ed0e526f",
   "metadata": {},
   "outputs": [
    {
     "name": "stdout",
     "output_type": "stream",
     "text": [
      "+---+--------------------+--------------------+\n",
      "| id|              cities|       cities_with_a|\n",
      "+---+--------------------+--------------------+\n",
      "|  1|[Bangalore, Mumba...| [Bangalore, Mumbai]|\n",
      "|  2|         [Bangalore]|         [Bangalore]|\n",
      "|  3|                  []|                  []|\n",
      "|  4|[Kolkata, Bhubane...|[Kolkata, Bhubane...|\n",
      "|  5|[Bangalore, Mumba...|[Bangalore, Mumba...|\n",
      "|  6|[Delhi, Mumbai, K...|[Mumbai, Kolkāta,...|\n",
      "|  7| [Bangalore, Indore]|         [Bangalore]|\n",
      "|  8|         [Bangalore]|         [Bangalore]|\n",
      "|  9|           [Kolkata]|           [Kolkata]|\n",
      "| 10|      [Bhubaneshwar]|      [Bhubaneshwar]|\n",
      "| 11|[Bangalore, Mumba...|[Bangalore, Mumba...|\n",
      "| 12|[Chennai, Hyderāb...|[Chennai, Ahmedab...|\n",
      "| 13|                  []|                  []|\n",
      "+---+--------------------+--------------------+\n",
      "\n"
     ]
    }
   ],
   "source": [
    "df_filtered.show()"
   ]
  },
  {
   "cell_type": "code",
   "execution_count": null,
   "id": "bbe27d1a-aee3-4178-986a-409feede0ca9",
   "metadata": {},
   "outputs": [],
   "source": [
    "# USE OF EXISTS\n",
    "\n",
    "df_exists = df.withColumn(\n",
    "    \"contains_mumbai\", F.exists(\"cities\", lambda x: x == \"Mumbai\")\n",
    ")\n",
    "contains_mumbai_udf = F.udf(lambda arr: \"Mumbai\" in arr, BooleanType())\n",
    "df_exists_udf = df.withColumn(\"contains_mumbai\", contains_mumbai_udf(F.col(\"cities\")))"
   ]
  },
  {
   "cell_type": "code",
   "execution_count": 13,
   "id": "c0aaa30a-d1f4-4e96-99a1-9aaac5516184",
   "metadata": {},
   "outputs": [
    {
     "name": "stderr",
     "output_type": "stream",
     "text": [
      "                                                                                \r"
     ]
    }
   ],
   "source": [
    "df_exists.write.format(\"noop\").mode(\"overwrite\").save()\n",
    "df_exists_udf.write.format(\"noop\").mode(\"overwrite\").save()"
   ]
  },
  {
   "cell_type": "code",
   "execution_count": 14,
   "id": "a60a7ea3-c6c6-4e42-98db-3683fcb6c4c6",
   "metadata": {},
   "outputs": [
    {
     "name": "stdout",
     "output_type": "stream",
     "text": [
      "+---+--------------------+---------------+\n",
      "| id|              cities|contains_mumbai|\n",
      "+---+--------------------+---------------+\n",
      "|  1|[Bangalore, Mumba...|           true|\n",
      "|  2|         [Bangalore]|          false|\n",
      "|  3|                  []|          false|\n",
      "|  4|[Kolkata, Bhubane...|          false|\n",
      "|  5|[Bangalore, Mumba...|           true|\n",
      "|  6|[Delhi, Mumbai, K...|           true|\n",
      "|  7| [Bangalore, Indore]|          false|\n",
      "|  8|         [Bangalore]|          false|\n",
      "|  9|           [Kolkata]|          false|\n",
      "| 10|      [Bhubaneshwar]|          false|\n",
      "| 11|[Bangalore, Mumba...|           true|\n",
      "| 12|[Chennai, Hyderāb...|          false|\n",
      "| 13|                  []|          false|\n",
      "+---+--------------------+---------------+\n",
      "\n"
     ]
    }
   ],
   "source": [
    "df_exists.show()"
   ]
  },
  {
   "cell_type": "code",
   "execution_count": 17,
   "id": "a6e12350-29fa-4268-8f0c-63791086d882",
   "metadata": {},
   "outputs": [],
   "source": [
    "spark.stop()"
   ]
  },
  {
   "cell_type": "code",
   "execution_count": null,
   "id": "8c33faa6-3d49-43a7-80a4-3337bebe9ef2",
   "metadata": {},
   "outputs": [],
   "source": []
  }
 ],
 "metadata": {
  "kernelspec": {
   "display_name": "Python 3 (ipykernel)",
   "language": "python",
   "name": "python3"
  },
  "language_info": {
   "codemirror_mode": {
    "name": "ipython",
    "version": 3
   },
   "file_extension": ".py",
   "mimetype": "text/x-python",
   "name": "python",
   "nbconvert_exporter": "python",
   "pygments_lexer": "ipython3",
   "version": "3.11.6"
  }
 },
 "nbformat": 4,
 "nbformat_minor": 5
}
