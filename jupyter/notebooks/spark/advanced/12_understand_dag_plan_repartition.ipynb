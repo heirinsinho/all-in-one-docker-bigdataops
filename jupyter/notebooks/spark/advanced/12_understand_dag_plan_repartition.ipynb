{
 "cells": [
  {
   "cell_type": "code",
   "execution_count": null,
   "id": "b0e0b911-e7cc-419c-a95b-dc97c24d6fa4",
   "metadata": {
    "tags": []
   },
   "outputs": [
    {
     "name": "stderr",
     "output_type": "stream",
     "text": [
      "Setting default log level to \"WARN\".\n",
      "To adjust logging level use sc.setLogLevel(newLevel). For SparkR, use setLogLevel(newLevel).\n",
      "24/11/07 16:46:14 WARN NativeCodeLoader: Unable to load native-hadoop library for your platform... using builtin-java classes where applicable\n"
     ]
    },
    {
     "data": {
      "text/html": [
       "\n",
       "            <div>\n",
       "                <p><b>SparkSession - in-memory</b></p>\n",
       "                \n",
       "        <div>\n",
       "            <p><b>SparkContext</b></p>\n",
       "\n",
       "            <p><a href=\"http://b9eb03d0898c:4040\">Spark UI</a></p>\n",
       "\n",
       "            <dl>\n",
       "              <dt>Version</dt>\n",
       "                <dd><code>v3.4.4</code></dd>\n",
       "              <dt>Master</dt>\n",
       "                <dd><code>spark://spark-master:7077</code></dd>\n",
       "              <dt>AppName</dt>\n",
       "                <dd><code>Understand Plans and DAG</code></dd>\n",
       "            </dl>\n",
       "        </div>\n",
       "        \n",
       "            </div>\n",
       "        "
      ],
      "text/plain": [
       "<pyspark.sql.session.SparkSession at 0x7f6a5008e390>"
      ]
     },
     "execution_count": 1,
     "metadata": {},
     "output_type": "execute_result"
    }
   ],
   "source": [
    "# Spark Session\n",
    "from pyspark.sql import SparkSession\n",
    "\n",
    "spark = (\n",
    "    SparkSession.builder.appName(\"Understand Plans and DAG\")\n",
    "    .master(\"spark://spark-master:7077\")\n",
    "    .getOrCreate()\n",
    ")\n",
    "\n",
    "spark"
   ]
  },
  {
   "cell_type": "code",
   "execution_count": 2,
   "id": "bc2dd4e0-8939-4a77-bf9c-5372e6c1b5e9",
   "metadata": {
    "tags": []
   },
   "outputs": [],
   "source": [
    "# Disable AQE and Broadcast join\n",
    "\n",
    "spark.conf.set(\"spark.sql.adaptive.enabled\", False)\n",
    "spark.conf.set(\"spark.sql.adaptive.coalescePartitions.enabled\", False)\n",
    "spark.conf.set(\"spark.sql.autoBroadcastJoinThreshold\", -1)"
   ]
  },
  {
   "cell_type": "code",
   "execution_count": 3,
   "id": "b0c41b28-3f8d-4fdc-8741-6b6f80a0e79d",
   "metadata": {
    "tags": []
   },
   "outputs": [
    {
     "data": {
      "text/plain": [
       "8"
      ]
     },
     "execution_count": 3,
     "metadata": {},
     "output_type": "execute_result"
    }
   ],
   "source": [
    "# Check default Parallism\n",
    "\n",
    "spark.sparkContext.defaultParallelism"
   ]
  },
  {
   "cell_type": "code",
   "execution_count": 4,
   "id": "59fffb02-2518-43d7-a637-403c27fe75af",
   "metadata": {
    "tags": []
   },
   "outputs": [],
   "source": [
    "# Create dataframes\n",
    "\n",
    "df_1 = spark.range(4, 200, 2)\n",
    "df_2 = spark.range(2, 200, 4)"
   ]
  },
  {
   "cell_type": "code",
   "execution_count": 6,
   "id": "224a4e9e-1e95-4010-80eb-bff32f9d8f50",
   "metadata": {
    "tags": []
   },
   "outputs": [
    {
     "data": {
      "text/plain": [
       "8"
      ]
     },
     "execution_count": 6,
     "metadata": {},
     "output_type": "execute_result"
    }
   ],
   "source": [
    "df_1.rdd.getNumPartitions()"
   ]
  },
  {
   "cell_type": "code",
   "execution_count": 7,
   "id": "c212fcb6-5828-4bf5-ae7e-03867309a991",
   "metadata": {
    "tags": []
   },
   "outputs": [],
   "source": [
    "# Re-partition data\n",
    "\n",
    "df_3 = df_1.repartition(5)\n",
    "df_4 = df_2.repartition(7)"
   ]
  },
  {
   "cell_type": "code",
   "execution_count": 9,
   "id": "b8b6c036-4c82-47f1-9290-fba68cb6278f",
   "metadata": {
    "tags": []
   },
   "outputs": [
    {
     "data": {
      "text/plain": [
       "7"
      ]
     },
     "execution_count": 9,
     "metadata": {},
     "output_type": "execute_result"
    }
   ],
   "source": [
    "df_4.rdd.getNumPartitions()"
   ]
  },
  {
   "cell_type": "code",
   "execution_count": 10,
   "id": "aab3aecf-4304-43f4-8257-a7f61e5ea8fc",
   "metadata": {
    "tags": []
   },
   "outputs": [],
   "source": [
    "# Join the dataframes\n",
    "\n",
    "df_joined = df_3.join(df_4, on=\"id\")"
   ]
  },
  {
   "cell_type": "code",
   "execution_count": 11,
   "id": "ec0f9d25-fbe5-4c29-8626-5cd79944a688",
   "metadata": {
    "tags": []
   },
   "outputs": [],
   "source": [
    "# Get the sum of ids\n",
    "\n",
    "df_sum = df_joined.selectExpr(\"sum(id) as total_sum\")"
   ]
  },
  {
   "cell_type": "code",
   "execution_count": 12,
   "id": "b2ed9c22-c27e-4b55-bfa0-1f2bf6eb8347",
   "metadata": {
    "tags": []
   },
   "outputs": [
    {
     "name": "stderr",
     "output_type": "stream",
     "text": [
      "[Stage 4:======================================================>(197 + 3) / 200]\r"
     ]
    },
    {
     "name": "stdout",
     "output_type": "stream",
     "text": [
      "+---------+\n",
      "|total_sum|\n",
      "+---------+\n",
      "|     4998|\n",
      "+---------+\n",
      "\n"
     ]
    },
    {
     "name": "stderr",
     "output_type": "stream",
     "text": [
      "                                                                                \r"
     ]
    }
   ],
   "source": [
    "# View data\n",
    "df_sum.show()"
   ]
  },
  {
   "cell_type": "code",
   "execution_count": 11,
   "id": "f3f14a77-f582-40c0-a42e-7e677271a3ab",
   "metadata": {
    "tags": []
   },
   "outputs": [
    {
     "name": "stdout",
     "output_type": "stream",
     "text": [
      "== Physical Plan ==\n",
      "*(6) HashAggregate(keys=[], functions=[sum(id#0L)])\n",
      "+- Exchange SinglePartition, ENSURE_REQUIREMENTS, [plan_id=166]\n",
      "   +- *(5) HashAggregate(keys=[], functions=[partial_sum(id#0L)])\n",
      "      +- *(5) Project [id#0L]\n",
      "         +- *(5) SortMergeJoin [id#0L], [id#2L], Inner\n",
      "            :- *(2) Sort [id#0L ASC NULLS FIRST], false, 0\n",
      "            :  +- Exchange hashpartitioning(id#0L, 200), ENSURE_REQUIREMENTS, [plan_id=150]\n",
      "            :     +- Exchange RoundRobinPartitioning(5), REPARTITION_BY_NUM, [plan_id=149]\n",
      "            :        +- *(1) Range (4, 200, step=2, splits=2)\n",
      "            +- *(4) Sort [id#2L ASC NULLS FIRST], false, 0\n",
      "               +- Exchange hashpartitioning(id#2L, 200), ENSURE_REQUIREMENTS, [plan_id=157]\n",
      "                  +- Exchange RoundRobinPartitioning(7), REPARTITION_BY_NUM, [plan_id=156]\n",
      "                     +- *(3) Range (2, 200, step=4, splits=2)\n",
      "\n",
      "\n"
     ]
    }
   ],
   "source": [
    "# Explain plan\n",
    "\n",
    "df_sum.explain()"
   ]
  },
  {
   "cell_type": "code",
   "execution_count": 13,
   "id": "a7d122d5-1481-499b-96c7-8eecf8dcebff",
   "metadata": {},
   "outputs": [
    {
     "name": "stderr",
     "output_type": "stream",
     "text": [
      "[Stage 8:================================================>      (175 + 8) / 200]\r"
     ]
    },
    {
     "name": "stdout",
     "output_type": "stream",
     "text": [
      "+---------+\n",
      "|total_sum|\n",
      "+---------+\n",
      "|     4998|\n",
      "+---------+\n",
      "\n"
     ]
    },
    {
     "name": "stderr",
     "output_type": "stream",
     "text": [
      "                                                                                \r"
     ]
    }
   ],
   "source": [
    "df_3 = df_1.coalesce(5)\n",
    "df_4 = df_2.coalesce(7)\n",
    "df_joined = df_3.join(df_4, on=\"id\")\n",
    "df_sum = df_joined.selectExpr(\"sum(id) as total_sum\")\n",
    "df_sum.show()"
   ]
  },
  {
   "cell_type": "code",
   "execution_count": 15,
   "id": "15f3172e-2b4f-4b9b-919c-46b4ac614905",
   "metadata": {
    "tags": []
   },
   "outputs": [],
   "source": [
    "# Union the data again to see the skipped stages\n",
    "\n",
    "df_union = df_sum.union(df_4)"
   ]
  },
  {
   "cell_type": "code",
   "execution_count": 16,
   "id": "0fd2b7c3-5fcd-4680-8a95-ff0cdca384a6",
   "metadata": {
    "tags": []
   },
   "outputs": [
    {
     "name": "stderr",
     "output_type": "stream",
     "text": [
      "                                                                                \r"
     ]
    },
    {
     "name": "stdout",
     "output_type": "stream",
     "text": [
      "+---------+\n",
      "|total_sum|\n",
      "+---------+\n",
      "|     4998|\n",
      "|        2|\n",
      "|        6|\n",
      "|       10|\n",
      "|       14|\n",
      "|       18|\n",
      "|       22|\n",
      "|       26|\n",
      "|       30|\n",
      "|       34|\n",
      "|       38|\n",
      "|       42|\n",
      "|       46|\n",
      "|       50|\n",
      "|       54|\n",
      "|       58|\n",
      "|       62|\n",
      "|       66|\n",
      "|       70|\n",
      "|       74|\n",
      "+---------+\n",
      "only showing top 20 rows\n",
      "\n"
     ]
    }
   ],
   "source": [
    "df_union.show()"
   ]
  },
  {
   "cell_type": "code",
   "execution_count": 14,
   "id": "3dee3ce2-8982-427e-abd7-d5f8b214759e",
   "metadata": {
    "tags": []
   },
   "outputs": [
    {
     "name": "stdout",
     "output_type": "stream",
     "text": [
      "== Physical Plan ==\n",
      "Union\n",
      ":- *(6) HashAggregate(keys=[], functions=[sum(id#0L)])\n",
      ":  +- Exchange SinglePartition, ENSURE_REQUIREMENTS, [plan_id=404]\n",
      ":     +- *(5) HashAggregate(keys=[], functions=[partial_sum(id#0L)])\n",
      ":        +- *(5) Project [id#0L]\n",
      ":           +- *(5) SortMergeJoin [id#0L], [id#2L], Inner\n",
      ":              :- *(2) Sort [id#0L ASC NULLS FIRST], false, 0\n",
      ":              :  +- Exchange hashpartitioning(id#0L, 200), ENSURE_REQUIREMENTS, [plan_id=388]\n",
      ":              :     +- Exchange RoundRobinPartitioning(5), REPARTITION_BY_NUM, [plan_id=387]\n",
      ":              :        +- *(1) Range (4, 200, step=2, splits=2)\n",
      ":              +- *(4) Sort [id#2L ASC NULLS FIRST], false, 0\n",
      ":                 +- Exchange hashpartitioning(id#2L, 200), ENSURE_REQUIREMENTS, [plan_id=395]\n",
      ":                    +- Exchange RoundRobinPartitioning(7), REPARTITION_BY_NUM, [plan_id=394]\n",
      ":                       +- *(3) Range (2, 200, step=4, splits=2)\n",
      "+- ReusedExchange [id#20L], Exchange RoundRobinPartitioning(7), REPARTITION_BY_NUM, [plan_id=394]\n",
      "\n",
      "\n"
     ]
    }
   ],
   "source": [
    "# Explain plan\n",
    "\n",
    "df_union.explain()"
   ]
  },
  {
   "cell_type": "code",
   "execution_count": 17,
   "id": "8a43e45b-ac67-4799-9de5-b9668684cc3b",
   "metadata": {},
   "outputs": [],
   "source": [
    "spark.stop()"
   ]
  },
  {
   "cell_type": "code",
   "execution_count": null,
   "id": "e9f351a4-0947-4262-955f-057cc5fabe96",
   "metadata": {},
   "outputs": [],
   "source": []
  }
 ],
 "metadata": {
  "kernelspec": {
   "display_name": "Python 3 (ipykernel)",
   "language": "python",
   "name": "python3"
  },
  "language_info": {
   "codemirror_mode": {
    "name": "ipython",
    "version": 3
   },
   "file_extension": ".py",
   "mimetype": "text/x-python",
   "name": "python",
   "nbconvert_exporter": "python",
   "pygments_lexer": "ipython3",
   "version": "3.11.6"
  }
 },
 "nbformat": 4,
 "nbformat_minor": 5
}
