{
 "cells": [
  {
   "cell_type": "markdown",
   "id": "3208d74d-7bad-45af-adcb-98f61eeefe36",
   "metadata": {},
   "source": [
    "# Spark AQE Coalesce Explained"
   ]
  },
  {
   "cell_type": "code",
   "execution_count": null,
   "id": "9ed56866-a7c3-4704-b332-027cea7527a0",
   "metadata": {},
   "outputs": [
    {
     "name": "stderr",
     "output_type": "stream",
     "text": [
      "Setting default log level to \"WARN\".\n",
      "To adjust logging level use sc.setLogLevel(newLevel). For SparkR, use setLogLevel(newLevel).\n",
      "24/11/04 16:22:13 WARN NativeCodeLoader: Unable to load native-hadoop library for your platform... using builtin-java classes where applicable\n"
     ]
    },
    {
     "data": {
      "text/html": [
       "\n",
       "            <div>\n",
       "                <p><b>SparkSession - in-memory</b></p>\n",
       "                \n",
       "        <div>\n",
       "            <p><b>SparkContext</b></p>\n",
       "\n",
       "            <p><a href=\"http://6b6be731e9f1:4040\">Spark UI</a></p>\n",
       "\n",
       "            <dl>\n",
       "              <dt>Version</dt>\n",
       "                <dd><code>v3.4.4</code></dd>\n",
       "              <dt>Master</dt>\n",
       "                <dd><code>spark://spark-master:7077</code></dd>\n",
       "              <dt>AppName</dt>\n",
       "                <dd><code>Spark AQE Explained</code></dd>\n",
       "            </dl>\n",
       "        </div>\n",
       "        \n",
       "            </div>\n",
       "        "
      ],
      "text/plain": [
       "<pyspark.sql.session.SparkSession at 0x7f3c1c469a10>"
      ]
     },
     "execution_count": 1,
     "metadata": {},
     "output_type": "execute_result"
    }
   ],
   "source": [
    "# Create Spark Session\n",
    "\n",
    "from pyspark.sql import SparkSession\n",
    "\n",
    "spark = (\n",
    "    SparkSession.builder.appName(\"Spark AQE Explained\")\n",
    "    .master(\"spark://spark-master:7077\")\n",
    "    .getOrCreate()\n",
    ")\n",
    "\n",
    "spark"
   ]
  },
  {
   "cell_type": "code",
   "execution_count": null,
   "id": "dff5ae73-3c1d-4ecc-a3eb-00df71cd817f",
   "metadata": {},
   "outputs": [
    {
     "name": "stdout",
     "output_type": "stream",
     "text": [
      "true\n",
      "true\n",
      "200\n",
      "67108864b\n"
     ]
    }
   ],
   "source": [
    "# Lets check the current spark conf for AQE and shuffle partitions\n",
    "print(spark.conf.get(\"spark.sql.adaptive.enabled\"))\n",
    "print(spark.conf.get(\"spark.sql.adaptive.coalescePartitions.enabled\"))\n",
    "print(spark.conf.get(\"spark.sql.shuffle.partitions\"))\n",
    "print(\n",
    "    spark.conf.get(\"spark.sql.adaptive.advisoryPartitionSizeInBytes\")\n",
    ")  # approx 64MB Default"
   ]
  },
  {
   "cell_type": "code",
   "execution_count": 6,
   "id": "ea877510-6d2a-4fd4-ac82-8f4809cd6e02",
   "metadata": {},
   "outputs": [],
   "source": [
    "# Disable AQE and change Shuffle partition\n",
    "spark.conf.set(\"spark.sql.adaptive.enabled\", False)\n",
    "spark.conf.set(\"spark.sql.adaptive.coalescePartitions.enabled\", False)\n",
    "spark.conf.set(\"spark.sql.shuffle.partitions\", 5)"
   ]
  },
  {
   "cell_type": "code",
   "execution_count": 4,
   "id": "d6855bed-c269-4e0a-878c-28d1c2f884b7",
   "metadata": {},
   "outputs": [
    {
     "name": "stdout",
     "output_type": "stream",
     "text": [
      "root\n",
      " |-- transacted_at: string (nullable = true)\n",
      " |-- trx_id: long (nullable = true)\n",
      " |-- retailer_id: long (nullable = true)\n",
      " |-- description: string (nullable = true)\n",
      " |-- amount: float (nullable = true)\n",
      " |-- city_id: float (nullable = true)\n",
      "\n",
      "Initial Partition after read: 8\n"
     ]
    }
   ],
   "source": [
    "# Read example data set\n",
    "import pandas as pd\n",
    "\n",
    "data_file_https_url = \"https://media.githubusercontent.com/media/subhamkharwal/pyspark-zero-to-hero/refs/heads/master/datasets/sales.csv\"\n",
    "schema = \"transacted_at string, trx_id long, retailer_id long, description string, amount float, city_id float\"\n",
    "df = spark.createDataFrame(data=pd.read_csv(data_file_https_url), schema=schema)\n",
    "df.printSchema()\n",
    "print(\"Initial Partition after read: \" + str(df.rdd.getNumPartitions()))"
   ]
  },
  {
   "cell_type": "code",
   "execution_count": null,
   "id": "7e26e987-4b99-486f-967a-b48e1f7e8c3d",
   "metadata": {},
   "outputs": [
    {
     "name": "stdout",
     "output_type": "stream",
     "text": [
      "Output shuffle partitions: 5\n"
     ]
    }
   ],
   "source": [
    "# GroupBy opeartion to trigger Shuffle\n",
    "from pyspark.sql.functions import sum\n",
    "\n",
    "df_count = (\n",
    "    df.selectExpr(\"city_id\", \"cast(amount as double) as amount_double\")\n",
    "    .groupBy(\"city_id\")\n",
    "    .agg(sum(\"amount_double\"))\n",
    ")\n",
    "print(\"Output shuffle partitions: \" + str(df_count.rdd.getNumPartitions()))"
   ]
  },
  {
   "cell_type": "code",
   "execution_count": 8,
   "id": "1a68cf55-1763-4460-962b-ceb6c0163656",
   "metadata": {},
   "outputs": [
    {
     "name": "stderr",
     "output_type": "stream",
     "text": [
      "24/11/04 16:26:44 WARN TaskSetManager: Stage 0 contains a task of very large size (8830 KiB). The maximum recommended task size is 1000 KiB.\n",
      "                                                                                \r"
     ]
    },
    {
     "data": {
      "text/plain": [
       "246"
      ]
     },
     "execution_count": 8,
     "metadata": {},
     "output_type": "execute_result"
    }
   ],
   "source": [
    "df_count.count()"
   ]
  },
  {
   "cell_type": "code",
   "execution_count": 9,
   "id": "e89b540f-50bd-4dca-ae1c-51fab42a9a7a",
   "metadata": {},
   "outputs": [],
   "source": [
    "# Enable AQE and change Shuffle partition\n",
    "spark.conf.set(\"spark.sql.adaptive.enabled\", True)\n",
    "spark.conf.set(\"spark.sql.adaptive.coalescePartitions.enabled\", True)\n",
    "spark.conf.set(\"spark.sql.shuffle.partitions\", 289)"
   ]
  },
  {
   "cell_type": "code",
   "execution_count": 10,
   "id": "8fffc470-622a-4b1e-88e9-ae570556ef6f",
   "metadata": {},
   "outputs": [
    {
     "name": "stdout",
     "output_type": "stream",
     "text": [
      "root\n",
      " |-- transacted_at: string (nullable = true)\n",
      " |-- trx_id: long (nullable = true)\n",
      " |-- retailer_id: long (nullable = true)\n",
      " |-- description: string (nullable = true)\n",
      " |-- amount: float (nullable = true)\n",
      " |-- city_id: float (nullable = true)\n",
      "\n",
      "Initial Partition after read: 8\n"
     ]
    }
   ],
   "source": [
    "# Read example data set\n",
    "data_file_https_url = \"https://media.githubusercontent.com/media/subhamkharwal/pyspark-zero-to-hero/refs/heads/master/datasets/sales.csv\"\n",
    "schema = \"transacted_at string, trx_id long, retailer_id long, description string, amount float, city_id float\"\n",
    "df = spark.createDataFrame(data=pd.read_csv(data_file_https_url), schema=schema)\n",
    "df.printSchema()\n",
    "print(\"Initial Partition after read: \" + str(df.rdd.getNumPartitions()))"
   ]
  },
  {
   "cell_type": "code",
   "execution_count": null,
   "id": "3e70abc7-b704-460c-9342-eba6a47147fd",
   "metadata": {},
   "outputs": [
    {
     "name": "stderr",
     "output_type": "stream",
     "text": [
      "24/11/04 16:28:36 WARN TaskSetManager: Stage 3 contains a task of very large size (8830 KiB). The maximum recommended task size is 1000 KiB.\n",
      "[Stage 3:>                                                          (0 + 8) / 8]\r"
     ]
    },
    {
     "name": "stdout",
     "output_type": "stream",
     "text": [
      "Output shuffle partitions: 1\n"
     ]
    },
    {
     "name": "stderr",
     "output_type": "stream",
     "text": [
      "[Stage 3:=============================>                             (4 + 4) / 8]\r"
     ]
    }
   ],
   "source": [
    "# GroupBy opeartion to trigger Shuffle\n",
    "# Since our output with city_id as group by is smaller than < 64MB thus the data is written in single partiton\n",
    "from pyspark.sql.functions import sum\n",
    "\n",
    "df_count = (\n",
    "    df.selectExpr(\"city_id\", \"cast(amount as double) as amount_double\")\n",
    "    .groupBy(\"city_id\")\n",
    "    .agg(sum(\"amount_double\"))\n",
    ")\n",
    "print(\"Output shuffle partitions: \" + str(df_count.rdd.getNumPartitions()))"
   ]
  },
  {
   "cell_type": "code",
   "execution_count": 12,
   "id": "03a67ced-bfc2-48ca-a4c3-1632087e0145",
   "metadata": {},
   "outputs": [
    {
     "name": "stderr",
     "output_type": "stream",
     "text": [
      "24/11/04 16:28:48 WARN TaskSetManager: Stage 4 contains a task of very large size (8830 KiB). The maximum recommended task size is 1000 KiB.\n",
      "                                                                                \r"
     ]
    },
    {
     "data": {
      "text/plain": [
       "246"
      ]
     },
     "execution_count": 12,
     "metadata": {},
     "output_type": "execute_result"
    }
   ],
   "source": [
    "df_count.count()"
   ]
  },
  {
   "cell_type": "code",
   "execution_count": null,
   "id": "54d5fd57-a9c0-4b9c-a806-81c708bc1c45",
   "metadata": {},
   "outputs": [
    {
     "name": "stderr",
     "output_type": "stream",
     "text": [
      "24/11/04 16:31:53 WARN TaskSetManager: Stage 22 contains a task of very large size (8830 KiB). The maximum recommended task size is 1000 KiB.\n",
      "[Stage 22:>                                                         (0 + 8) / 8]\r"
     ]
    },
    {
     "name": "stdout",
     "output_type": "stream",
     "text": [
      "Output shuffle partitions: 8\n"
     ]
    },
    {
     "name": "stderr",
     "output_type": "stream",
     "text": [
      "[Stage 22:=======>                                                  (1 + 7) / 8]\r"
     ]
    }
   ],
   "source": [
    "# GroupBy opeartion to trigger Shuffle but this time with trx_id (which is more unique - thus more data)\n",
    "# Since our output with trx_id as group by is > 64MB thus the data is written in multiple partitions\n",
    "from pyspark.sql.functions import sum\n",
    "\n",
    "df_count = (\n",
    "    df.selectExpr(\"trx_id\", \"cast(amount as double) as amount_double\")\n",
    "    .groupBy(\"trx_id\")\n",
    "    .agg(sum(\"amount_double\"))\n",
    ")\n",
    "print(\"Output shuffle partitions: \" + str(df_count.rdd.getNumPartitions()))"
   ]
  },
  {
   "cell_type": "code",
   "execution_count": 17,
   "id": "e749cb3c-4ddb-4b75-9085-00cfe57221a7",
   "metadata": {},
   "outputs": [
    {
     "name": "stderr",
     "output_type": "stream",
     "text": [
      "24/11/04 16:32:07 WARN TaskSetManager: Stage 23 contains a task of very large size (8830 KiB). The maximum recommended task size is 1000 KiB.\n",
      "                                                                                \r"
     ]
    },
    {
     "data": {
      "text/plain": [
       "1101906"
      ]
     },
     "execution_count": 17,
     "metadata": {},
     "output_type": "execute_result"
    }
   ],
   "source": [
    "df_count.count()"
   ]
  },
  {
   "cell_type": "code",
   "execution_count": 14,
   "id": "38c948cc-e73c-4e13-893f-88defe01e1d7",
   "metadata": {},
   "outputs": [
    {
     "name": "stderr",
     "output_type": "stream",
     "text": [
      "24/11/04 16:31:27 WARN TaskSetManager: Stage 10 contains a task of very large size (8830 KiB). The maximum recommended task size is 1000 KiB.\n",
      "                                                                                \r"
     ]
    },
    {
     "data": {
      "text/plain": [
       "246"
      ]
     },
     "execution_count": 14,
     "metadata": {},
     "output_type": "execute_result"
    }
   ],
   "source": [
    "df.select(\"city_id\").distinct().count()"
   ]
  },
  {
   "cell_type": "code",
   "execution_count": 15,
   "id": "90cf07b4-122a-452e-be8f-56ba426ede38",
   "metadata": {},
   "outputs": [
    {
     "name": "stderr",
     "output_type": "stream",
     "text": [
      "24/11/04 16:31:36 WARN TaskSetManager: Stage 16 contains a task of very large size (8830 KiB). The maximum recommended task size is 1000 KiB.\n",
      "                                                                                \r"
     ]
    },
    {
     "data": {
      "text/plain": [
       "1101906"
      ]
     },
     "execution_count": 15,
     "metadata": {},
     "output_type": "execute_result"
    }
   ],
   "source": [
    "df.select(\"trx_id\").distinct().count()"
   ]
  },
  {
   "cell_type": "code",
   "execution_count": 18,
   "id": "c3c1f9b8-3a07-4f47-a7c5-68b7a7db4d1e",
   "metadata": {},
   "outputs": [],
   "source": [
    "spark.stop()"
   ]
  },
  {
   "cell_type": "code",
   "execution_count": null,
   "id": "439d4de9-65ca-4a72-b00d-6711b0810c01",
   "metadata": {},
   "outputs": [],
   "source": []
  }
 ],
 "metadata": {
  "kernelspec": {
   "display_name": "Python 3 (ipykernel)",
   "language": "python",
   "name": "python3"
  },
  "language_info": {
   "codemirror_mode": {
    "name": "ipython",
    "version": 3
   },
   "file_extension": ".py",
   "mimetype": "text/x-python",
   "name": "python",
   "nbconvert_exporter": "python",
   "pygments_lexer": "ipython3",
   "version": "3.11.6"
  }
 },
 "nbformat": 4,
 "nbformat_minor": 5
}
