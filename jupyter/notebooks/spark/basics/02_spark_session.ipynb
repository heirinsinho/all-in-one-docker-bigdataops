{
 "cells": [
  {
   "cell_type": "code",
   "execution_count": null,
   "id": "92f7e43a-550e-4b11-8a42-57a2a022d950",
   "metadata": {},
   "outputs": [
    {
     "name": "stderr",
     "output_type": "stream",
     "text": [
      "Setting default log level to \"WARN\".\n",
      "To adjust logging level use sc.setLogLevel(newLevel). For SparkR, use setLogLevel(newLevel).\n",
      "24/10/17 15:17:36 WARN NativeCodeLoader: Unable to load native-hadoop library for your platform... using builtin-java classes where applicable\n"
     ]
    }
   ],
   "source": [
    "# Spark Session\n",
    "from pyspark.sql import SparkSession\n",
    "\n",
    "spark = (\n",
    "    SparkSession.builder.appName(\"Spark Introduction\")\n",
    "    # .config(\"spark.executor.instances\", \"2\") # NORMALLY SPARK IGNORES THIS SETTING\n",
    "    .config(\"spark.cores.max\", \"4\")  # HARD SETTING\n",
    "    .config(\"spark.executor.cores\", \"1\")\n",
    "    .config(\"spark.executor.memory\", \"1g\")\n",
    "    .master(\"spark://spark-master:7077\")\n",
    "    .getOrCreate()\n",
    ")"
   ]
  },
  {
   "cell_type": "code",
   "execution_count": 5,
   "id": "9d85b5ec-1e9f-4f03-80ca-029cf50a6518",
   "metadata": {},
   "outputs": [
    {
     "data": {
      "text/plain": [
       "'http://35457ff6b52e:4040'"
      ]
     },
     "execution_count": 5,
     "metadata": {},
     "output_type": "execute_result"
    }
   ],
   "source": [
    "# DRIVER URL\n",
    "\n",
    "spark.sparkContext._jsc.sc().uiWebUrl().get()"
   ]
  },
  {
   "cell_type": "code",
   "execution_count": null,
   "id": "40194769-93cc-4815-942a-122d3e9ebf78",
   "metadata": {},
   "outputs": [],
   "source": [
    "# EXECUTORS INFO\n",
    "\n",
    "import requests\n",
    "\n",
    "app_id = spark.sparkContext.applicationId\n",
    "r = requests.get(f\"http://35457ff6b52e:4040/api/v1/applications/{app_id}/executors\")"
   ]
  },
  {
   "cell_type": "code",
   "execution_count": 7,
   "id": "37591f33-1e44-4b11-bad8-cd88e5e2cfc8",
   "metadata": {},
   "outputs": [
    {
     "data": {
      "text/plain": [
       "[{'id': 'driver',\n",
       "  'hostPort': '35457ff6b52e:45219',\n",
       "  'isActive': True,\n",
       "  'rddBlocks': 0,\n",
       "  'memoryUsed': 0,\n",
       "  'diskUsed': 0,\n",
       "  'totalCores': 0,\n",
       "  'maxTasks': 0,\n",
       "  'activeTasks': 0,\n",
       "  'failedTasks': 0,\n",
       "  'completedTasks': 0,\n",
       "  'totalTasks': 0,\n",
       "  'totalDuration': 236152,\n",
       "  'totalGCTime': 92,\n",
       "  'totalInputBytes': 0,\n",
       "  'totalShuffleRead': 0,\n",
       "  'totalShuffleWrite': 0,\n",
       "  'isBlacklisted': False,\n",
       "  'maxMemory': 455501414,\n",
       "  'addTime': '2024-10-15T17:07:02.606GMT',\n",
       "  'executorLogs': {},\n",
       "  'memoryMetrics': {'usedOnHeapStorageMemory': 0,\n",
       "   'usedOffHeapStorageMemory': 0,\n",
       "   'totalOnHeapStorageMemory': 455501414,\n",
       "   'totalOffHeapStorageMemory': 0},\n",
       "  'blacklistedInStages': [],\n",
       "  'peakMemoryMetrics': {'JVMHeapMemory': 90823592,\n",
       "   'JVMOffHeapMemory': 92036280,\n",
       "   'OnHeapExecutionMemory': 0,\n",
       "   'OffHeapExecutionMemory': 0,\n",
       "   'OnHeapStorageMemory': 0,\n",
       "   'OffHeapStorageMemory': 0,\n",
       "   'OnHeapUnifiedMemory': 0,\n",
       "   'OffHeapUnifiedMemory': 0,\n",
       "   'DirectPoolMemory': 38186975,\n",
       "   'MappedPoolMemory': 0,\n",
       "   'ProcessTreeJVMVMemory': 0,\n",
       "   'ProcessTreeJVMRSSMemory': 0,\n",
       "   'ProcessTreePythonVMemory': 0,\n",
       "   'ProcessTreePythonRSSMemory': 0,\n",
       "   'ProcessTreeOtherVMemory': 0,\n",
       "   'ProcessTreeOtherRSSMemory': 0,\n",
       "   'MinorGCCount': 10,\n",
       "   'MinorGCTime': 92,\n",
       "   'MajorGCCount': 0,\n",
       "   'MajorGCTime': 0,\n",
       "   'TotalGCTime': 92},\n",
       "  'attributes': {},\n",
       "  'resources': {},\n",
       "  'resourceProfileId': 0,\n",
       "  'isExcluded': False,\n",
       "  'excludedInStages': []},\n",
       " {'id': '3',\n",
       "  'hostPort': '172.18.0.5:35777',\n",
       "  'isActive': True,\n",
       "  'rddBlocks': 0,\n",
       "  'memoryUsed': 0,\n",
       "  'diskUsed': 0,\n",
       "  'totalCores': 1,\n",
       "  'maxTasks': 1,\n",
       "  'activeTasks': 0,\n",
       "  'failedTasks': 0,\n",
       "  'completedTasks': 0,\n",
       "  'totalTasks': 0,\n",
       "  'totalDuration': 0,\n",
       "  'totalGCTime': 0,\n",
       "  'totalInputBytes': 0,\n",
       "  'totalShuffleRead': 0,\n",
       "  'totalShuffleWrite': 0,\n",
       "  'isBlacklisted': False,\n",
       "  'maxMemory': 455501414,\n",
       "  'addTime': '2024-10-15T17:07:08.471GMT',\n",
       "  'executorLogs': {'stdout': 'http://localhost:18080/proxy/worker-20241015170636-172.18.0.5-40799/logPage/?appId=app-20241015170702-0000&executorId=3&logType=stdout',\n",
       "   'stderr': 'http://localhost:18080/proxy/worker-20241015170636-172.18.0.5-40799/logPage/?appId=app-20241015170702-0000&executorId=3&logType=stderr'},\n",
       "  'memoryMetrics': {'usedOnHeapStorageMemory': 0,\n",
       "   'usedOffHeapStorageMemory': 0,\n",
       "   'totalOnHeapStorageMemory': 455501414,\n",
       "   'totalOffHeapStorageMemory': 0},\n",
       "  'blacklistedInStages': [],\n",
       "  'attributes': {},\n",
       "  'resources': {},\n",
       "  'resourceProfileId': 0,\n",
       "  'isExcluded': False,\n",
       "  'excludedInStages': []},\n",
       " {'id': '2',\n",
       "  'hostPort': '172.18.0.5:36465',\n",
       "  'isActive': True,\n",
       "  'rddBlocks': 0,\n",
       "  'memoryUsed': 0,\n",
       "  'diskUsed': 0,\n",
       "  'totalCores': 1,\n",
       "  'maxTasks': 1,\n",
       "  'activeTasks': 0,\n",
       "  'failedTasks': 0,\n",
       "  'completedTasks': 0,\n",
       "  'totalTasks': 0,\n",
       "  'totalDuration': 0,\n",
       "  'totalGCTime': 0,\n",
       "  'totalInputBytes': 0,\n",
       "  'totalShuffleRead': 0,\n",
       "  'totalShuffleWrite': 0,\n",
       "  'isBlacklisted': False,\n",
       "  'maxMemory': 455501414,\n",
       "  'addTime': '2024-10-15T17:07:08.446GMT',\n",
       "  'executorLogs': {'stdout': 'http://localhost:18080/proxy/worker-20241015170636-172.18.0.5-40799/logPage/?appId=app-20241015170702-0000&executorId=2&logType=stdout',\n",
       "   'stderr': 'http://localhost:18080/proxy/worker-20241015170636-172.18.0.5-40799/logPage/?appId=app-20241015170702-0000&executorId=2&logType=stderr'},\n",
       "  'memoryMetrics': {'usedOnHeapStorageMemory': 0,\n",
       "   'usedOffHeapStorageMemory': 0,\n",
       "   'totalOnHeapStorageMemory': 455501414,\n",
       "   'totalOffHeapStorageMemory': 0},\n",
       "  'blacklistedInStages': [],\n",
       "  'attributes': {},\n",
       "  'resources': {},\n",
       "  'resourceProfileId': 0,\n",
       "  'isExcluded': False,\n",
       "  'excludedInStages': []},\n",
       " {'id': '1',\n",
       "  'hostPort': '172.18.0.3:39401',\n",
       "  'isActive': True,\n",
       "  'rddBlocks': 0,\n",
       "  'memoryUsed': 0,\n",
       "  'diskUsed': 0,\n",
       "  'totalCores': 1,\n",
       "  'maxTasks': 1,\n",
       "  'activeTasks': 0,\n",
       "  'failedTasks': 0,\n",
       "  'completedTasks': 0,\n",
       "  'totalTasks': 0,\n",
       "  'totalDuration': 0,\n",
       "  'totalGCTime': 0,\n",
       "  'totalInputBytes': 0,\n",
       "  'totalShuffleRead': 0,\n",
       "  'totalShuffleWrite': 0,\n",
       "  'isBlacklisted': False,\n",
       "  'maxMemory': 455501414,\n",
       "  'addTime': '2024-10-15T17:07:08.017GMT',\n",
       "  'executorLogs': {'stdout': 'http://localhost:18080/proxy/worker-20241015170636-172.18.0.3-36743/logPage/?appId=app-20241015170702-0000&executorId=1&logType=stdout',\n",
       "   'stderr': 'http://localhost:18080/proxy/worker-20241015170636-172.18.0.3-36743/logPage/?appId=app-20241015170702-0000&executorId=1&logType=stderr'},\n",
       "  'memoryMetrics': {'usedOnHeapStorageMemory': 0,\n",
       "   'usedOffHeapStorageMemory': 0,\n",
       "   'totalOnHeapStorageMemory': 455501414,\n",
       "   'totalOffHeapStorageMemory': 0},\n",
       "  'blacklistedInStages': [],\n",
       "  'attributes': {},\n",
       "  'resources': {},\n",
       "  'resourceProfileId': 0,\n",
       "  'isExcluded': False,\n",
       "  'excludedInStages': []},\n",
       " {'id': '0',\n",
       "  'hostPort': '172.18.0.3:33521',\n",
       "  'isActive': True,\n",
       "  'rddBlocks': 0,\n",
       "  'memoryUsed': 0,\n",
       "  'diskUsed': 0,\n",
       "  'totalCores': 1,\n",
       "  'maxTasks': 1,\n",
       "  'activeTasks': 0,\n",
       "  'failedTasks': 0,\n",
       "  'completedTasks': 0,\n",
       "  'totalTasks': 0,\n",
       "  'totalDuration': 0,\n",
       "  'totalGCTime': 0,\n",
       "  'totalInputBytes': 0,\n",
       "  'totalShuffleRead': 0,\n",
       "  'totalShuffleWrite': 0,\n",
       "  'isBlacklisted': False,\n",
       "  'maxMemory': 455501414,\n",
       "  'addTime': '2024-10-15T17:07:08.018GMT',\n",
       "  'executorLogs': {'stdout': 'http://localhost:18080/proxy/worker-20241015170636-172.18.0.3-36743/logPage/?appId=app-20241015170702-0000&executorId=0&logType=stdout',\n",
       "   'stderr': 'http://localhost:18080/proxy/worker-20241015170636-172.18.0.3-36743/logPage/?appId=app-20241015170702-0000&executorId=0&logType=stderr'},\n",
       "  'memoryMetrics': {'usedOnHeapStorageMemory': 0,\n",
       "   'usedOffHeapStorageMemory': 0,\n",
       "   'totalOnHeapStorageMemory': 455501414,\n",
       "   'totalOffHeapStorageMemory': 0},\n",
       "  'blacklistedInStages': [],\n",
       "  'attributes': {},\n",
       "  'resources': {},\n",
       "  'resourceProfileId': 0,\n",
       "  'isExcluded': False,\n",
       "  'excludedInStages': []}]"
      ]
     },
     "execution_count": 7,
     "metadata": {},
     "output_type": "execute_result"
    }
   ],
   "source": [
    "r.json()"
   ]
  },
  {
   "cell_type": "code",
   "execution_count": null,
   "id": "c0656d31-ba16-49f3-8f7f-f0c038d4d886",
   "metadata": {},
   "outputs": [],
   "source": [
    "# Emp Data & Schema\n",
    "\n",
    "emp_data = [\n",
    "    [\"001\", \"101\", \"John Doe\", \"30\", \"Male\", \"50000\", \"2015-01-01\"],\n",
    "    [\"002\", \"101\", \"Jane Smith\", \"25\", \"Female\", \"45000\", \"2016-02-15\"],\n",
    "    [\"003\", \"102\", \"Bob Brown\", \"35\", \"Male\", \"55000\", \"2014-05-01\"],\n",
    "    [\"004\", \"102\", \"Alice Lee\", \"28\", \"Female\", \"48000\", \"2017-09-30\"],\n",
    "    [\"005\", \"103\", \"Jack Chan\", \"40\", \"Male\", \"60000\", \"2013-04-01\"],\n",
    "    [\"006\", \"103\", \"Jill Wong\", \"32\", \"Female\", \"52000\", \"2018-07-01\"],\n",
    "    [\"007\", \"101\", \"James Johnson\", \"42\", \"Male\", \"70000\", \"2012-03-15\"],\n",
    "    [\"008\", \"102\", \"Kate Kim\", \"29\", \"Female\", \"51000\", \"2019-10-01\"],\n",
    "    [\"009\", \"103\", \"Tom Tan\", \"33\", \"Male\", \"58000\", \"2016-06-01\"],\n",
    "    [\"010\", \"104\", \"Lisa Lee\", \"27\", \"Female\", \"47000\", \"2018-08-01\"],\n",
    "    [\"011\", \"104\", \"David Park\", \"38\", \"Male\", \"65000\", \"2015-11-01\"],\n",
    "    [\"012\", \"105\", \"Susan Chen\", \"31\", \"Female\", \"54000\", \"2017-02-15\"],\n",
    "    [\"013\", \"106\", \"Brian Kim\", \"45\", \"Male\", \"75000\", \"2011-07-01\"],\n",
    "    [\"014\", \"107\", \"Emily Lee\", \"26\", \"Female\", \"46000\", \"2019-01-01\"],\n",
    "    [\"015\", \"106\", \"Michael Lee\", \"37\", \"Male\", \"63000\", \"2014-09-30\"],\n",
    "    [\"016\", \"107\", \"Kelly Zhang\", \"30\", \"Female\", \"49000\", \"2018-04-01\"],\n",
    "    [\"017\", \"105\", \"George Wang\", \"34\", \"Male\", \"57000\", \"2016-03-15\"],\n",
    "    [\"018\", \"104\", \"Nancy Liu\", \"29\", \"Female\", \"50000\", \"2017-06-01\"],\n",
    "    [\"019\", \"103\", \"Steven Chen\", \"36\", \"Male\", \"62000\", \"2015-08-01\"],\n",
    "    [\"020\", \"102\", \"Grace Kim\", \"32\", \"Female\", \"53000\", \"2018-11-01\"],\n",
    "]\n",
    "\n",
    "emp_schema = \"employee_id string, department_id string, name string, age string, gender string, salary string, hire_date string\""
   ]
  },
  {
   "cell_type": "code",
   "execution_count": 3,
   "id": "b1cd7a52-3086-43a9-8e64-dd87eee86c5a",
   "metadata": {},
   "outputs": [],
   "source": [
    "# Create emp DataFrame\n",
    "\n",
    "emp = spark.createDataFrame(data=emp_data, schema=emp_schema)"
   ]
  },
  {
   "cell_type": "code",
   "execution_count": 7,
   "id": "60c7c970-294b-4d8f-9dcd-8c457f10bc6e",
   "metadata": {},
   "outputs": [
    {
     "data": {
      "text/plain": [
       "DataFrame[employee_id: string, department_id: string, name: string, age: string, gender: string, salary: string, hire_date: string]"
      ]
     },
     "execution_count": 7,
     "metadata": {},
     "output_type": "execute_result"
    }
   ],
   "source": [
    "emp"
   ]
  },
  {
   "cell_type": "code",
   "execution_count": 11,
   "id": "cb5c8a76-ab66-42b9-b885-475b7259c4f8",
   "metadata": {},
   "outputs": [
    {
     "name": "stdout",
     "output_type": "stream",
     "text": [
      "+-----------+-------------+--------+---+------+------+----------+\n",
      "|employee_id|department_id|    name|age|gender|salary| hire_date|\n",
      "+-----------+-------------+--------+---+------+------+----------+\n",
      "|        001|          101|John Doe| 30|  Male| 50000|2015-01-01|\n",
      "+-----------+-------------+--------+---+------+------+----------+\n",
      "only showing top 1 row\n",
      "\n"
     ]
    }
   ],
   "source": [
    "emp.show(1)"
   ]
  },
  {
   "cell_type": "code",
   "execution_count": 4,
   "id": "9ea6550d-86fd-46fd-aeb1-e0ba7c8c84be",
   "metadata": {},
   "outputs": [
    {
     "data": {
      "text/plain": [
       "4"
      ]
     },
     "execution_count": 4,
     "metadata": {},
     "output_type": "execute_result"
    }
   ],
   "source": [
    "# Check number of partitions\n",
    "\n",
    "emp.rdd.getNumPartitions()"
   ]
  },
  {
   "cell_type": "code",
   "execution_count": 5,
   "id": "8ed4a06b-34e1-443e-ba41-fa2f04f336ad",
   "metadata": {},
   "outputs": [
    {
     "name": "stderr",
     "output_type": "stream",
     "text": [
      "[Stage 1:===================>                                       (1 + 2) / 3]\r"
     ]
    },
    {
     "name": "stdout",
     "output_type": "stream",
     "text": [
      "+-----------+-------------+-------------+---+------+------+----------+------------+\n",
      "|employee_id|department_id|         name|age|gender|salary| hire_date|partition_id|\n",
      "+-----------+-------------+-------------+---+------+------+----------+------------+\n",
      "|        001|          101|     John Doe| 30|  Male| 50000|2015-01-01|           0|\n",
      "|        002|          101|   Jane Smith| 25|Female| 45000|2016-02-15|           0|\n",
      "|        003|          102|    Bob Brown| 35|  Male| 55000|2014-05-01|           0|\n",
      "|        004|          102|    Alice Lee| 28|Female| 48000|2017-09-30|           0|\n",
      "|        005|          103|    Jack Chan| 40|  Male| 60000|2013-04-01|           0|\n",
      "|        006|          103|    Jill Wong| 32|Female| 52000|2018-07-01|           1|\n",
      "|        007|          101|James Johnson| 42|  Male| 70000|2012-03-15|           1|\n",
      "|        008|          102|     Kate Kim| 29|Female| 51000|2019-10-01|           1|\n",
      "|        009|          103|      Tom Tan| 33|  Male| 58000|2016-06-01|           1|\n",
      "|        010|          104|     Lisa Lee| 27|Female| 47000|2018-08-01|           1|\n",
      "|        011|          104|   David Park| 38|  Male| 65000|2015-11-01|           2|\n",
      "|        012|          105|   Susan Chen| 31|Female| 54000|2017-02-15|           2|\n",
      "|        013|          106|    Brian Kim| 45|  Male| 75000|2011-07-01|           2|\n",
      "|        014|          107|    Emily Lee| 26|Female| 46000|2019-01-01|           2|\n",
      "|        015|          106|  Michael Lee| 37|  Male| 63000|2014-09-30|           2|\n",
      "|        016|          107|  Kelly Zhang| 30|Female| 49000|2018-04-01|           3|\n",
      "|        017|          105|  George Wang| 34|  Male| 57000|2016-03-15|           3|\n",
      "|        018|          104|    Nancy Liu| 29|Female| 50000|2017-06-01|           3|\n",
      "|        019|          103|  Steven Chen| 36|  Male| 62000|2015-08-01|           3|\n",
      "|        020|          102|    Grace Kim| 32|Female| 53000|2018-11-01|           3|\n",
      "+-----------+-------------+-------------+---+------+------+----------+------------+\n",
      "\n"
     ]
    },
    {
     "name": "stderr",
     "output_type": "stream",
     "text": [
      "                                                                                \r"
     ]
    }
   ],
   "source": [
    "from pyspark.sql import functions as F\n",
    "\n",
    "emp = emp.withColumn(\"partition_id\", F.spark_partition_id())\n",
    "emp.show()"
   ]
  },
  {
   "cell_type": "markdown",
   "id": "69a54497-c766-483c-b341-f30484148fdd",
   "metadata": {},
   "source": [
    "DATAFRAME OF PARTITIONS BY EXECUTOR"
   ]
  },
  {
   "cell_type": "code",
   "execution_count": null,
   "id": "058c1ba4-e2b8-4ff3-9d3e-5ed2d8169fcb",
   "metadata": {},
   "outputs": [
    {
     "name": "stderr",
     "output_type": "stream",
     "text": [
      "[Stage 4:=======================================>                   (2 + 1) / 3]\r"
     ]
    },
    {
     "name": "stdout",
     "output_type": "stream",
     "text": [
      "+------------+------------+-----------+\n",
      "|partition_id| worker_host|executor_id|\n",
      "+------------+------------+-----------+\n",
      "|           0|26130b90b9ae|          3|\n",
      "|           1|26130b90b9ae|          2|\n",
      "|           2|aa1460ac4ddd|          0|\n",
      "|           3|aa1460ac4ddd|          1|\n",
      "+------------+------------+-----------+\n",
      "\n"
     ]
    },
    {
     "name": "stderr",
     "output_type": "stream",
     "text": [
      "                                                                                \r"
     ]
    }
   ],
   "source": [
    "import os\n",
    "import re\n",
    "import socket\n",
    "\n",
    "\n",
    "def get_executor_partition_info(index, iterator):\n",
    "    executor_log_url = os.getenv(\"SPARK_LOG_URL_STDERR\")\n",
    "    pattern = r\"executorId=(\\d+)\"\n",
    "    executor_id = re.findall(pattern, executor_log_url)[0]\n",
    "    worker = socket.gethostname()\n",
    "\n",
    "    # Return a string containing executor and partition information\n",
    "    return [[index, worker, executor_id]]\n",
    "\n",
    "\n",
    "# Apply the function and collect the results\n",
    "info = emp.rdd.mapPartitionsWithIndex(get_executor_partition_info).toDF(\n",
    "    [\"partition_id\", \"worker_host\", \"executor_id\"]\n",
    ")\n",
    "info.show()"
   ]
  },
  {
   "cell_type": "markdown",
   "id": "bbd9d222-b0eb-4ff9-b1a8-10fb43f70499",
   "metadata": {},
   "source": [
    "DATAFRAME WITH EXECUTOR AND PARTITION BY ROW"
   ]
  },
  {
   "cell_type": "code",
   "execution_count": null,
   "id": "8285cf90-809a-4a82-8e53-6957ce696976",
   "metadata": {},
   "outputs": [
    {
     "name": "stdout",
     "output_type": "stream",
     "text": [
      "+------------+------------+-----------+-----------+-------------+-------------+---+------+------+----------+------------+\n",
      "|partition_id| worker_host|executor_id|employee_id|department_id|         name|age|gender|salary| hire_date|partition_id|\n",
      "+------------+------------+-----------+-----------+-------------+-------------+---+------+------+----------+------------+\n",
      "|           0|aa1460ac4ddd|          0|        001|          101|     John Doe| 30|  Male| 50000|2015-01-01|           0|\n",
      "|           0|aa1460ac4ddd|          0|        002|          101|   Jane Smith| 25|Female| 45000|2016-02-15|           0|\n",
      "|           0|aa1460ac4ddd|          0|        003|          102|    Bob Brown| 35|  Male| 55000|2014-05-01|           0|\n",
      "|           0|aa1460ac4ddd|          0|        004|          102|    Alice Lee| 28|Female| 48000|2017-09-30|           0|\n",
      "|           0|aa1460ac4ddd|          0|        005|          103|    Jack Chan| 40|  Male| 60000|2013-04-01|           0|\n",
      "|           1|26130b90b9ae|          3|        006|          103|    Jill Wong| 32|Female| 52000|2018-07-01|           1|\n",
      "|           1|26130b90b9ae|          3|        007|          101|James Johnson| 42|  Male| 70000|2012-03-15|           1|\n",
      "|           1|26130b90b9ae|          3|        008|          102|     Kate Kim| 29|Female| 51000|2019-10-01|           1|\n",
      "|           1|26130b90b9ae|          3|        009|          103|      Tom Tan| 33|  Male| 58000|2016-06-01|           1|\n",
      "|           1|26130b90b9ae|          3|        010|          104|     Lisa Lee| 27|Female| 47000|2018-08-01|           1|\n",
      "|           2|26130b90b9ae|          2|        011|          104|   David Park| 38|  Male| 65000|2015-11-01|           2|\n",
      "|           2|26130b90b9ae|          2|        012|          105|   Susan Chen| 31|Female| 54000|2017-02-15|           2|\n",
      "|           2|26130b90b9ae|          2|        013|          106|    Brian Kim| 45|  Male| 75000|2011-07-01|           2|\n",
      "|           2|26130b90b9ae|          2|        014|          107|    Emily Lee| 26|Female| 46000|2019-01-01|           2|\n",
      "|           2|26130b90b9ae|          2|        015|          106|  Michael Lee| 37|  Male| 63000|2014-09-30|           2|\n",
      "|           3|aa1460ac4ddd|          1|        016|          107|  Kelly Zhang| 30|Female| 49000|2018-04-01|           3|\n",
      "|           3|aa1460ac4ddd|          1|        017|          105|  George Wang| 34|  Male| 57000|2016-03-15|           3|\n",
      "|           3|aa1460ac4ddd|          1|        018|          104|    Nancy Liu| 29|Female| 50000|2017-06-01|           3|\n",
      "|           3|aa1460ac4ddd|          1|        019|          103|  Steven Chen| 36|  Male| 62000|2015-08-01|           3|\n",
      "|           3|aa1460ac4ddd|          1|        020|          102|    Grace Kim| 32|Female| 53000|2018-11-01|           3|\n",
      "+------------+------------+-----------+-----------+-------------+-------------+---+------+------+----------+------------+\n",
      "\n"
     ]
    }
   ],
   "source": [
    "import os\n",
    "import re\n",
    "import socket\n",
    "\n",
    "\n",
    "def get_executor_partition_info(index, iterator):\n",
    "    executor_log_url = os.getenv(\"SPARK_LOG_URL_STDERR\")\n",
    "    pattern = r\"executorId=(\\d+)\"\n",
    "    executor_id = re.findall(pattern, executor_log_url)[0]\n",
    "    worker = socket.gethostname()\n",
    "\n",
    "    return [\n",
    "        [index, worker, executor_id] + list(row.asDict().values()) for row in iterator\n",
    "    ]\n",
    "\n",
    "\n",
    "emp2 = emp.rdd.mapPartitionsWithIndex(get_executor_partition_info).toDF(\n",
    "    [\"partition_id\", \"worker_host\", \"executor_id\"] + emp.columns\n",
    ")\n",
    "emp2.show()"
   ]
  },
  {
   "cell_type": "code",
   "execution_count": 19,
   "id": "7a9a9ddc-0500-487f-bb7f-01f9314f9372",
   "metadata": {},
   "outputs": [
    {
     "name": "stdout",
     "output_type": "stream",
     "text": [
      "(4) MapPartitionsRDD[23] at javaToPython at NativeMethodAccessorImpl.java:0 []\n",
      " |  MapPartitionsRDD[22] at javaToPython at NativeMethodAccessorImpl.java:0 []\n",
      " |  SQLExecutionRDD[21] at javaToPython at NativeMethodAccessorImpl.java:0 []\n",
      " |  MapPartitionsRDD[20] at javaToPython at NativeMethodAccessorImpl.java:0 []\n",
      " |  MapPartitionsRDD[4] at applySchemaToPythonRDD at NativeMethodAccessorImpl.java:0 []\n",
      " |  MapPartitionsRDD[3] at map at SerDeUtil.scala:69 []\n",
      " |  MapPartitionsRDD[2] at mapPartitions at SerDeUtil.scala:117 []\n",
      " |  PythonRDD[1] at RDD at PythonRDD.scala:53 []\n",
      " |  ParallelCollectionRDD[0] at readRDDFromFile at PythonRDD.scala:287 []\n"
     ]
    }
   ],
   "source": [
    "# Get stages in detail from rdd\n",
    "\n",
    "print(emp.rdd.toDebugString().decode(\"utf8\"))"
   ]
  },
  {
   "cell_type": "code",
   "execution_count": 20,
   "id": "a983c2e6-90c3-4f80-9b42-5e281a53d667",
   "metadata": {},
   "outputs": [],
   "source": [
    "# Write our first Transformation (EMP salary > 50000)\n",
    "# THe thre forms are aliases. The physical plan is the same\n",
    "\n",
    "emp_final1 = emp.where(\"salary > 50000\")\n",
    "emp_final2 = emp.filter(\"salary > 50000\")\n",
    "emp_final3 = emp.filter(F.col(\"salary\") > 50000)"
   ]
  },
  {
   "cell_type": "code",
   "execution_count": 21,
   "id": "a2870aea-2bf3-411c-aefe-155f44808f26",
   "metadata": {},
   "outputs": [
    {
     "name": "stdout",
     "output_type": "stream",
     "text": [
      "== Physical Plan ==\n",
      "*(1) Filter (isnotnull(salary#5) AND (cast(salary#5 as int) > 50000))\n",
      "+- *(1) Project [employee_id#0, department_id#1, name#2, age#3, gender#4, salary#5, hire_date#6, SPARK_PARTITION_ID() AS partition_id#84]\n",
      "   +- *(1) Scan ExistingRDD[employee_id#0,department_id#1,name#2,age#3,gender#4,salary#5,hire_date#6]\n",
      "\n",
      "\n"
     ]
    }
   ],
   "source": [
    "emp_final1.explain()"
   ]
  },
  {
   "cell_type": "code",
   "execution_count": 22,
   "id": "556440e4-94d1-4881-8773-b31f8ac19b7c",
   "metadata": {},
   "outputs": [
    {
     "name": "stdout",
     "output_type": "stream",
     "text": [
      "== Physical Plan ==\n",
      "*(1) Filter (isnotnull(salary#5) AND (cast(salary#5 as int) > 50000))\n",
      "+- *(1) Project [employee_id#0, department_id#1, name#2, age#3, gender#4, salary#5, hire_date#6, SPARK_PARTITION_ID() AS partition_id#84]\n",
      "   +- *(1) Scan ExistingRDD[employee_id#0,department_id#1,name#2,age#3,gender#4,salary#5,hire_date#6]\n",
      "\n",
      "\n"
     ]
    }
   ],
   "source": [
    "emp_final2.explain()"
   ]
  },
  {
   "cell_type": "code",
   "execution_count": 23,
   "id": "8851e174-b9c2-4688-bcc9-ace682cc1f47",
   "metadata": {},
   "outputs": [
    {
     "name": "stdout",
     "output_type": "stream",
     "text": [
      "== Physical Plan ==\n",
      "*(1) Filter (isnotnull(salary#5) AND (cast(salary#5 as int) > 50000))\n",
      "+- *(1) Project [employee_id#0, department_id#1, name#2, age#3, gender#4, salary#5, hire_date#6, SPARK_PARTITION_ID() AS partition_id#84]\n",
      "   +- *(1) Scan ExistingRDD[employee_id#0,department_id#1,name#2,age#3,gender#4,salary#5,hire_date#6]\n",
      "\n",
      "\n"
     ]
    }
   ],
   "source": [
    "emp_final3.explain()"
   ]
  },
  {
   "cell_type": "code",
   "execution_count": 25,
   "id": "c8a2f266-8ebe-4dfd-8f44-5922b12a336e",
   "metadata": {},
   "outputs": [
    {
     "data": {
      "text/plain": [
       "13"
      ]
     },
     "execution_count": 25,
     "metadata": {},
     "output_type": "execute_result"
    }
   ],
   "source": [
    "emp_final1.count()"
   ]
  },
  {
   "cell_type": "code",
   "execution_count": 26,
   "id": "0f2df2f1-49ed-4059-8b7c-2e96a0cdbcc9",
   "metadata": {},
   "outputs": [
    {
     "data": {
      "text/plain": [
       "4"
      ]
     },
     "execution_count": 26,
     "metadata": {},
     "output_type": "execute_result"
    }
   ],
   "source": [
    "# Validate number of Partitions\n",
    "\n",
    "emp_final1.rdd.getNumPartitions()"
   ]
  },
  {
   "cell_type": "code",
   "execution_count": 28,
   "id": "5d8cffb9-4e16-452a-bc41-e337a549c4c9",
   "metadata": {},
   "outputs": [
    {
     "data": {
      "text/plain": [
       "4"
      ]
     },
     "execution_count": 28,
     "metadata": {},
     "output_type": "execute_result"
    }
   ],
   "source": [
    "emp.filter(F.col(\"salary\") < 49000).rdd.getNumPartitions()"
   ]
  },
  {
   "cell_type": "code",
   "execution_count": 31,
   "id": "afd88219-3533-4d06-95d0-225b6d591788",
   "metadata": {},
   "outputs": [
    {
     "data": {
      "text/plain": [
       "13"
      ]
     },
     "execution_count": 31,
     "metadata": {},
     "output_type": "execute_result"
    }
   ],
   "source": [
    "emp_final1.count()"
   ]
  },
  {
   "cell_type": "code",
   "execution_count": 39,
   "id": "2921dcce-29d2-433d-a9af-d7ffcf32d07a",
   "metadata": {},
   "outputs": [
    {
     "name": "stdout",
     "output_type": "stream",
     "text": [
      "root\n",
      " |-- employee_id: string (nullable = true)\n",
      " |-- department_id: string (nullable = true)\n",
      " |-- name: string (nullable = true)\n",
      " |-- age: string (nullable = true)\n",
      " |-- gender: string (nullable = true)\n",
      " |-- salary: string (nullable = true)\n",
      " |-- hire_date: string (nullable = true)\n",
      " |-- partition_id: integer (nullable = false)\n",
      "\n"
     ]
    }
   ],
   "source": [
    "emp.printSchema()"
   ]
  },
  {
   "cell_type": "code",
   "execution_count": 11,
   "id": "33863c32-b1e8-4a39-ae73-96151e2d4813",
   "metadata": {},
   "outputs": [
    {
     "name": "stdout",
     "output_type": "stream",
     "text": [
      "+-----------+-------------+-------------+---+------+------+----------+------------+\n",
      "|employee_id|department_id|         name|age|gender|salary| hire_date|partition_id|\n",
      "+-----------+-------------+-------------+---+------+------+----------+------------+\n",
      "|        001|          101|     John Doe| 30|  Male| 50000|2015-01-01|           0|\n",
      "|        002|          101|   Jane Smith| 25|Female| 45000|2016-02-15|           0|\n",
      "|        003|          102|    Bob Brown| 35|  Male| 55000|2014-05-01|           0|\n",
      "|        004|          102|    Alice Lee| 28|Female| 48000|2017-09-30|           0|\n",
      "|        005|          103|    Jack Chan| 40|  Male| 60000|2013-04-01|           0|\n",
      "|        006|          103|    Jill Wong| 32|Female| 52000|2018-07-01|           1|\n",
      "|        007|          101|James Johnson| 42|  Male| 70000|2012-03-15|           1|\n",
      "|        008|          102|     Kate Kim| 29|Female| 51000|2019-10-01|           1|\n",
      "|        009|          103|      Tom Tan| 33|  Male| 58000|2016-06-01|           1|\n",
      "|        010|          104|     Lisa Lee| 27|Female| 47000|2018-08-01|           1|\n",
      "|        011|          104|   David Park| 38|  Male| 65000|2015-11-01|           2|\n",
      "|        012|          105|   Susan Chen| 31|Female| 54000|2017-02-15|           2|\n",
      "|        013|          106|    Brian Kim| 45|  Male| 75000|2011-07-01|           2|\n",
      "|        014|          107|    Emily Lee| 26|Female| 46000|2019-01-01|           2|\n",
      "|        015|          106|  Michael Lee| 37|  Male| 63000|2014-09-30|           2|\n",
      "|        016|          107|  Kelly Zhang| 30|Female| 49000|2018-04-01|           3|\n",
      "|        017|          105|  George Wang| 34|  Male| 57000|2016-03-15|           3|\n",
      "|        018|          104|    Nancy Liu| 29|Female| 50000|2017-06-01|           3|\n",
      "|        019|          103|  Steven Chen| 36|  Male| 62000|2015-08-01|           3|\n",
      "|        020|          102|    Grace Kim| 32|Female| 53000|2018-11-01|           3|\n",
      "+-----------+-------------+-------------+---+------+------+----------+------------+\n",
      "\n"
     ]
    }
   ],
   "source": [
    "emp.show()"
   ]
  },
  {
   "cell_type": "code",
   "execution_count": null,
   "id": "5bf1ed98-c722-437c-8ccc-872ab8d593d0",
   "metadata": {},
   "outputs": [
    {
     "name": "stderr",
     "output_type": "stream",
     "text": [
      "                                                                                \r"
     ]
    }
   ],
   "source": [
    "# Write data as CSV output (ACTION)\n",
    "\n",
    "emp.write.format(\"csv\").mode(\"overwrite\").option(\"header\", True).save(\n",
    "    \"hdfs://namenode:9000/output/02/emp\"\n",
    ")"
   ]
  },
  {
   "cell_type": "code",
   "execution_count": 18,
   "id": "10baa7ec-c2c9-47fc-9c5d-1a78f345a374",
   "metadata": {},
   "outputs": [
    {
     "name": "stdout",
     "output_type": "stream",
     "text": [
      "+-----------+-------------+-------------+---+------+------+----------+------------+\n",
      "|employee_id|department_id|         name|age|gender|salary| hire_date|partition_id|\n",
      "+-----------+-------------+-------------+---+------+------+----------+------------+\n",
      "|        016|          107|  Kelly Zhang| 30|Female| 49000|2018-04-01|           3|\n",
      "|        017|          105|  George Wang| 34|  Male| 57000|2016-03-15|           3|\n",
      "|        018|          104|    Nancy Liu| 29|Female| 50000|2017-06-01|           3|\n",
      "|        019|          103|  Steven Chen| 36|  Male| 62000|2015-08-01|           3|\n",
      "|        020|          102|    Grace Kim| 32|Female| 53000|2018-11-01|           3|\n",
      "|        011|          104|   David Park| 38|  Male| 65000|2015-11-01|           2|\n",
      "|        012|          105|   Susan Chen| 31|Female| 54000|2017-02-15|           2|\n",
      "|        013|          106|    Brian Kim| 45|  Male| 75000|2011-07-01|           2|\n",
      "|        014|          107|    Emily Lee| 26|Female| 46000|2019-01-01|           2|\n",
      "|        015|          106|  Michael Lee| 37|  Male| 63000|2014-09-30|           2|\n",
      "|        006|          103|    Jill Wong| 32|Female| 52000|2018-07-01|           1|\n",
      "|        007|          101|James Johnson| 42|  Male| 70000|2012-03-15|           1|\n",
      "|        008|          102|     Kate Kim| 29|Female| 51000|2019-10-01|           1|\n",
      "|        009|          103|      Tom Tan| 33|  Male| 58000|2016-06-01|           1|\n",
      "|        010|          104|     Lisa Lee| 27|Female| 47000|2018-08-01|           1|\n",
      "|        001|          101|     John Doe| 30|  Male| 50000|2015-01-01|           0|\n",
      "|        002|          101|   Jane Smith| 25|Female| 45000|2016-02-15|           0|\n",
      "|        003|          102|    Bob Brown| 35|  Male| 55000|2014-05-01|           0|\n",
      "|        004|          102|    Alice Lee| 28|Female| 48000|2017-09-30|           0|\n",
      "|        005|          103|    Jack Chan| 40|  Male| 60000|2013-04-01|           0|\n",
      "+-----------+-------------+-------------+---+------+------+----------+------------+\n",
      "\n"
     ]
    }
   ],
   "source": [
    "spark.read.option(\"header\", True).csv(\"hdfs://namenode:9000/output/02/emp\").show()"
   ]
  },
  {
   "cell_type": "code",
   "execution_count": null,
   "id": "2af32d60-4ea5-44f5-a357-125d4283337a",
   "metadata": {},
   "outputs": [
    {
     "name": "stdout",
     "output_type": "stream",
     "text": [
      "+-----------+-------------+----------+---+------+------+----------+------------+\n",
      "|employee_id|department_id|      name|age|gender|salary| hire_date|partition_id|\n",
      "+-----------+-------------+----------+---+------+------+----------+------------+\n",
      "|        001|          101|  John Doe| 30|  Male| 50000|2015-01-01|           0|\n",
      "|        002|          101|Jane Smith| 25|Female| 45000|2016-02-15|           0|\n",
      "|        003|          102| Bob Brown| 35|  Male| 55000|2014-05-01|           0|\n",
      "|        004|          102| Alice Lee| 28|Female| 48000|2017-09-30|           0|\n",
      "|        005|          103| Jack Chan| 40|  Male| 60000|2013-04-01|           0|\n",
      "+-----------+-------------+----------+---+------+------+----------+------------+\n",
      "\n"
     ]
    }
   ],
   "source": [
    "spark.read.option(\"header\", True).csv(\n",
    "    \"hdfs://namenode:9000/output/02/emp/part-00000-c13440d5-b4d0-4566-b606-0d9d5a554361-c000.csv\"\n",
    ").show()"
   ]
  },
  {
   "cell_type": "code",
   "execution_count": 19,
   "id": "bc125db5-bb33-453d-bd14-bc59af1ca5e9",
   "metadata": {},
   "outputs": [],
   "source": [
    "spark.stop()"
   ]
  },
  {
   "cell_type": "code",
   "execution_count": null,
   "id": "e64818e2-e707-4f5b-9ae3-9e15b2a4dca2",
   "metadata": {},
   "outputs": [],
   "source": []
  }
 ],
 "metadata": {
  "kernelspec": {
   "display_name": "Python 3 (ipykernel)",
   "language": "python",
   "name": "python3"
  },
  "language_info": {
   "codemirror_mode": {
    "name": "ipython",
    "version": 3
   },
   "file_extension": ".py",
   "mimetype": "text/x-python",
   "name": "python",
   "nbconvert_exporter": "python",
   "pygments_lexer": "ipython3",
   "version": "3.11.6"
  }
 },
 "nbformat": 4,
 "nbformat_minor": 5
}
