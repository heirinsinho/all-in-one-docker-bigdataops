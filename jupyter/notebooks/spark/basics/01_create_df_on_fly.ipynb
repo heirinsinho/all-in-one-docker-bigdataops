{
 "cells": [
  {
   "cell_type": "markdown",
   "id": "b7fc9401-3de5-4ece-b288-3b211e7e1831",
   "metadata": {},
   "source": [
    "# PySpark - Create Data Frame from List or RDD on the fly"
   ]
  },
  {
   "cell_type": "code",
   "execution_count": null,
   "id": "58bc3416-4671-4b0f-a9b1-6b669f1f2d06",
   "metadata": {},
   "outputs": [
    {
     "name": "stderr",
     "output_type": "stream",
     "text": [
      "Setting default log level to \"WARN\".\n",
      "To adjust logging level use sc.setLogLevel(newLevel). For SparkR, use setLogLevel(newLevel).\n",
      "24/10/14 16:20:41 WARN NativeCodeLoader: Unable to load native-hadoop library for your platform... using builtin-java classes where applicable\n"
     ]
    },
    {
     "data": {
      "text/html": [
       "\n",
       "            <div>\n",
       "                <p><b>SparkSession - in-memory</b></p>\n",
       "                \n",
       "        <div>\n",
       "            <p><b>SparkContext</b></p>\n",
       "\n",
       "            <p><a href=\"http://9dd806442eb5:4040\">Spark UI</a></p>\n",
       "\n",
       "            <dl>\n",
       "              <dt>Version</dt>\n",
       "                <dd><code>v3.4.3</code></dd>\n",
       "              <dt>Master</dt>\n",
       "                <dd><code>spark://spark-master:7077</code></dd>\n",
       "              <dt>AppName</dt>\n",
       "                <dd><code>Create DF on fly</code></dd>\n",
       "            </dl>\n",
       "        </div>\n",
       "        \n",
       "            </div>\n",
       "        "
      ],
      "text/plain": [
       "<pyspark.sql.session.SparkSession at 0x7fa2681bdf10>"
      ]
     },
     "execution_count": 1,
     "metadata": {},
     "output_type": "execute_result"
    }
   ],
   "source": [
    "# Create Spark Session\n",
    "\n",
    "from pyspark.sql import SparkSession\n",
    "\n",
    "spark = (\n",
    "    SparkSession.builder.appName(\"Create DF on fly\")\n",
    "    .master(\"spark://spark-master:7077\")\n",
    "    .getOrCreate()\n",
    ")\n",
    "\n",
    "spark"
   ]
  },
  {
   "cell_type": "code",
   "execution_count": 2,
   "id": "a21cc11c-a7c8-475d-a9a1-55eb30157f67",
   "metadata": {},
   "outputs": [
    {
     "data": {
      "text/plain": [
       "[('spark.driver.extraJavaOptions',\n",
       "  '-Djava.net.preferIPv6Addresses=false -XX:+IgnoreUnrecognizedVMOptions --add-opens=java.base/java.lang=ALL-UNNAMED --add-opens=java.base/java.lang.invoke=ALL-UNNAMED --add-opens=java.base/java.lang.reflect=ALL-UNNAMED --add-opens=java.base/java.io=ALL-UNNAMED --add-opens=java.base/java.net=ALL-UNNAMED --add-opens=java.base/java.nio=ALL-UNNAMED --add-opens=java.base/java.util=ALL-UNNAMED --add-opens=java.base/java.util.concurrent=ALL-UNNAMED --add-opens=java.base/java.util.concurrent.atomic=ALL-UNNAMED --add-opens=java.base/jdk.internal.ref=ALL-UNNAMED --add-opens=java.base/sun.nio.ch=ALL-UNNAMED --add-opens=java.base/sun.nio.cs=ALL-UNNAMED --add-opens=java.base/sun.security.action=ALL-UNNAMED --add-opens=java.base/sun.util.calendar=ALL-UNNAMED --add-opens=java.security.jgss/sun.security.krb5=ALL-UNNAMED -Djdk.reflect.useDirectMethodHandle=false'),\n",
       " ('spark.app.submitTime', '1728922841305'),\n",
       " ('spark.app.startTime', '1728922841541'),\n",
       " ('spark.app.name', 'Create DF on fly'),\n",
       " ('spark.sql.warehouse.dir',\n",
       "  'file:/home/jovyan/notebooks/spark/basics/spark-warehouse'),\n",
       " ('spark.driver.host', '9dd806442eb5'),\n",
       " ('spark.executor.id', 'driver'),\n",
       " ('spark.driver.port', '46361'),\n",
       " ('spark.rdd.compress', 'True'),\n",
       " ('spark.master', 'spark://spark-master:7077'),\n",
       " ('spark.app.id', 'app-20241014162043-0003'),\n",
       " ('spark.executor.extraJavaOptions',\n",
       "  '-Djava.net.preferIPv6Addresses=false -XX:+IgnoreUnrecognizedVMOptions --add-opens=java.base/java.lang=ALL-UNNAMED --add-opens=java.base/java.lang.invoke=ALL-UNNAMED --add-opens=java.base/java.lang.reflect=ALL-UNNAMED --add-opens=java.base/java.io=ALL-UNNAMED --add-opens=java.base/java.net=ALL-UNNAMED --add-opens=java.base/java.nio=ALL-UNNAMED --add-opens=java.base/java.util=ALL-UNNAMED --add-opens=java.base/java.util.concurrent=ALL-UNNAMED --add-opens=java.base/java.util.concurrent.atomic=ALL-UNNAMED --add-opens=java.base/jdk.internal.ref=ALL-UNNAMED --add-opens=java.base/sun.nio.ch=ALL-UNNAMED --add-opens=java.base/sun.nio.cs=ALL-UNNAMED --add-opens=java.base/sun.security.action=ALL-UNNAMED --add-opens=java.base/sun.util.calendar=ALL-UNNAMED --add-opens=java.security.jgss/sun.security.krb5=ALL-UNNAMED -Djdk.reflect.useDirectMethodHandle=false'),\n",
       " ('spark.serializer.objectStreamReset', '100'),\n",
       " ('spark.submit.pyFiles', ''),\n",
       " ('spark.submit.deployMode', 'client'),\n",
       " ('spark.ui.showConsoleProgress', 'true')]"
      ]
     },
     "execution_count": 2,
     "metadata": {},
     "output_type": "execute_result"
    }
   ],
   "source": [
    "spark.sparkContext.getConf().getAll()"
   ]
  },
  {
   "cell_type": "code",
   "execution_count": 3,
   "id": "f458749e-f5c6-44cf-93ce-90b72b8042f7",
   "metadata": {},
   "outputs": [
    {
     "data": {
      "text/plain": [
       "8"
      ]
     },
     "execution_count": 3,
     "metadata": {},
     "output_type": "execute_result"
    }
   ],
   "source": [
    "spark.sparkContext.defaultParallelism"
   ]
  },
  {
   "cell_type": "markdown",
   "id": "ea70809f-7704-4ac7-b12f-28135cdc2a71",
   "metadata": {
    "tags": []
   },
   "source": [
    "### SparkSession range() method"
   ]
  },
  {
   "cell_type": "code",
   "execution_count": null,
   "id": "d0f72f9a-138e-4883-bd21-eaf93731aa0c",
   "metadata": {},
   "outputs": [
    {
     "name": "stdout",
     "output_type": "stream",
     "text": [
      "-RECORD 0--\n",
      " id  | 0   \n",
      "-RECORD 1--\n",
      " id  | 1   \n",
      "-RECORD 2--\n",
      " id  | 2   \n",
      "-RECORD 3--\n",
      " id  | 3   \n",
      "-RECORD 4--\n",
      " id  | 4   \n",
      "\n"
     ]
    }
   ],
   "source": [
    "# Create an Dataframe from range of values\n",
    "df_range_1 = spark.range(5)\n",
    "df_range_1.show(5, truncate=False, vertical=True)"
   ]
  },
  {
   "cell_type": "code",
   "execution_count": null,
   "id": "552976ef-f2e5-4b2f-99ba-0a6f5e5407d6",
   "metadata": {},
   "outputs": [
    {
     "name": "stdout",
     "output_type": "stream",
     "text": [
      "+---+\n",
      "|id |\n",
      "+---+\n",
      "|1  |\n",
      "|3  |\n",
      "|5  |\n",
      "|7  |\n",
      "|9  |\n",
      "+---+\n",
      "\n"
     ]
    }
   ],
   "source": [
    "# You can optionally specify start, end and steps as well\n",
    "df_range_2 = spark.range(start=1, end=10, step=2)\n",
    "df_range_2.show(10, False)"
   ]
  },
  {
   "cell_type": "markdown",
   "id": "7a2d80c7-f564-4e78-b590-e60cfa4ca01c",
   "metadata": {
    "tags": []
   },
   "source": [
    "### Spark createDataFrame() method"
   ]
  },
  {
   "cell_type": "code",
   "execution_count": null,
   "id": "ff8a89af-9420-4960-b74f-6ad9441c48eb",
   "metadata": {},
   "outputs": [],
   "source": [
    "# Create Python Native List of Data\n",
    "_data = [[1, \"Ram\"], [2, \"Shyam\"], [3, \"Asraf\"], [4, None]]\n",
    "\n",
    "# Create the list of column names\n",
    "_cols = [\"id\", \"name\"]"
   ]
  },
  {
   "cell_type": "code",
   "execution_count": null,
   "id": "f8f0f18d-c890-4879-939d-abe5da0c9953",
   "metadata": {},
   "outputs": [
    {
     "name": "stdout",
     "output_type": "stream",
     "text": [
      "root\n",
      " |-- id: long (nullable = true)\n",
      " |-- name: string (nullable = true)\n",
      "\n"
     ]
    },
    {
     "name": "stderr",
     "output_type": "stream",
     "text": [
      "                                                                                \r"
     ]
    },
    {
     "name": "stdout",
     "output_type": "stream",
     "text": [
      "+---+-----+\n",
      "|id |name |\n",
      "+---+-----+\n",
      "|1  |Ram  |\n",
      "|2  |Shyam|\n",
      "|3  |Asraf|\n",
      "|4  |null |\n",
      "+---+-----+\n",
      "\n"
     ]
    }
   ],
   "source": [
    "# Create Data Frame using the createDataFrame method\n",
    "df_users = spark.createDataFrame(data=_data, schema=_cols)\n",
    "df_users.printSchema()\n",
    "\n",
    "# Check Data Frame\n",
    "df_users.show(truncate=False)"
   ]
  },
  {
   "cell_type": "code",
   "execution_count": 9,
   "id": "63883213-3346-454b-8e01-9fb117a8419c",
   "metadata": {},
   "outputs": [
    {
     "data": {
      "text/plain": [
       "StructType([StructField('id', IntegerType(), True), StructField('name', StringType(), True)])"
      ]
     },
     "execution_count": 9,
     "metadata": {},
     "output_type": "execute_result"
    }
   ],
   "source": [
    "# GET STRUCT TYPE SCHEMA FROM STRING SCHEMA\n",
    "\n",
    "from pyspark.sql.types import _parse_datatype_string\n",
    "\n",
    "schema_str = \"id integer, name string\"\n",
    "schema_spark = _parse_datatype_string(schema_str)\n",
    "\n",
    "schema_spark"
   ]
  },
  {
   "cell_type": "markdown",
   "id": "5210cfda-8852-42e1-8c5b-b89b4bb95ed4",
   "metadata": {},
   "source": [
    "### Spark toDF() method"
   ]
  },
  {
   "cell_type": "code",
   "execution_count": 10,
   "id": "cedc597c-d5fc-4d8d-a760-78f78ee4e88f",
   "metadata": {},
   "outputs": [
    {
     "data": {
      "text/plain": [
       "[[1, 'Ram'], [2, 'Shyam'], [3, 'Asraf'], [4, None]]"
      ]
     },
     "execution_count": 10,
     "metadata": {},
     "output_type": "execute_result"
    }
   ],
   "source": [
    "# From the same data list we create new RDD\n",
    "\n",
    "_data_rdd = spark.sparkContext.parallelize(_data)\n",
    "_data_rdd.collect()\n",
    "\n",
    "# To check number of partitions of the data\n",
    "# _data_rdd.getNumPartitions()"
   ]
  },
  {
   "cell_type": "code",
   "execution_count": 11,
   "id": "158aaa0a-c033-49e6-ad4d-5823e50d1cc2",
   "metadata": {},
   "outputs": [
    {
     "data": {
      "text/plain": [
       "8"
      ]
     },
     "execution_count": 11,
     "metadata": {},
     "output_type": "execute_result"
    }
   ],
   "source": [
    "_data_rdd.getNumPartitions()"
   ]
  },
  {
   "cell_type": "code",
   "execution_count": null,
   "id": "a381dcf6-3a89-475c-b929-63d2545f5fc2",
   "metadata": {},
   "outputs": [
    {
     "name": "stdout",
     "output_type": "stream",
     "text": [
      "+---+-----+\n",
      "| id| name|\n",
      "+---+-----+\n",
      "|  1|  Ram|\n",
      "|  2|Shyam|\n",
      "|  3|Asraf|\n",
      "|  4| null|\n",
      "+---+-----+\n",
      "\n"
     ]
    }
   ],
   "source": [
    "# Create Data Frame from the rdd\n",
    "\n",
    "df_users_new = _data_rdd.toDF(_cols)\n",
    "df_users_new.show()"
   ]
  },
  {
   "cell_type": "code",
   "execution_count": null,
   "id": "08b13bbc-b09d-44ac-89d8-9d36ce067c5f",
   "metadata": {},
   "outputs": [],
   "source": [
    "spark.stop()"
   ]
  }
 ],
 "metadata": {
  "kernelspec": {
   "display_name": "Python 3 (ipykernel)",
   "language": "python",
   "name": "python3"
  },
  "language_info": {
   "codemirror_mode": {
    "name": "ipython",
    "version": 3
   },
   "file_extension": ".py",
   "mimetype": "text/x-python",
   "name": "python",
   "nbconvert_exporter": "python",
   "pygments_lexer": "ipython3",
   "version": "3.11.6"
  }
 },
 "nbformat": 4,
 "nbformat_minor": 5
}
