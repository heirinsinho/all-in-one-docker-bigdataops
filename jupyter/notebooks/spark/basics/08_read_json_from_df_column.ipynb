{
 "cells": [
  {
   "cell_type": "markdown",
   "id": "a65b0eea-e223-4fbf-8f56-762f54cc7071",
   "metadata": {},
   "source": [
    "# Read JSON Data from a Dataframe Column"
   ]
  },
  {
   "cell_type": "code",
   "execution_count": null,
   "id": "b6e33d48-64fa-4d20-90d3-cb5350ee98a6",
   "metadata": {},
   "outputs": [
    {
     "data": {
      "text/html": [
       "\n",
       "            <div>\n",
       "                <p><b>SparkSession - in-memory</b></p>\n",
       "                \n",
       "        <div>\n",
       "            <p><b>SparkContext</b></p>\n",
       "\n",
       "            <p><a href=\"http://a5828d5b0f00:4040\">Spark UI</a></p>\n",
       "\n",
       "            <dl>\n",
       "              <dt>Version</dt>\n",
       "                <dd><code>v3.4.3</code></dd>\n",
       "              <dt>Master</dt>\n",
       "                <dd><code>spark://spark-master:7077</code></dd>\n",
       "              <dt>AppName</dt>\n",
       "                <dd><code>Read JSON data</code></dd>\n",
       "            </dl>\n",
       "        </div>\n",
       "        \n",
       "            </div>\n",
       "        "
      ],
      "text/plain": [
       "<pyspark.sql.session.SparkSession at 0x7f84bc09e650>"
      ]
     },
     "execution_count": 3,
     "metadata": {},
     "output_type": "execute_result"
    }
   ],
   "source": [
    "# Create Spark Session\n",
    "\n",
    "from pyspark.sql import SparkSession\n",
    "\n",
    "spark = (\n",
    "    SparkSession.builder.appName(\"Read JSON data\")\n",
    "    .master(\"spark://spark-master:7077\")\n",
    "    .getOrCreate()\n",
    ")\n",
    "\n",
    "spark"
   ]
  },
  {
   "cell_type": "code",
   "execution_count": null,
   "id": "1386b664-4c83-4ee4-bf95-92651fe376e6",
   "metadata": {},
   "outputs": [
    {
     "name": "stdout",
     "output_type": "stream",
     "text": [
      "root\n",
      " |-- emp_no: string (nullable = true)\n",
      " |-- raw_data: string (nullable = true)\n",
      "\n"
     ]
    },
    {
     "name": "stderr",
     "output_type": "stream",
     "text": [
      "                                                                                \r"
     ]
    },
    {
     "name": "stdout",
     "output_type": "stream",
     "text": [
      "+------+-----------------------------------------------------------------------------------------------+\n",
      "|emp_no|raw_data                                                                                       |\n",
      "+------+-----------------------------------------------------------------------------------------------+\n",
      "|EMP001|{\"dept\" : \"account\", \"fname\": \"Ramesh\", \"lname\": \"Singh\", \"skills\": [\"excel\", \"tally\", \"word\"]}|\n",
      "|EMP002|{\"dept\" : \"sales\", \"fname\": \"Siv\", \"lname\": \"Kumar\", \"skills\": [\"biking\", \"sales\"]}            |\n",
      "|EMP003|{\"dept\" : \"hr\", \"fname\": \"MS Raghvan\", \"skills\": [\"communication\", \"soft-skills\"]}             |\n",
      "+------+-----------------------------------------------------------------------------------------------+\n",
      "\n"
     ]
    }
   ],
   "source": [
    "# Example Data Frame with column having JSON data\n",
    "_data = [\n",
    "    [\n",
    "        \"EMP001\",\n",
    "        '{\"dept\" : \"account\", \"fname\": \"Ramesh\", \"lname\": \"Singh\", \"skills\": [\"excel\", \"tally\", \"word\"]}',\n",
    "    ],\n",
    "    [\n",
    "        \"EMP002\",\n",
    "        '{\"dept\" : \"sales\", \"fname\": \"Siv\", \"lname\": \"Kumar\", \"skills\": [\"biking\", \"sales\"]}',\n",
    "    ],\n",
    "    [\n",
    "        \"EMP003\",\n",
    "        '{\"dept\" : \"hr\", \"fname\": \"MS Raghvan\", \"skills\": [\"communication\", \"soft-skills\"]}',\n",
    "    ],\n",
    "]\n",
    "\n",
    "# Columns for the data\n",
    "_cols = [\"emp_no\", \"raw_data\"]\n",
    "\n",
    "# Lets create the raw Data Frame\n",
    "df_raw = spark.createDataFrame(data=_data, schema=_cols)\n",
    "df_raw.printSchema()\n",
    "df_raw.show(3, False)"
   ]
  },
  {
   "cell_type": "code",
   "execution_count": 5,
   "id": "5dee210a-4b54-49c1-b1b5-ad56176ce003",
   "metadata": {},
   "outputs": [
    {
     "name": "stderr",
     "output_type": "stream",
     "text": [
      "                                                                                \r"
     ]
    }
   ],
   "source": [
    "# We need to parse the JSON values from the Data Frame column - raw_data\n",
    "\n",
    "# Determine the schema of the JSON payload from the column\n",
    "json_schema_df = spark.read.json(df_raw.rdd.map(lambda row: row.raw_data))\n",
    "json_schema = json_schema_df.schema"
   ]
  },
  {
   "cell_type": "code",
   "execution_count": 6,
   "id": "21c4599e-a192-4d38-9da0-bc6fbc07e538",
   "metadata": {},
   "outputs": [
    {
     "data": {
      "text/plain": [
       "StructType([StructField('dept', StringType(), True), StructField('fname', StringType(), True), StructField('lname', StringType(), True), StructField('skills', ArrayType(StringType(), True), True)])"
      ]
     },
     "execution_count": 6,
     "metadata": {},
     "output_type": "execute_result"
    }
   ],
   "source": [
    "json_schema"
   ]
  },
  {
   "cell_type": "code",
   "execution_count": null,
   "id": "62f0b820-41c2-41c0-b2be-00d1685459b0",
   "metadata": {},
   "outputs": [
    {
     "name": "stdout",
     "output_type": "stream",
     "text": [
      "root\n",
      " |-- emp_no: string (nullable = true)\n",
      " |-- parsed_data: struct (nullable = true)\n",
      " |    |-- dept: string (nullable = true)\n",
      " |    |-- fname: string (nullable = true)\n",
      " |    |-- lname: string (nullable = true)\n",
      " |    |-- skills: array (nullable = true)\n",
      " |    |    |-- element: string (containsNull = true)\n",
      "\n"
     ]
    }
   ],
   "source": [
    "# Apply the schema to payload to read the data\n",
    "from pyspark.sql.functions import from_json\n",
    "\n",
    "df_details = df_raw.withColumn(\n",
    "    \"parsed_data\", from_json(df_raw[\"raw_data\"], json_schema)\n",
    ").drop(\"raw_data\")\n",
    "df_details.printSchema()"
   ]
  },
  {
   "cell_type": "code",
   "execution_count": 8,
   "id": "bb88b180-6f3a-4e3a-b647-c1cd73cc7bcf",
   "metadata": {},
   "outputs": [
    {
     "name": "stdout",
     "output_type": "stream",
     "text": [
      "+------+-------+----------+-----+----------------------------+\n",
      "|emp_no|dept   |fname     |lname|skills                      |\n",
      "+------+-------+----------+-----+----------------------------+\n",
      "|EMP001|account|Ramesh    |Singh|[excel, tally, word]        |\n",
      "|EMP002|sales  |Siv       |Kumar|[biking, sales]             |\n",
      "|EMP003|hr     |MS Raghvan|null |[communication, soft-skills]|\n",
      "+------+-------+----------+-----+----------------------------+\n",
      "\n"
     ]
    }
   ],
   "source": [
    "# Lets verify the data\n",
    "df_details.select(\"emp_no\", \"parsed_data.*\").show(10, False)"
   ]
  },
  {
   "cell_type": "code",
   "execution_count": null,
   "id": "642f1daf-3292-4ed2-9d00-525a0dad8259",
   "metadata": {},
   "outputs": [
    {
     "name": "stdout",
     "output_type": "stream",
     "text": [
      "+------+-------+----------+-----+-------------+\n",
      "|emp_no|dept   |fname     |lname|skills       |\n",
      "+------+-------+----------+-----+-------------+\n",
      "|EMP001|account|Ramesh    |Singh|excel        |\n",
      "|EMP001|account|Ramesh    |Singh|tally        |\n",
      "|EMP001|account|Ramesh    |Singh|word         |\n",
      "|EMP002|sales  |Siv       |Kumar|biking       |\n",
      "|EMP002|sales  |Siv       |Kumar|sales        |\n",
      "|EMP003|hr     |MS Raghvan|null |communication|\n",
      "|EMP003|hr     |MS Raghvan|null |soft-skills  |\n",
      "+------+-------+----------+-----+-------------+\n",
      "\n"
     ]
    }
   ],
   "source": [
    "# We can explode the data further from list\n",
    "from pyspark.sql.functions import explode\n",
    "\n",
    "df_details.select(\n",
    "    \"emp_no\",\n",
    "    \"parsed_data.dept\",\n",
    "    \"parsed_data.fname\",\n",
    "    \"parsed_data.lname\",\n",
    "    \"parsed_data\",\n",
    ").withColumn(\"skills\", explode(\"parsed_data.skills\")).drop(\"parsed_data\").show(\n",
    "    100, False\n",
    ")"
   ]
  },
  {
   "cell_type": "code",
   "execution_count": 10,
   "id": "2cbc1ab4-9850-4933-be8a-3058d7661556",
   "metadata": {},
   "outputs": [],
   "source": [
    "spark.stop()"
   ]
  },
  {
   "cell_type": "code",
   "execution_count": null,
   "id": "d9dc9dfd-ddc8-470f-b724-31c4dab9dbde",
   "metadata": {},
   "outputs": [],
   "source": []
  }
 ],
 "metadata": {
  "kernelspec": {
   "display_name": "Python 3 (ipykernel)",
   "language": "python",
   "name": "python3"
  },
  "language_info": {
   "codemirror_mode": {
    "name": "ipython",
    "version": 3
   },
   "file_extension": ".py",
   "mimetype": "text/x-python",
   "name": "python",
   "nbconvert_exporter": "python",
   "pygments_lexer": "ipython3",
   "version": "3.11.6"
  }
 },
 "nbformat": 4,
 "nbformat_minor": 5
}
