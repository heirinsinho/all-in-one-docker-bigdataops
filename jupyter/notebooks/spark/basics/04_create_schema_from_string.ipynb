{
 "cells": [
  {
   "cell_type": "markdown",
   "id": "f80c4dcc-ae9e-4df8-a9b6-2eddd61b70c3",
   "metadata": {},
   "source": [
    "# PySpark - Create Spark Schema from String"
   ]
  },
  {
   "cell_type": "code",
   "execution_count": null,
   "id": "8832b8fc-1f34-4d80-98dd-0df1cbfd26dd",
   "metadata": {},
   "outputs": [
    {
     "name": "stderr",
     "output_type": "stream",
     "text": [
      "Setting default log level to \"WARN\".\n",
      "To adjust logging level use sc.setLogLevel(newLevel). For SparkR, use setLogLevel(newLevel).\n",
      "24/10/17 15:58:47 WARN NativeCodeLoader: Unable to load native-hadoop library for your platform... using builtin-java classes where applicable\n"
     ]
    },
    {
     "data": {
      "text/html": [
       "\n",
       "            <div>\n",
       "                <p><b>SparkSession - in-memory</b></p>\n",
       "                \n",
       "        <div>\n",
       "            <p><b>SparkContext</b></p>\n",
       "\n",
       "            <p><a href=\"http://a5828d5b0f00:4040\">Spark UI</a></p>\n",
       "\n",
       "            <dl>\n",
       "              <dt>Version</dt>\n",
       "                <dd><code>v3.4.3</code></dd>\n",
       "              <dt>Master</dt>\n",
       "                <dd><code>spark://spark-master:7077</code></dd>\n",
       "              <dt>AppName</dt>\n",
       "                <dd><code>Create Schema from String</code></dd>\n",
       "            </dl>\n",
       "        </div>\n",
       "        \n",
       "            </div>\n",
       "        "
      ],
      "text/plain": [
       "<pyspark.sql.session.SparkSession at 0x7f2c2c007e10>"
      ]
     },
     "execution_count": 1,
     "metadata": {},
     "output_type": "execute_result"
    }
   ],
   "source": [
    "# Create Spark Session\n",
    "\n",
    "from pyspark.sql import SparkSession\n",
    "\n",
    "spark = (\n",
    "    SparkSession.builder.appName(\"Create Schema from String\")\n",
    "    .master(\"spark://spark-master:7077\")\n",
    "    .getOrCreate()\n",
    ")\n",
    "\n",
    "spark"
   ]
  },
  {
   "cell_type": "code",
   "execution_count": 2,
   "id": "0446f5fc-b201-4723-9d6b-fe06c26dfd64",
   "metadata": {},
   "outputs": [
    {
     "name": "stdout",
     "output_type": "stream",
     "text": [
      "StructType([StructField('id', IntegerType(), True), StructField('name', StringType(), True)])\n"
     ]
    }
   ],
   "source": [
    "# Import method _parse_datatype_string\n",
    "from pyspark.sql.types import _parse_datatype_string\n",
    "\n",
    "# Create new Schema for data\n",
    "_schema_str = \"id int, name string\"\n",
    "_schema = _parse_datatype_string(_schema_str)\n",
    "print(_schema)"
   ]
  },
  {
   "cell_type": "code",
   "execution_count": 3,
   "id": "edcfba18-a845-4180-a097-978a247f1810",
   "metadata": {},
   "outputs": [
    {
     "name": "stdout",
     "output_type": "stream",
     "text": [
      "StructType([StructField('id', IntegerType(), False), StructField('name', DoubleType(), True), StructField('subjects', StringType(), True)])\n"
     ]
    }
   ],
   "source": [
    "# One more example\n",
    "_schema_str_2 = \"id int not null, name double, subjects string\"\n",
    "_schema_2 = _parse_datatype_string(_schema_str_2)\n",
    "print(_schema_2)"
   ]
  },
  {
   "cell_type": "code",
   "execution_count": 4,
   "id": "e46e5158-8202-4791-a631-b35947f5f378",
   "metadata": {},
   "outputs": [
    {
     "name": "stdout",
     "output_type": "stream",
     "text": [
      "StructType([StructField('id', IntegerType(), True), StructField('name', MapType(StringType(), StringType(), True), True), StructField('subject', ArrayType(StringType(), True), True)])\n"
     ]
    }
   ],
   "source": [
    "# Working on Complex types such as Map or Array\n",
    "_schema_str_3 = \"id int, name map<string, string>, subject array<string>\"\n",
    "_schema_3 = _parse_datatype_string(_schema_str_3)\n",
    "print(_schema_3)"
   ]
  },
  {
   "cell_type": "code",
   "execution_count": 5,
   "id": "f4a17798-7daf-4428-bc99-68172ce13076",
   "metadata": {},
   "outputs": [],
   "source": [
    "spark.stop()"
   ]
  },
  {
   "cell_type": "code",
   "execution_count": null,
   "id": "f6e0daf0-81e9-4185-81cd-a0d01a4b4f0d",
   "metadata": {},
   "outputs": [],
   "source": []
  }
 ],
 "metadata": {
  "kernelspec": {
   "display_name": "Python 3 (ipykernel)",
   "language": "python",
   "name": "python3"
  },
  "language_info": {
   "codemirror_mode": {
    "name": "ipython",
    "version": 3
   },
   "file_extension": ".py",
   "mimetype": "text/x-python",
   "name": "python",
   "nbconvert_exporter": "python",
   "pygments_lexer": "ipython3",
   "version": "3.11.6"
  }
 },
 "nbformat": 4,
 "nbformat_minor": 5
}
