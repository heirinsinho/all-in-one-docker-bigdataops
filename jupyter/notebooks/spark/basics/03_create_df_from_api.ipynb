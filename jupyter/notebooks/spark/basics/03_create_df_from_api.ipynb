{
 "cells": [
  {
   "cell_type": "markdown",
   "id": "c3c8f8f8-cd3a-41bd-84f3-87410d4a017d",
   "metadata": {},
   "source": [
    "# PySpark - Create Data Frame from API"
   ]
  },
  {
   "cell_type": "code",
   "execution_count": null,
   "id": "bb1a76f5-19f1-430f-a0cc-061377558934",
   "metadata": {},
   "outputs": [
    {
     "name": "stderr",
     "output_type": "stream",
     "text": [
      "Setting default log level to \"WARN\".\n",
      "To adjust logging level use sc.setLogLevel(newLevel). For SparkR, use setLogLevel(newLevel).\n",
      "24/10/17 15:41:58 WARN NativeCodeLoader: Unable to load native-hadoop library for your platform... using builtin-java classes where applicable\n"
     ]
    },
    {
     "data": {
      "text/html": [
       "\n",
       "            <div>\n",
       "                <p><b>SparkSession - in-memory</b></p>\n",
       "                \n",
       "        <div>\n",
       "            <p><b>SparkContext</b></p>\n",
       "\n",
       "            <p><a href=\"http://a5828d5b0f00:4040\">Spark UI</a></p>\n",
       "\n",
       "            <dl>\n",
       "              <dt>Version</dt>\n",
       "                <dd><code>v3.4.3</code></dd>\n",
       "              <dt>Master</dt>\n",
       "                <dd><code>spark://spark-master:7077</code></dd>\n",
       "              <dt>AppName</dt>\n",
       "                <dd><code>Read data from API</code></dd>\n",
       "            </dl>\n",
       "        </div>\n",
       "        \n",
       "            </div>\n",
       "        "
      ],
      "text/plain": [
       "<pyspark.sql.session.SparkSession at 0x7fbfe614f910>"
      ]
     },
     "execution_count": 1,
     "metadata": {},
     "output_type": "execute_result"
    }
   ],
   "source": [
    "# Create Spark Session\n",
    "\n",
    "from pyspark.sql import SparkSession\n",
    "\n",
    "spark = (\n",
    "    SparkSession.builder.appName(\"Read data from API\")\n",
    "    .master(\"spark://spark-master:7077\")\n",
    "    .getOrCreate()\n",
    ")\n",
    "\n",
    "spark"
   ]
  },
  {
   "cell_type": "code",
   "execution_count": null,
   "id": "da17f2e5-4355-4c6e-aaca-15805ef44dcf",
   "metadata": {},
   "outputs": [],
   "source": [
    "# Create Python function to read data from API\n",
    "import requests, json\n",
    "\n",
    "\n",
    "def read_api(url: str):\n",
    "    normalized_data = dict()\n",
    "    data = requests.get(api_url).json()\n",
    "    normalized_data[\"_data\"] = data  # Normalize payload to handle array situtations\n",
    "    return json.dumps(normalized_data)"
   ]
  },
  {
   "cell_type": "code",
   "execution_count": 3,
   "id": "e11a24d8-a307-4f18-9d3a-cde081d1f9df",
   "metadata": {},
   "outputs": [
    {
     "name": "stderr",
     "output_type": "stream",
     "text": [
      "                                                                                \r"
     ]
    },
    {
     "name": "stdout",
     "output_type": "stream",
     "text": [
      "root\n",
      " |-- _data: struct (nullable = true)\n",
      " |    |-- bpi: struct (nullable = true)\n",
      " |    |    |-- EUR: struct (nullable = true)\n",
      " |    |    |    |-- code: string (nullable = true)\n",
      " |    |    |    |-- description: string (nullable = true)\n",
      " |    |    |    |-- rate: string (nullable = true)\n",
      " |    |    |    |-- rate_float: double (nullable = true)\n",
      " |    |    |    |-- symbol: string (nullable = true)\n",
      " |    |    |-- GBP: struct (nullable = true)\n",
      " |    |    |    |-- code: string (nullable = true)\n",
      " |    |    |    |-- description: string (nullable = true)\n",
      " |    |    |    |-- rate: string (nullable = true)\n",
      " |    |    |    |-- rate_float: double (nullable = true)\n",
      " |    |    |    |-- symbol: string (nullable = true)\n",
      " |    |    |-- USD: struct (nullable = true)\n",
      " |    |    |    |-- code: string (nullable = true)\n",
      " |    |    |    |-- description: string (nullable = true)\n",
      " |    |    |    |-- rate: string (nullable = true)\n",
      " |    |    |    |-- rate_float: double (nullable = true)\n",
      " |    |    |    |-- symbol: string (nullable = true)\n",
      " |    |-- chartName: string (nullable = true)\n",
      " |    |-- disclaimer: string (nullable = true)\n",
      " |    |-- time: struct (nullable = true)\n",
      " |    |    |-- updated: string (nullable = true)\n",
      " |    |    |-- updatedISO: string (nullable = true)\n",
      " |    |    |-- updateduk: string (nullable = true)\n",
      "\n"
     ]
    }
   ],
   "source": [
    "api_url = r\"https://api.coindesk.com/v1/bpi/currentprice.json\"\n",
    "# api_url = \"https://api.wazirx.com/sapi/v1/tickers/24hr\"\n",
    "\n",
    "# Read data into Data Frame\n",
    "# Create payload rdd\n",
    "payload = json.loads(read_api(api_url))\n",
    "payload_rdd = spark.sparkContext.parallelize([payload])\n",
    "\n",
    "# Read from JSON\n",
    "df = spark.read.json(payload_rdd)\n",
    "df.select(\"_data\").printSchema()"
   ]
  },
  {
   "cell_type": "code",
   "execution_count": 4,
   "id": "183f9e4b-7b96-4446-8c92-bc65dbf29f6d",
   "metadata": {},
   "outputs": [
    {
     "name": "stdout",
     "output_type": "stream",
     "text": [
      "+----------------------------------------------------------------------------------------------------------------------------------------------------------------------+---------+-----------------------------------------------------------------------------------------------------------------------------------------------------------+---------------------------------------------------------------------------------+\n",
      "|bpi                                                                                                                                                                   |chartName|disclaimer                                                                                                                                                 |time                                                                             |\n",
      "+----------------------------------------------------------------------------------------------------------------------------------------------------------------------+---------+-----------------------------------------------------------------------------------------------------------------------------------------------------------+---------------------------------------------------------------------------------+\n",
      "|{{EUR, Euro, 62,231.83, 62231.83, &euro;}, {GBP, British Pound Sterling, 51,848.481, 51848.4805, &pound;}, {USD, United States Dollar, 67,390.652, 67390.6518, &#36;}}|Bitcoin  |This data was produced from the CoinDesk Bitcoin Price Index (USD). Non-USD currency data converted using hourly conversion rate from openexchangerates.org|{Oct 17, 2024 15:43:12 UTC, 2024-10-17T15:43:12+00:00, Oct 17, 2024 at 16:43 BST}|\n",
      "+----------------------------------------------------------------------------------------------------------------------------------------------------------------------+---------+-----------------------------------------------------------------------------------------------------------------------------------------------------------+---------------------------------------------------------------------------------+\n",
      "\n"
     ]
    }
   ],
   "source": [
    "# Expand root element to read Struct Data\n",
    "df.select(\"_data.*\").show(truncate=False)"
   ]
  },
  {
   "cell_type": "code",
   "execution_count": 7,
   "id": "e34fcbfd-0052-4fe3-9124-447c396e07d9",
   "metadata": {},
   "outputs": [
    {
     "name": "stdout",
     "output_type": "stream",
     "text": [
      "+----------------------------------------+--------------------------------------------------------------+----------------------------------------------------------+\n",
      "|EUR                                     |GBP                                                           |USD                                                       |\n",
      "+----------------------------------------+--------------------------------------------------------------+----------------------------------------------------------+\n",
      "|{EUR, Euro, 62,231.83, 62231.83, &euro;}|{GBP, British Pound Sterling, 51,848.481, 51848.4805, &pound;}|{USD, United States Dollar, 67,390.652, 67390.6518, &#36;}|\n",
      "+----------------------------------------+--------------------------------------------------------------+----------------------------------------------------------+\n",
      "\n"
     ]
    }
   ],
   "source": [
    "df.select(\"_data.bpi.*\").show(truncate=False)"
   ]
  },
  {
   "cell_type": "code",
   "execution_count": 5,
   "id": "33dd9605-b685-4e2e-a177-c618f4c43731",
   "metadata": {},
   "outputs": [
    {
     "name": "stdout",
     "output_type": "stream",
     "text": [
      "+----+--------------------+----------+----------+------+\n",
      "|code|description         |rate      |rate_float|symbol|\n",
      "+----+--------------------+----------+----------+------+\n",
      "|USD |United States Dollar|67,390.652|67390.6518|&#36; |\n",
      "+----+--------------------+----------+----------+------+\n",
      "\n"
     ]
    }
   ],
   "source": [
    "# Expand further elements to read USD data\n",
    "df.select(\"_data.*\").select(\"bpi.*\").select(\"USD.*\").show(truncate=False)"
   ]
  },
  {
   "cell_type": "code",
   "execution_count": 8,
   "id": "1e6c8f1b-7fec-4a52-be7b-0ce86eb3e36c",
   "metadata": {},
   "outputs": [],
   "source": [
    "spark.stop()"
   ]
  },
  {
   "cell_type": "code",
   "execution_count": null,
   "id": "4111c4a3-bd56-4909-a591-9c1fafa1aa18",
   "metadata": {},
   "outputs": [],
   "source": []
  }
 ],
 "metadata": {
  "kernelspec": {
   "display_name": "Python 3 (ipykernel)",
   "language": "python",
   "name": "python3"
  },
  "language_info": {
   "codemirror_mode": {
    "name": "ipython",
    "version": 3
   },
   "file_extension": ".py",
   "mimetype": "text/x-python",
   "name": "python",
   "nbconvert_exporter": "python",
   "pygments_lexer": "ipython3",
   "version": "3.11.6"
  }
 },
 "nbformat": 4,
 "nbformat_minor": 5
}
