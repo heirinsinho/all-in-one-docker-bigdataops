{
 "cells": [
  {
   "cell_type": "markdown",
   "id": "364389ed-670a-40cf-98d7-93f241f637ef",
   "metadata": {},
   "source": [
    "# Merge two dataframe with different schema"
   ]
  },
  {
   "cell_type": "code",
   "execution_count": null,
   "id": "f3cd2f01-0fb4-47ea-aa45-d68375514499",
   "metadata": {},
   "outputs": [
    {
     "name": "stderr",
     "output_type": "stream",
     "text": [
      "Setting default log level to \"WARN\".\n",
      "To adjust logging level use sc.setLogLevel(newLevel). For SparkR, use setLogLevel(newLevel).\n",
      "24/10/21 15:57:22 WARN NativeCodeLoader: Unable to load native-hadoop library for your platform... using builtin-java classes where applicable\n"
     ]
    },
    {
     "data": {
      "text/html": [
       "\n",
       "            <div>\n",
       "                <p><b>SparkSession - in-memory</b></p>\n",
       "                \n",
       "        <div>\n",
       "            <p><b>SparkContext</b></p>\n",
       "\n",
       "            <p><a href=\"http://a5828d5b0f00:4040\">Spark UI</a></p>\n",
       "\n",
       "            <dl>\n",
       "              <dt>Version</dt>\n",
       "                <dd><code>v3.4.3</code></dd>\n",
       "              <dt>Master</dt>\n",
       "                <dd><code>spark://spark-master:7077</code></dd>\n",
       "              <dt>AppName</dt>\n",
       "                <dd><code>Merge Data Frames</code></dd>\n",
       "            </dl>\n",
       "        </div>\n",
       "        \n",
       "            </div>\n",
       "        "
      ],
      "text/plain": [
       "<pyspark.sql.session.SparkSession at 0x7f25c02aa2d0>"
      ]
     },
     "execution_count": 1,
     "metadata": {},
     "output_type": "execute_result"
    }
   ],
   "source": [
    "# Create Spark Session\n",
    "\n",
    "from pyspark.sql import SparkSession\n",
    "\n",
    "spark = (\n",
    "    SparkSession.builder.appName(\"Merge Data Frames\")\n",
    "    .master(\"spark://spark-master:7077\")\n",
    "    .getOrCreate()\n",
    ")\n",
    "\n",
    "spark"
   ]
  },
  {
   "cell_type": "code",
   "execution_count": null,
   "id": "73232818-5e56-4799-96bd-58bfe1061550",
   "metadata": {},
   "outputs": [
    {
     "name": "stdout",
     "output_type": "stream",
     "text": [
      "root\n",
      " |-- ID: string (nullable = true)\n",
      " |-- NAME: string (nullable = true)\n",
      " |-- AGE: long (nullable = true)\n",
      " |-- DOB: string (nullable = true)\n",
      "\n"
     ]
    },
    {
     "name": "stderr",
     "output_type": "stream",
     "text": [
      "[Stage 1:>                                                          (0 + 1) / 1]\r"
     ]
    },
    {
     "name": "stdout",
     "output_type": "stream",
     "text": [
      "+----+------+---+----------+\n",
      "|ID  |NAME  |AGE|DOB       |\n",
      "+----+------+---+----------+\n",
      "|C101|Akshay|21 |22-10-2001|\n",
      "|C102|Sivay |20 |07-09-2000|\n",
      "|C103|Aslam |23 |04-05-1998|\n",
      "+----+------+---+----------+\n",
      "\n"
     ]
    },
    {
     "name": "stderr",
     "output_type": "stream",
     "text": [
      "                                                                                \r"
     ]
    }
   ],
   "source": [
    "# Example DataFrame 1\n",
    "_data = [\n",
    "    [\"C101\", \"Akshay\", 21, \"22-10-2001\"],\n",
    "    [\"C102\", \"Sivay\", 20, \"07-09-2000\"],\n",
    "    [\"C103\", \"Aslam\", 23, \"04-05-1998\"],\n",
    "]\n",
    "\n",
    "_cols = [\"ID\", \"NAME\", \"AGE\", \"DOB\"]\n",
    "\n",
    "df_1 = spark.createDataFrame(data=_data, schema=_cols)\n",
    "df_1.printSchema()\n",
    "df_1.show(10, False)"
   ]
  },
  {
   "cell_type": "code",
   "execution_count": null,
   "id": "2cc3141d-2b20-4ba5-8f55-25a88727c467",
   "metadata": {},
   "outputs": [
    {
     "name": "stdout",
     "output_type": "stream",
     "text": [
      "root\n",
      " |-- ID: string (nullable = true)\n",
      " |-- NAME: string (nullable = true)\n",
      " |-- ADDRESS: string (nullable = true)\n",
      " |-- SUBJECTS: array (nullable = true)\n",
      " |    |-- element: string (containsNull = true)\n",
      "\n",
      "+----+----+-------+-------------------------+\n",
      "|ID  |NAME|ADDRESS|SUBJECTS                 |\n",
      "+----+----+-------+-------------------------+\n",
      "|C106|Suku|Indore |[Maths, English]         |\n",
      "|C110|Jack|Mumbai |[Maths, English, Science]|\n",
      "|C113|Gopi|Rajkot |[Social Science]         |\n",
      "+----+----+-------+-------------------------+\n",
      "\n"
     ]
    }
   ],
   "source": [
    "# Example DataFrame 2\n",
    "_data = [\n",
    "    [\"C106\", \"Suku\", \"Indore\", [\"Maths\", \"English\"]],\n",
    "    [\"C110\", \"Jack\", \"Mumbai\", [\"Maths\", \"English\", \"Science\"]],\n",
    "    [\"C113\", \"Gopi\", \"Rajkot\", [\"Social Science\"]],\n",
    "]\n",
    "\n",
    "_cols = [\"ID\", \"NAME\", \"ADDRESS\", \"SUBJECTS\"]\n",
    "\n",
    "df_2 = spark.createDataFrame(data=_data, schema=_cols)\n",
    "df_2.printSchema()\n",
    "df_2.show(10, False)"
   ]
  },
  {
   "cell_type": "code",
   "execution_count": 4,
   "id": "1c2c9219-19d9-4e1f-a3f6-f7fdffc62670",
   "metadata": {},
   "outputs": [
    {
     "ename": "AnalysisException",
     "evalue": "Cannot resolve column name \"AGE\" among (ID, NAME, ADDRESS, SUBJECTS).",
     "output_type": "error",
     "traceback": [
      "\u001b[0;31m---------------------------------------------------------------------------\u001b[0m",
      "\u001b[0;31mAnalysisException\u001b[0m                         Traceback (most recent call last)",
      "Cell \u001b[0;32mIn[4], line 3\u001b[0m\n\u001b[1;32m      1\u001b[0m \u001b[38;5;66;03m# Lets do union with different schemas\u001b[39;00m\n\u001b[0;32m----> 3\u001b[0m df \u001b[38;5;241m=\u001b[39m \u001b[43mdf_1\u001b[49m\u001b[38;5;241;43m.\u001b[39;49m\u001b[43munionByName\u001b[49m\u001b[43m(\u001b[49m\u001b[43mdf_2\u001b[49m\u001b[43m)\u001b[49m\n",
      "File \u001b[0;32m/opt/conda/lib/python3.11/site-packages/pyspark/sql/dataframe.py:3759\u001b[0m, in \u001b[0;36mDataFrame.unionByName\u001b[0;34m(self, other, allowMissingColumns)\u001b[0m\n\u001b[1;32m   3703\u001b[0m \u001b[38;5;28;01mdef\u001b[39;00m \u001b[38;5;21munionByName\u001b[39m(\u001b[38;5;28mself\u001b[39m, other: \u001b[38;5;124m\"\u001b[39m\u001b[38;5;124mDataFrame\u001b[39m\u001b[38;5;124m\"\u001b[39m, allowMissingColumns: \u001b[38;5;28mbool\u001b[39m \u001b[38;5;241m=\u001b[39m \u001b[38;5;28;01mFalse\u001b[39;00m) \u001b[38;5;241m-\u001b[39m\u001b[38;5;241m>\u001b[39m \u001b[38;5;124m\"\u001b[39m\u001b[38;5;124mDataFrame\u001b[39m\u001b[38;5;124m\"\u001b[39m:\n\u001b[1;32m   3704\u001b[0m \u001b[38;5;250m    \u001b[39m\u001b[38;5;124;03m\"\"\"Returns a new :class:`DataFrame` containing union of rows in this and another\u001b[39;00m\n\u001b[1;32m   3705\u001b[0m \u001b[38;5;124;03m    :class:`DataFrame`.\u001b[39;00m\n\u001b[1;32m   3706\u001b[0m \n\u001b[0;32m   (...)\u001b[0m\n\u001b[1;32m   3757\u001b[0m \u001b[38;5;124;03m    +----+----+----+----+\u001b[39;00m\n\u001b[1;32m   3758\u001b[0m \u001b[38;5;124;03m    \"\"\"\u001b[39;00m\n\u001b[0;32m-> 3759\u001b[0m     \u001b[38;5;28;01mreturn\u001b[39;00m DataFrame(\u001b[38;5;28;43mself\u001b[39;49m\u001b[38;5;241;43m.\u001b[39;49m\u001b[43m_jdf\u001b[49m\u001b[38;5;241;43m.\u001b[39;49m\u001b[43munionByName\u001b[49m\u001b[43m(\u001b[49m\u001b[43mother\u001b[49m\u001b[38;5;241;43m.\u001b[39;49m\u001b[43m_jdf\u001b[49m\u001b[43m,\u001b[49m\u001b[43m \u001b[49m\u001b[43mallowMissingColumns\u001b[49m\u001b[43m)\u001b[49m, \u001b[38;5;28mself\u001b[39m\u001b[38;5;241m.\u001b[39msparkSession)\n",
      "File \u001b[0;32m/opt/conda/lib/python3.11/site-packages/py4j/java_gateway.py:1322\u001b[0m, in \u001b[0;36mJavaMember.__call__\u001b[0;34m(self, *args)\u001b[0m\n\u001b[1;32m   1316\u001b[0m command \u001b[38;5;241m=\u001b[39m proto\u001b[38;5;241m.\u001b[39mCALL_COMMAND_NAME \u001b[38;5;241m+\u001b[39m\\\n\u001b[1;32m   1317\u001b[0m     \u001b[38;5;28mself\u001b[39m\u001b[38;5;241m.\u001b[39mcommand_header \u001b[38;5;241m+\u001b[39m\\\n\u001b[1;32m   1318\u001b[0m     args_command \u001b[38;5;241m+\u001b[39m\\\n\u001b[1;32m   1319\u001b[0m     proto\u001b[38;5;241m.\u001b[39mEND_COMMAND_PART\n\u001b[1;32m   1321\u001b[0m answer \u001b[38;5;241m=\u001b[39m \u001b[38;5;28mself\u001b[39m\u001b[38;5;241m.\u001b[39mgateway_client\u001b[38;5;241m.\u001b[39msend_command(command)\n\u001b[0;32m-> 1322\u001b[0m return_value \u001b[38;5;241m=\u001b[39m \u001b[43mget_return_value\u001b[49m\u001b[43m(\u001b[49m\n\u001b[1;32m   1323\u001b[0m \u001b[43m    \u001b[49m\u001b[43manswer\u001b[49m\u001b[43m,\u001b[49m\u001b[43m \u001b[49m\u001b[38;5;28;43mself\u001b[39;49m\u001b[38;5;241;43m.\u001b[39;49m\u001b[43mgateway_client\u001b[49m\u001b[43m,\u001b[49m\u001b[43m \u001b[49m\u001b[38;5;28;43mself\u001b[39;49m\u001b[38;5;241;43m.\u001b[39;49m\u001b[43mtarget_id\u001b[49m\u001b[43m,\u001b[49m\u001b[43m \u001b[49m\u001b[38;5;28;43mself\u001b[39;49m\u001b[38;5;241;43m.\u001b[39;49m\u001b[43mname\u001b[49m\u001b[43m)\u001b[49m\n\u001b[1;32m   1325\u001b[0m \u001b[38;5;28;01mfor\u001b[39;00m temp_arg \u001b[38;5;129;01min\u001b[39;00m temp_args:\n\u001b[1;32m   1326\u001b[0m     \u001b[38;5;28;01mif\u001b[39;00m \u001b[38;5;28mhasattr\u001b[39m(temp_arg, \u001b[38;5;124m\"\u001b[39m\u001b[38;5;124m_detach\u001b[39m\u001b[38;5;124m\"\u001b[39m):\n",
      "File \u001b[0;32m/opt/conda/lib/python3.11/site-packages/pyspark/errors/exceptions/captured.py:175\u001b[0m, in \u001b[0;36mcapture_sql_exception.<locals>.deco\u001b[0;34m(*a, **kw)\u001b[0m\n\u001b[1;32m    171\u001b[0m converted \u001b[38;5;241m=\u001b[39m convert_exception(e\u001b[38;5;241m.\u001b[39mjava_exception)\n\u001b[1;32m    172\u001b[0m \u001b[38;5;28;01mif\u001b[39;00m \u001b[38;5;129;01mnot\u001b[39;00m \u001b[38;5;28misinstance\u001b[39m(converted, UnknownException):\n\u001b[1;32m    173\u001b[0m     \u001b[38;5;66;03m# Hide where the exception came from that shows a non-Pythonic\u001b[39;00m\n\u001b[1;32m    174\u001b[0m     \u001b[38;5;66;03m# JVM exception message.\u001b[39;00m\n\u001b[0;32m--> 175\u001b[0m     \u001b[38;5;28;01mraise\u001b[39;00m converted \u001b[38;5;28;01mfrom\u001b[39;00m \u001b[38;5;28;01mNone\u001b[39;00m\n\u001b[1;32m    176\u001b[0m \u001b[38;5;28;01melse\u001b[39;00m:\n\u001b[1;32m    177\u001b[0m     \u001b[38;5;28;01mraise\u001b[39;00m\n",
      "\u001b[0;31mAnalysisException\u001b[0m: Cannot resolve column name \"AGE\" among (ID, NAME, ADDRESS, SUBJECTS)."
     ]
    }
   ],
   "source": [
    "# Lets do union with different schemas\n",
    "\n",
    "df = df_1.unionByName(df_2)"
   ]
  },
  {
   "cell_type": "code",
   "execution_count": null,
   "id": "c2da84cf-1cfe-425c-a095-702f8214f8cd",
   "metadata": {},
   "outputs": [
    {
     "name": "stdout",
     "output_type": "stream",
     "text": [
      "+----+------+---+----------+-------+--------+\n",
      "|  ID|  NAME|AGE|       DOB|ADDRESS|SUBJECTS|\n",
      "+----+------+---+----------+-------+--------+\n",
      "|C101|Akshay| 21|22-10-2001|   null|    null|\n",
      "|C102| Sivay| 20|07-09-2000|   null|    null|\n",
      "|C103| Aslam| 23|04-05-1998|   null|    null|\n",
      "+----+------+---+----------+-------+--------+\n",
      "\n",
      "+----+----+-------+--------------------+----+----+\n",
      "|  ID|NAME|ADDRESS|            SUBJECTS| AGE| DOB|\n",
      "+----+----+-------+--------------------+----+----+\n",
      "|C106|Suku| Indore|    [Maths, English]|null|null|\n",
      "|C110|Jack| Mumbai|[Maths, English, ...|null|null|\n",
      "|C113|Gopi| Rajkot|    [Social Science]|null|null|\n",
      "+----+----+-------+--------------------+----+----+\n",
      "\n"
     ]
    }
   ],
   "source": [
    "# Now before we can merge the dataframes we have to add the extra columns from either dataframes\n",
    "from pyspark.sql.functions import lit\n",
    "\n",
    "# Lets add missing columns from df_2 to df_1\n",
    "for col in df_2.columns:\n",
    "    if col not in df_1.columns:\n",
    "        df_1 = df_1.withColumn(col, lit(None))\n",
    "\n",
    "# Lets add missing columns from df_1 to df_2\n",
    "for col in df_1.columns:\n",
    "    if col not in df_2.columns:\n",
    "        df_2 = df_2.withColumn(col, lit(None))\n",
    "\n",
    "# View the dataframes\n",
    "df_1.show()\n",
    "df_2.show()"
   ]
  },
  {
   "cell_type": "code",
   "execution_count": 6,
   "id": "37da3ff5-6741-4963-a0af-1c3a994cffe6",
   "metadata": {},
   "outputs": [
    {
     "name": "stdout",
     "output_type": "stream",
     "text": [
      "root\n",
      " |-- ID: string (nullable = true)\n",
      " |-- NAME: string (nullable = true)\n",
      " |-- AGE: long (nullable = true)\n",
      " |-- DOB: string (nullable = true)\n",
      " |-- ADDRESS: string (nullable = true)\n",
      " |-- SUBJECTS: array (nullable = true)\n",
      " |    |-- element: string (containsNull = true)\n",
      "\n",
      "+----+------+----+----------+-------+-------------------------+\n",
      "|ID  |NAME  |AGE |DOB       |ADDRESS|SUBJECTS                 |\n",
      "+----+------+----+----------+-------+-------------------------+\n",
      "|C101|Akshay|21  |22-10-2001|null   |null                     |\n",
      "|C102|Sivay |20  |07-09-2000|null   |null                     |\n",
      "|C103|Aslam |23  |04-05-1998|null   |null                     |\n",
      "|C106|Suku  |null|null      |Indore |[Maths, English]         |\n",
      "|C110|Jack  |null|null      |Mumbai |[Maths, English, Science]|\n",
      "|C113|Gopi  |null|null      |Rajkot |[Social Science]         |\n",
      "+----+------+----+----------+-------+-------------------------+\n",
      "\n"
     ]
    }
   ],
   "source": [
    "# Lets use unionByName to do the merge successfully\n",
    "df = df_1.unionByName(df_2)\n",
    "df.printSchema()\n",
    "df.show(10, False)"
   ]
  },
  {
   "cell_type": "code",
   "execution_count": 7,
   "id": "827b33ef-3a1a-4af7-9d16-e207ca43a819",
   "metadata": {},
   "outputs": [],
   "source": [
    "spark.stop()"
   ]
  },
  {
   "cell_type": "code",
   "execution_count": null,
   "id": "ddbc4b0e-bb8f-4299-9a06-e6bcb2d07b06",
   "metadata": {},
   "outputs": [],
   "source": []
  }
 ],
 "metadata": {
  "kernelspec": {
   "display_name": "Python 3 (ipykernel)",
   "language": "python",
   "name": "python3"
  },
  "language_info": {
   "codemirror_mode": {
    "name": "ipython",
    "version": 3
   },
   "file_extension": ".py",
   "mimetype": "text/x-python",
   "name": "python",
   "nbconvert_exporter": "python",
   "pygments_lexer": "ipython3",
   "version": "3.11.6"
  }
 },
 "nbformat": 4,
 "nbformat_minor": 5
}
