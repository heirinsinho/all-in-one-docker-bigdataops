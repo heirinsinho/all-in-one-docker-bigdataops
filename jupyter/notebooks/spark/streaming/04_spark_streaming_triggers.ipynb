{
 "cells": [
  {
   "cell_type": "code",
   "execution_count": null,
   "id": "428a1693-6c4d-423f-a176-13c4345c885c",
   "metadata": {
    "tags": []
   },
   "outputs": [
    {
     "name": "stderr",
     "output_type": "stream",
     "text": [
      "24/12/02 17:14:21 WARN NativeCodeLoader: Unable to load native-hadoop library for your platform... using builtin-java classes where applicable\n",
      "Setting default log level to \"WARN\".\n",
      "To adjust logging level use sc.setLogLevel(newLevel). For SparkR, use setLogLevel(newLevel).\n"
     ]
    },
    {
     "data": {
      "text/html": [
       "\n",
       "            <div>\n",
       "                <p><b>SparkSession - in-memory</b></p>\n",
       "                \n",
       "        <div>\n",
       "            <p><b>SparkContext</b></p>\n",
       "\n",
       "            <p><a href=\"http://5f47fc15bb7a:4040\">Spark UI</a></p>\n",
       "\n",
       "            <dl>\n",
       "              <dt>Version</dt>\n",
       "                <dd><code>v3.4.4</code></dd>\n",
       "              <dt>Master</dt>\n",
       "                <dd><code>spark://spark-master:7077</code></dd>\n",
       "              <dt>AppName</dt>\n",
       "                <dd><code>Triggers in Spark Streaming</code></dd>\n",
       "            </dl>\n",
       "        </div>\n",
       "        \n",
       "            </div>\n",
       "        "
      ],
      "text/plain": [
       "<pyspark.sql.session.SparkSession at 0x7f92cc46bbd0>"
      ]
     },
     "execution_count": 1,
     "metadata": {},
     "output_type": "execute_result"
    }
   ],
   "source": [
    "# Create the Spark Session\n",
    "import pyspark\n",
    "from pyspark.sql import SparkSession\n",
    "\n",
    "spark = (\n",
    "    SparkSession.builder.appName(\"Triggers in Spark Streaming\")\n",
    "    .config(\n",
    "        \"spark.streaming.stopGracefullyOnShutdown\", True\n",
    "    )  # Even if we manually stop de job, it continues processing\n",
    "    .config(\n",
    "        \"spark.jars\",\n",
    "        f\"/opt/spark/jars/spark-sql-kafka-0-10_2.12-{pyspark.__version__}.jar\",\n",
    "    )\n",
    "    .config(\"spark.sql.shuffle.partitions\", 8)\n",
    "    .master(\"spark://spark-master:7077\")\n",
    "    .getOrCreate()\n",
    ")\n",
    "\n",
    "spark"
   ]
  },
  {
   "cell_type": "code",
   "execution_count": null,
   "id": "56ee70c4-9260-4bcf-82f1-acff3f39ce06",
   "metadata": {
    "tags": []
   },
   "outputs": [],
   "source": [
    "# Create the kafka_df to read from kafka\n",
    "\n",
    "kafka_df = (\n",
    "    spark.readStream.format(\"kafka\")\n",
    "    .option(\"kafka.bootstrap.servers\", \"kafka:9092\")\n",
    "    .option(\"subscribe\", \"device-data\")\n",
    "    .option(\"startingOffsets\", \"earliest\")\n",
    "    # .option(\"maxOffsetsPerTrigger\", \"1\") # we limit the number of records per micro batch\n",
    "    .load()\n",
    ")"
   ]
  },
  {
   "cell_type": "code",
   "execution_count": 3,
   "id": "598b5259-af79-4ccc-91a2-a8e1e3a2c186",
   "metadata": {},
   "outputs": [],
   "source": [
    "from utils import flatten_df\n",
    "\n",
    "flattened_df = flatten_df(kafka_df)"
   ]
  },
  {
   "cell_type": "code",
   "execution_count": null,
   "id": "be1a2511-13c6-4edf-972e-51b4c0a0f78e",
   "metadata": {},
   "outputs": [
    {
     "name": "stderr",
     "output_type": "stream",
     "text": [
      "24/12/02 17:14:32 WARN ResolveWriteToStream: Temporary checkpoint location created which is deleted normally when the query didn't fail: /tmp/temporary-3b422c91-7fdd-413c-83ea-a08345e74b8b. If it's required to delete it under any circumstances, please set spark.sql.streaming.forceDeleteTempCheckpointLocation to true. Important to know deleting temp checkpoint folder is best effort.\n",
      "24/12/02 17:14:32 WARN ResolveWriteToStream: spark.sql.adaptive.enabled is not supported in streaming DataFrames/Datasets and will be disabled.\n",
      "24/12/02 17:14:33 WARN AdminClientConfig: These configurations '[key.deserializer, value.deserializer, enable.auto.commit, max.poll.records, auto.offset.reset]' were supplied but are not used yet.\n",
      "                                                                                \r"
     ]
    }
   ],
   "source": [
    "# PROCESSING TIME 10 SECONDS\n",
    "\n",
    "(\n",
    "    flattened_df.writeStream.queryName(\"kafka_table\")\n",
    "    .format(\"memory\")\n",
    "    .outputMode(\"append\")\n",
    "    .trigger(availableNow=True)\n",
    "    # .option(\"checkpointLocation\", f\"/home/jovyan/streaming_checkpoint_dir/{spark.sparkContext.appName.replace(' ', '_')}\")\n",
    "    .start()\n",
    "    .awaitTermination()\n",
    ")"
   ]
  },
  {
   "cell_type": "code",
   "execution_count": 5,
   "id": "9f96bf6d-140a-470f-93d8-139d1a5944dd",
   "metadata": {},
   "outputs": [
    {
     "name": "stderr",
     "output_type": "stream",
     "text": [
      "[Stage 1:>                                                          (0 + 1) / 1]\r"
     ]
    },
    {
     "name": "stdout",
     "output_type": "stream",
     "text": [
      "+----------+--------------------+-----------+--------------+--------------------+--------+-------+-------+-----------+\n",
      "|customerId|             eventId|eventOffset|eventPublisher|           eventTime|deviceId|measure| status|temperature|\n",
      "+----------+--------------------+-----------+--------------+--------------------+--------+-------+-------+-----------+\n",
      "|   CI00103|e3cb26d3-41b2-49a...|      10001|        device|2023-01-05 11:13:...|    D001|      C|  ERROR|         15|\n",
      "|   CI00103|e3cb26d3-41b2-49a...|      10001|        device|2023-01-05 11:13:...|    D002|      C|SUCCESS|         16|\n",
      "|   CI00108|aa90011f-3967-496...|      10003|        device|2023-01-05 11:13:...|    D004|      C|SUCCESS|         16|\n",
      "|   CI00106|804e8fa3-307b-482...|      10005|        device|2023-01-05 11:13:...|    D002|      C|  ERROR|         30|\n",
      "|   CI00106|804e8fa3-307b-482...|      10005|        device|2023-01-05 11:13:...|    D001|      C|STANDBY|         10|\n",
      "|   CI00106|804e8fa3-307b-482...|      10005|        device|2023-01-05 11:13:...|    D001|      C|SUCCESS|          6|\n",
      "|   CI00119|1c8d9682-56f0-4c3...|      10007|        device|2023-01-05 11:13:...|    D002|      C|  ERROR|         15|\n",
      "|   CI00119|1c8d9682-56f0-4c3...|      10007|        device|2023-01-05 11:13:...|    D002|      C|SUCCESS|         12|\n",
      "|   CI00117|fc625d0e-06c2-46b...|      10008|        device|2023-01-05 11:13:...|    D003|      C|  ERROR|          6|\n",
      "|   CI00117|fc625d0e-06c2-46b...|      10008|        device|2023-01-05 11:13:...|    D001|      C|  ERROR|         19|\n",
      "|   CI00117|fc625d0e-06c2-46b...|      10008|        device|2023-01-05 11:13:...|    D005|      C|  ERROR|          0|\n",
      "|   CI00100|7dba5625-33e9-4d9...|      10009|        device|2023-01-05 11:13:...|    D003|      C|STANDBY|         27|\n",
      "|   CI00100|7dba5625-33e9-4d9...|      10009|        device|2023-01-05 11:13:...|    D001|      C|SUCCESS|         24|\n",
      "|   CI00118|209cab2d-7934-4ad...|      10010|        device|2023-01-05 11:13:...|    D002|      C|SUCCESS|         27|\n",
      "|   CI00118|209cab2d-7934-4ad...|      10010|        device|2023-01-05 11:13:...|    D005|      C|STANDBY|         23|\n",
      "|   CI00117|7146c4a8-54ed-407...|      10012|        device|2023-01-05 11:13:...|    D002|      C|SUCCESS|          5|\n",
      "|   CI00103|1ff547fd-e335-457...|      10013|        device|2023-01-05 11:13:...|    D004|      C|SUCCESS|         23|\n",
      "|   CI00109|692e9999-1110-444...|      10014|        device|2023-01-05 11:13:...|    D003|      C|  ERROR|         18|\n",
      "|   CI00104|cb8a6a8f-89c9-498...|      10017|        device|2023-01-05 11:13:...|    D004|      C|STANDBY|          5|\n",
      "|   CI00104|cb8a6a8f-89c9-498...|      10017|        device|2023-01-05 11:13:...|    D004|      C|SUCCESS|         22|\n",
      "+----------+--------------------+-----------+--------------+--------------------+--------+-------+-------+-----------+\n",
      "only showing top 20 rows\n",
      "\n"
     ]
    },
    {
     "name": "stderr",
     "output_type": "stream",
     "text": [
      "                                                                                \r"
     ]
    }
   ],
   "source": [
    "# View data from Memory Sink\n",
    "spark.sql(\"select * from kafka_table\").show()"
   ]
  },
  {
   "cell_type": "code",
   "execution_count": 6,
   "id": "2a7978a6-d6b8-483a-95a1-51a648ac00bc",
   "metadata": {},
   "outputs": [],
   "source": [
    "spark.stop()"
   ]
  },
  {
   "cell_type": "code",
   "execution_count": null,
   "id": "e3fad5dd-3cbd-4672-aa16-7a7b5a2363d6",
   "metadata": {},
   "outputs": [],
   "source": []
  }
 ],
 "metadata": {
  "kernelspec": {
   "display_name": "Python 3 (ipykernel)",
   "language": "python",
   "name": "python3"
  },
  "language_info": {
   "codemirror_mode": {
    "name": "ipython",
    "version": 3
   },
   "file_extension": ".py",
   "mimetype": "text/x-python",
   "name": "python",
   "nbconvert_exporter": "python",
   "pygments_lexer": "ipython3",
   "version": "3.11.6"
  }
 },
 "nbformat": 4,
 "nbformat_minor": 5
}
