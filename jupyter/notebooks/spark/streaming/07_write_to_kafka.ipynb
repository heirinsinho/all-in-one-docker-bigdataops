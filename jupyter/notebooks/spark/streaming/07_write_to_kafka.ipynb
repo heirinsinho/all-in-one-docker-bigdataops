{
 "cells": [
  {
   "cell_type": "code",
   "execution_count": null,
   "id": "20c65853-e887-4fe4-801c-db178a8e701b",
   "metadata": {},
   "outputs": [],
   "source": [
    "from pyspark.sql import SparkSession\n",
    "\n",
    "spark = (\n",
    "    SparkSession.builder.appName(\"Streaming write to Kafka\")\n",
    "    .master(\"spark://spark-master:7077\")\n",
    "    .getOrCreate()\n",
    ")\n",
    "\n",
    "spark"
   ]
  },
  {
   "cell_type": "code",
   "execution_count": null,
   "id": "842b95c3-4fd6-4ed6-95ba-4e5b0e5a2d79",
   "metadata": {},
   "outputs": [],
   "source": [
    "# Rates a spark monotonically increasing id dataframe with a rate of 1/second\n",
    "df_streaming = spark.readStream.format(\"rate\").load()"
   ]
  },
  {
   "cell_type": "code",
   "execution_count": null,
   "id": "ca695a16-20f7-4ed6-92f0-762f79331542",
   "metadata": {},
   "outputs": [],
   "source": [
    "df_streaming.printSchema()"
   ]
  },
  {
   "cell_type": "code",
   "execution_count": null,
   "id": "034f9377-ec9a-4a5e-a1eb-0a546698a55c",
   "metadata": {},
   "outputs": [],
   "source": [
    "from pyspark.sql import functions as F\n",
    "\n",
    "df_streaming = df_streaming.withColumn(\"value\", F.expr(\"cast(value as string)\"))"
   ]
  },
  {
   "cell_type": "code",
   "execution_count": null,
   "id": "f81476dd-28cd-4981-84b8-48802efc5246",
   "metadata": {},
   "outputs": [],
   "source": [
    "df_streaming.writeStream.format(\"kafka\").option(\n",
    "    \"kafka.bootstrap.servers\", \"kafka:9092\"\n",
    ").option(\"topic\", \"rate\").outputMode(\"append\").option(\n",
    "    \"checkpointLocation\",\n",
    "    f\"/home/jovyan/streaming_checkpoint_dir/{spark.sparkContext.appName.replace(' ', '_')}\",\n",
    ").start().awaitTermination()"
   ]
  },
  {
   "cell_type": "code",
   "execution_count": null,
   "id": "0df10693-a469-46f9-8333-a23b24b52041",
   "metadata": {},
   "outputs": [],
   "source": [
    "spark.stop()"
   ]
  },
  {
   "cell_type": "code",
   "execution_count": null,
   "id": "af6e84c5-fe82-4504-b4ce-dd8ebd1ed190",
   "metadata": {},
   "outputs": [],
   "source": []
  }
 ],
 "metadata": {
  "kernelspec": {
   "display_name": "Python 3 (ipykernel)",
   "language": "python",
   "name": "python3"
  },
  "language_info": {
   "codemirror_mode": {
    "name": "ipython",
    "version": 3
   },
   "file_extension": ".py",
   "mimetype": "text/x-python",
   "name": "python",
   "nbconvert_exporter": "python",
   "pygments_lexer": "ipython3",
   "version": "3.11.6"
  }
 },
 "nbformat": 4,
 "nbformat_minor": 5
}
