{
 "cells": [
  {
   "cell_type": "code",
   "execution_count": null,
   "id": "6c2e0cab-c1a9-4124-8c4d-511d0a239f3c",
   "metadata": {},
   "outputs": [],
   "source": [
    "# Create the Spark Session\n",
    "import pyspark\n",
    "from pyspark.sql import SparkSession\n",
    "\n",
    "spark = (\n",
    "    SparkSession.builder.appName(\"Window Operations and Watermarks\")\n",
    "    .config(\"spark.streaming.stopGracefullyOnShutdown\", True)\n",
    "    .config(\"spark.sql.shuffle.partitions\", 8)\n",
    "    .master(\"spark://spark-master:7077\")\n",
    "    .getOrCreate()\n",
    ")\n",
    "\n",
    "spark"
   ]
  },
  {
   "cell_type": "code",
   "execution_count": null,
   "id": "3c01cfaf-62cc-4ff3-9084-819c604a5076",
   "metadata": {},
   "outputs": [],
   "source": [
    "# Create the kafka_df to read from kafka\n",
    "\n",
    "kafka_df = (\n",
    "    spark.readStream.format(\"kafka\")\n",
    "    .option(\"kafka.bootstrap.servers\", \"kafka:9092\")\n",
    "    .option(\"subscribe\", \"words\")\n",
    "    .option(\"startingOffsets\", \"earliest\")\n",
    "    .option(\"maxOffsetsPerTrigger\", \"1\")\n",
    "    .load()\n",
    ")"
   ]
  },
  {
   "cell_type": "code",
   "execution_count": null,
   "id": "5c6bc96d-a67c-4d92-bfe5-ca99470d9431",
   "metadata": {},
   "outputs": [],
   "source": [
    "# Convert binary to string value column\n",
    "from pyspark.sql import functions as F\n",
    "\n",
    "kafka_json_df = kafka_df.withColumn(\"value\", F.expr(\"cast(value as string)\"))"
   ]
  },
  {
   "cell_type": "code",
   "execution_count": null,
   "id": "ce7b9d81-f996-4378-89fe-fde34781a7c9",
   "metadata": {},
   "outputs": [],
   "source": [
    "# JSON Schema\n",
    "json_schema = \"event_time string, data string\"\n",
    "\n",
    "# Expand JSON from Value column using Schema\n",
    "json_df = kafka_json_df.withColumn(\n",
    "    \"values_json\", F.from_json(col(\"value\"), json_schema)\n",
    ")"
   ]
  },
  {
   "cell_type": "code",
   "execution_count": null,
   "id": "41709105-2372-494e-9f64-bac6936ad75e",
   "metadata": {},
   "outputs": [],
   "source": [
    "# Select the required columns\n",
    "\n",
    "flattened_df = json_df.select(\"values_json.event_time\", \"values_json.data\")"
   ]
  },
  {
   "cell_type": "code",
   "execution_count": null,
   "id": "db443ad1-dc6e-460d-99b7-5f5be30e69e6",
   "metadata": {},
   "outputs": [],
   "source": [
    "# Split the data in words\n",
    "\n",
    "words_df = (\n",
    "    flattened_df.withColumn(\"words\", F.split(\"data\", \" \"))\n",
    "    .withColumn(\"word\", F.explode(\"words\"))\n",
    "    .withColumn(\"event_time\", F.col(\"event_time\").cast(\"timestamp\"))\n",
    ")"
   ]
  },
  {
   "cell_type": "code",
   "execution_count": null,
   "id": "c0a71588-4ab4-47de-81ec-6b11bdf3fa16",
   "metadata": {},
   "outputs": [],
   "source": [
    "words_df.printSchema()"
   ]
  },
  {
   "cell_type": "code",
   "execution_count": null,
   "id": "ea2ffafd-38c6-4a1f-910f-9fd0cc3eab72",
   "metadata": {},
   "outputs": [],
   "source": [
    "# Aggregate the words to generate count\n",
    "from pyspark.sql.functions import count, lit, window\n",
    "\n",
    "df_agg = (\n",
    "    words_df.withWatermark(\"event_time\", \"10 minutes\")\n",
    "    .groupBy(F.window(\"event_time\", \"10 minutes\", \"5 minutes\"), \"word\")\n",
    "    .count()\n",
    ")"
   ]
  },
  {
   "cell_type": "code",
   "execution_count": null,
   "id": "a4ad0ea0-d774-491b-8ee7-a12b533baa75",
   "metadata": {},
   "outputs": [],
   "source": [
    "df_final = df_agg.selectExpr(\n",
    "    \"window.start as start_time\", \"window.end as end_time\", \"word\", \"count\"\n",
    ")"
   ]
  },
  {
   "cell_type": "code",
   "execution_count": null,
   "id": "1380d725-70bc-4f8d-a9ef-bf651cb098d3",
   "metadata": {},
   "outputs": [],
   "source": [
    "df_final.printSchema()"
   ]
  },
  {
   "cell_type": "code",
   "execution_count": null,
   "id": "461e32bd-4813-4006-a182-ff0d2cc5002f",
   "metadata": {},
   "outputs": [],
   "source": [
    "# In complete mode, watermark takes no effect\n",
    "\n",
    "(\n",
    "    df_final.writeStream.format(\"console\")\n",
    "    .outputMode(\"complete\")\n",
    "    .trigger(processingTime=\"5 seconds\")\n",
    "    .start()\n",
    "    .awaitTermination()\n",
    ")"
   ]
  },
  {
   "cell_type": "code",
   "execution_count": null,
   "id": "cab0412d-f930-4606-af8e-98e6533908a4",
   "metadata": {},
   "outputs": [],
   "source": [
    "(\n",
    "    df_final.writeStream.format(\"console\")\n",
    "    .outputMode(\"update\")\n",
    "    .trigger(processingTime=\"5 seconds\")\n",
    "    .start()\n",
    "    .awaitTermination()\n",
    ")"
   ]
  },
  {
   "cell_type": "code",
   "execution_count": null,
   "id": "b15b7840-795b-420f-b46a-1e3ffa4feb95",
   "metadata": {},
   "outputs": [],
   "source": [
    "spark.stop()"
   ]
  },
  {
   "cell_type": "code",
   "execution_count": null,
   "id": "0bcf239b-5d82-42ed-ba96-10e52cb3038d",
   "metadata": {},
   "outputs": [],
   "source": []
  }
 ],
 "metadata": {
  "kernelspec": {
   "display_name": "Python 3 (ipykernel)",
   "language": "python",
   "name": "python3"
  },
  "language_info": {
   "codemirror_mode": {
    "name": "ipython",
    "version": 3
   },
   "file_extension": ".py",
   "mimetype": "text/x-python",
   "name": "python",
   "nbconvert_exporter": "python",
   "pygments_lexer": "ipython3",
   "version": "3.11.6"
  }
 },
 "nbformat": 4,
 "nbformat_minor": 5
}
