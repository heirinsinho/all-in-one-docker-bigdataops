{
 "cells": [
  {
   "cell_type": "code",
   "execution_count": null,
   "id": "3fca8f91-be42-4bd2-981f-edf0516a7f61",
   "metadata": {},
   "outputs": [],
   "source": [
    "# Generate Spark Session\n",
    "from pyspark.sql import SparkSession\n",
    "\n",
    "spark = (\n",
    "    SparkSession.builder.appName(\"Reading from Sockets\")\n",
    "    .config(\"spark.sql.streaming.forceDeleteTempCheckpointLocation\", True)\n",
    "    .master(\"spark://spark-master:7077\")\n",
    "    .getOrCreate()\n",
    ")\n",
    "\n",
    "spark"
   ]
  },
  {
   "cell_type": "code",
   "execution_count": null,
   "id": "d9820083-8b80-4522-9b5f-07ff0e88f6e5",
   "metadata": {},
   "outputs": [],
   "source": [
    "spark.conf.set(\"spark.sql.streaming.forceDeleteTempCheckpointLocation\", True)\n",
    "\n",
    "# AQE DOES NOT WORK FOR STREAMING APPLICATIONS\n",
    "spark.conf.set(\"spark.sql.adaptive.enabled\", False)\n",
    "spark.conf.set(\"spark.sql.adaptive.coalescePartitions.enabled\", False)\n",
    "\n",
    "# SEE DIFFERENCE IN PROCESSING TIME BY CHANGING THIS PARAMETER\n",
    "spark.conf.set(\"spark.sql.shuffle.partitions\", 1)"
   ]
  },
  {
   "cell_type": "code",
   "execution_count": null,
   "id": "a90b094c-fc2c-4802-a144-5e84f30c2005",
   "metadata": {},
   "outputs": [],
   "source": [
    "# IN A TERMINAL OF JUPYTER\n",
    "# ncat -l 9999\n",
    "# write lines of text + ENTER so spark receives them through the socket connection"
   ]
  },
  {
   "cell_type": "code",
   "execution_count": null,
   "id": "68b8bacd-a3fc-42a5-8374-465ef44f03dd",
   "metadata": {},
   "outputs": [],
   "source": [
    "# Read input data\n",
    "\n",
    "df_raw = (\n",
    "    spark.readStream.format(\"socket\")\n",
    "    .option(\"host\", \"localhost\")\n",
    "    .option(\"port\", \"9999\")\n",
    "    .load()\n",
    ")"
   ]
  },
  {
   "cell_type": "code",
   "execution_count": null,
   "id": "b2e5bc4a-89ff-4638-a898-0912f6018dac",
   "metadata": {},
   "outputs": [],
   "source": [
    "df_raw.printSchema()"
   ]
  },
  {
   "cell_type": "code",
   "execution_count": null,
   "id": "ad2a5bfd-85e4-42b0-997f-df9a9d8dcebf",
   "metadata": {},
   "outputs": [],
   "source": [
    "# Split the line into words\n",
    "from pyspark.sql import functions as F\n",
    "\n",
    "\n",
    "def process_df_words(df_raw):\n",
    "    df_words = df_raw.withColumn(\"words\", F.split(\"value\", \" \"))\n",
    "    df_explode = df_words.withColumn(\"word\", F.explode(\"words\")).drop(\"value\", \"words\")\n",
    "    df_agg = df_explode.groupBy(\"word\").count()\n",
    "    return df_agg"
   ]
  },
  {
   "cell_type": "code",
   "execution_count": null,
   "id": "a2f832f2-4b3c-4d51-9a7b-611b09aa1a61",
   "metadata": {},
   "outputs": [],
   "source": [
    "df_agg = process_df_words(df_raw)"
   ]
  },
  {
   "cell_type": "code",
   "execution_count": null,
   "id": "8a761167-620a-465b-9c4a-c023d451a601",
   "metadata": {},
   "outputs": [],
   "source": [
    "df_agg.printSchema()"
   ]
  },
  {
   "cell_type": "code",
   "execution_count": null,
   "id": "72752526-d38d-4e8c-b198-95884fa91662",
   "metadata": {},
   "outputs": [],
   "source": [
    "# Write the output to console streaming\n",
    "\n",
    "df_agg.writeStream.format(\"console\").outputMode(\"complete\").start().awaitTermination()"
   ]
  },
  {
   "cell_type": "code",
   "execution_count": 12,
   "id": "2caaf354-45ea-4a3b-8584-3c83726c0539",
   "metadata": {},
   "outputs": [],
   "source": [
    "spark.stop()"
   ]
  },
  {
   "cell_type": "code",
   "execution_count": null,
   "id": "a1400e4e-c2de-41aa-8c46-4b89fa57b468",
   "metadata": {},
   "outputs": [],
   "source": []
  }
 ],
 "metadata": {
  "kernelspec": {
   "display_name": "Python 3 (ipykernel)",
   "language": "python",
   "name": "python3"
  },
  "language_info": {
   "codemirror_mode": {
    "name": "ipython",
    "version": 3
   },
   "file_extension": ".py",
   "mimetype": "text/x-python",
   "name": "python",
   "nbconvert_exporter": "python",
   "pygments_lexer": "ipython3",
   "version": "3.11.6"
  }
 },
 "nbformat": 4,
 "nbformat_minor": 5
}
