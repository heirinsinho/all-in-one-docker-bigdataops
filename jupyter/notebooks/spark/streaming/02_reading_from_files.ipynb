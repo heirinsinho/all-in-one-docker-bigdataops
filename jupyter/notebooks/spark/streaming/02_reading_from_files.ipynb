{
 "cells": [
  {
   "cell_type": "code",
   "execution_count": null,
   "id": "428a1693-6c4d-423f-a176-13c4345c885c",
   "metadata": {},
   "outputs": [],
   "source": [
    "# Create the Spark Session\n",
    "from pyspark.sql import SparkSession\n",
    "\n",
    "spark = (\n",
    "    SparkSession.builder.appName(\"Streaming Process Files\")\n",
    "    .config(\"spark.streaming.stopGracefullyOnShutdown\", True)\n",
    "    .config(\"spark.sql.streaming.forceDeleteTempCheckpointLocation\", True)\n",
    "    .master(\"spark://spark-master:7077\")\n",
    "    .getOrCreate()\n",
    ")\n",
    "\n",
    "spark"
   ]
  },
  {
   "cell_type": "code",
   "execution_count": null,
   "id": "d0d45d43-4c87-4ad8-8546-e24334769b75",
   "metadata": {},
   "outputs": [],
   "source": [
    "# To allow automatic schemaInference while reading\n",
    "spark.conf.set(\"spark.sql.streaming.schemaInference\", True)\n",
    "\n",
    "# Create the streaming_df to read from input directory\n",
    "streaming_df = (\n",
    "    spark.readStream.option(\"cleanSource\", \"archive\")  # can be delete or archive.\n",
    "    .option(\n",
    "        \"sourceArchiveDir\", \"hdfs://namenode:9000/archive_dir/\"\n",
    "    )  # if cleanSource, archive -> archive directory\n",
    "    .option(\"maxFilesPerTrigger\", 1)\n",
    "    .format(\"json\")\n",
    "    .load(\"hdfs://namenode:9000/input/data/device_data/\")\n",
    ")"
   ]
  },
  {
   "cell_type": "code",
   "execution_count": null,
   "id": "fedb7898-c6b2-4be2-b92c-882502387568",
   "metadata": {},
   "outputs": [],
   "source": [
    "# To the schema of the data, place a sample json file and change readStream to read\n",
    "streaming_df.printSchema()\n",
    "# streaming_df.show(truncate=False)"
   ]
  },
  {
   "cell_type": "code",
   "execution_count": null,
   "id": "435ae57d-7ea9-4665-82bf-df895d4668ee",
   "metadata": {},
   "outputs": [],
   "source": [
    "# Lets explode the data as devices contains list/array of device reading\n",
    "from pyspark.sql import functions as F\n",
    "\n",
    "exploded_df = streaming_df.withColumn(\"data_devices\", F.explode(\"data.devices\"))\n",
    "exploded_df.printSchema()"
   ]
  },
  {
   "cell_type": "code",
   "execution_count": null,
   "id": "a79df30b-e9e2-4c15-9443-e0d9f6eead20",
   "metadata": {},
   "outputs": [],
   "source": [
    "# Flatten the exploded df\n",
    "from pyspark.sql.functions import col\n",
    "\n",
    "flattened_df = (\n",
    "    exploded_df.drop(\"data\")\n",
    "    .withColumn(\"deviceId\", F.col(\"data_devices.deviceId\"))\n",
    "    .withColumn(\"measure\", F.col(\"data_devices.measure\"))\n",
    "    .withColumn(\"status\", F.col(\"data_devices.status\"))\n",
    "    .withColumn(\"temperature\", F.col(\"data_devices.temperature\"))\n",
    "    .drop(\"data_devices\")\n",
    ")\n",
    "flattened_df.printSchema()"
   ]
  },
  {
   "cell_type": "code",
   "execution_count": null,
   "id": "be1a2511-13c6-4edf-972e-51b4c0a0f78e",
   "metadata": {},
   "outputs": [],
   "source": [
    "# Write the output to console sink to check the output\n",
    "\n",
    "(\n",
    "    flattened_df.writeStream.format(\"csv\")\n",
    "    .option(\"header\", True)\n",
    "    .outputMode(\"append\")\n",
    "    .option(\"path\", \"hdfs://namenode:9000/output/streaming/02/device_data\")\n",
    "    .option(\n",
    "        \"checkpointLocation\",\n",
    "        f\"/home/jovyan/streaming_checkpoint_dir/{spark.sparkContext.appName.replace(' ', '_')}\",\n",
    "    )\n",
    "    .start()\n",
    "    .awaitTermination()\n",
    ")"
   ]
  },
  {
   "cell_type": "code",
   "execution_count": null,
   "id": "3a8494d2-4b0f-4267-b7ef-818e0318fc7a",
   "metadata": {},
   "outputs": [],
   "source": [
    "# CHECK THE WRITTEN FILE\n",
    "\n",
    "df = (\n",
    "    spark.read.option(\"header\", True)\n",
    "    .option(\"inferSchema\", True)\n",
    "    .csv(\"hdfs://namenode:9000/output/streaming/02/device_data\")\n",
    ")\n",
    "df.show()"
   ]
  },
  {
   "cell_type": "code",
   "execution_count": null,
   "id": "2d0e067f-4794-4ef4-a347-429772142ea6",
   "metadata": {},
   "outputs": [],
   "source": [
    "spark.stop()"
   ]
  },
  {
   "cell_type": "code",
   "execution_count": null,
   "id": "9f96bf6d-140a-470f-93d8-139d1a5944dd",
   "metadata": {},
   "outputs": [],
   "source": []
  }
 ],
 "metadata": {
  "kernelspec": {
   "display_name": "Python 3 (ipykernel)",
   "language": "python",
   "name": "python3"
  },
  "language_info": {
   "codemirror_mode": {
    "name": "ipython",
    "version": 3
   },
   "file_extension": ".py",
   "mimetype": "text/x-python",
   "name": "python",
   "nbconvert_exporter": "python",
   "pygments_lexer": "ipython3",
   "version": "3.11.6"
  }
 },
 "nbformat": 4,
 "nbformat_minor": 5
}
